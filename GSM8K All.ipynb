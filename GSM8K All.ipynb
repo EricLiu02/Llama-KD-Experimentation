{
 "cells": [
  {
   "cell_type": "markdown",
   "metadata": {
    "id": "sNYs5SHX91y-"
   },
   "source": [
    "# ***LLaMA-3.2-3B (or other models) Eval on GSM8K***"
   ]
  },
  {
   "cell_type": "code",
   "execution_count": null,
   "metadata": {
    "executionInfo": {
     "elapsed": 19,
     "status": "ok",
     "timestamp": 1741936651269,
     "user": {
      "displayName": "Lisa Liu",
      "userId": "15421387329476686382"
     },
     "user_tz": 420
    },
    "id": "HNO2qsWmAROx"
   },
   "outputs": [],
   "source": [
    "import os\n",
    "os.environ[\"HF_TOKEN\"] = ###"
   ]
  },
  {
   "cell_type": "code",
   "execution_count": null,
   "metadata": {
    "executionInfo": {
     "elapsed": 27,
     "status": "ok",
     "timestamp": 1741936651477,
     "user": {
      "displayName": "Lisa Liu",
      "userId": "15421387329476686382"
     },
     "user_tz": 420
    },
    "id": "RBfJ0gL1SKqx"
   },
   "outputs": [],
   "source": [
    "import os\n",
    "os.environ[\"WANDB_API_KEY\"] = ###"
   ]
  },
  {
   "cell_type": "markdown",
   "metadata": {
    "id": "lWTvHPdxCKR0"
   },
   "source": [
    "**Change the following to desired parent folder. Google Drive should be mounted.**"
   ]
  },
  {
   "cell_type": "code",
   "execution_count": 3,
   "metadata": {
    "colab": {
     "base_uri": "https://localhost:8080/"
    },
    "executionInfo": {
     "elapsed": 23,
     "status": "ok",
     "timestamp": 1741936657210,
     "user": {
      "displayName": "Lisa Liu",
      "userId": "15421387329476686382"
     },
     "user_tz": 420
    },
    "id": "Yn7IV9pgA6t-",
    "outputId": "e7354730-acfd-48e7-a0ca-5ec30bcb16fe"
   },
   "outputs": [
    {
     "name": "stdout",
     "output_type": "stream",
     "text": [
      "/content/drive/MyDrive/Colab Notebooks\n"
     ]
    }
   ],
   "source": [
    "cd drive/MyDrive/Colab\\ Notebooks"
   ]
  },
  {
   "cell_type": "code",
   "execution_count": 4,
   "metadata": {
    "colab": {
     "base_uri": "https://localhost:8080/"
    },
    "collapsed": true,
    "executionInfo": {
     "elapsed": 73497,
     "status": "ok",
     "timestamp": 1741936734662,
     "user": {
      "displayName": "Lisa Liu",
      "userId": "15421387329476686382"
     },
     "user_tz": 420
    },
    "id": "FRiL_LkaHFun",
    "outputId": "1cefa037-de25-4ccf-d023-c644512584fc"
   },
   "outputs": [
    {
     "name": "stdout",
     "output_type": "stream",
     "text": [
      "Requirement already satisfied: transformers in /usr/local/lib/python3.11/dist-packages (4.48.3)\n",
      "Collecting datasets\n",
      "  Downloading datasets-3.3.2-py3-none-any.whl.metadata (19 kB)\n",
      "Requirement already satisfied: accelerate in /usr/local/lib/python3.11/dist-packages (1.3.0)\n",
      "Requirement already satisfied: filelock in /usr/local/lib/python3.11/dist-packages (from transformers) (3.17.0)\n",
      "Requirement already satisfied: huggingface-hub<1.0,>=0.24.0 in /usr/local/lib/python3.11/dist-packages (from transformers) (0.28.1)\n",
      "Requirement already satisfied: numpy>=1.17 in /usr/local/lib/python3.11/dist-packages (from transformers) (1.26.4)\n",
      "Requirement already satisfied: packaging>=20.0 in /usr/local/lib/python3.11/dist-packages (from transformers) (24.2)\n",
      "Requirement already satisfied: pyyaml>=5.1 in /usr/local/lib/python3.11/dist-packages (from transformers) (6.0.2)\n",
      "Requirement already satisfied: regex!=2019.12.17 in /usr/local/lib/python3.11/dist-packages (from transformers) (2024.11.6)\n",
      "Requirement already satisfied: requests in /usr/local/lib/python3.11/dist-packages (from transformers) (2.32.3)\n",
      "Requirement already satisfied: tokenizers<0.22,>=0.21 in /usr/local/lib/python3.11/dist-packages (from transformers) (0.21.0)\n",
      "Requirement already satisfied: safetensors>=0.4.1 in /usr/local/lib/python3.11/dist-packages (from transformers) (0.5.3)\n",
      "Requirement already satisfied: tqdm>=4.27 in /usr/local/lib/python3.11/dist-packages (from transformers) (4.67.1)\n",
      "Requirement already satisfied: pyarrow>=15.0.0 in /usr/local/lib/python3.11/dist-packages (from datasets) (18.1.0)\n",
      "Collecting dill<0.3.9,>=0.3.0 (from datasets)\n",
      "  Downloading dill-0.3.8-py3-none-any.whl.metadata (10 kB)\n",
      "Requirement already satisfied: pandas in /usr/local/lib/python3.11/dist-packages (from datasets) (2.2.2)\n",
      "Collecting xxhash (from datasets)\n",
      "  Downloading xxhash-3.5.0-cp311-cp311-manylinux_2_17_x86_64.manylinux2014_x86_64.whl.metadata (12 kB)\n",
      "Collecting multiprocess<0.70.17 (from datasets)\n",
      "  Downloading multiprocess-0.70.16-py311-none-any.whl.metadata (7.2 kB)\n",
      "Requirement already satisfied: fsspec<=2024.12.0,>=2023.1.0 in /usr/local/lib/python3.11/dist-packages (from fsspec[http]<=2024.12.0,>=2023.1.0->datasets) (2024.10.0)\n",
      "Requirement already satisfied: aiohttp in /usr/local/lib/python3.11/dist-packages (from datasets) (3.11.13)\n",
      "Requirement already satisfied: psutil in /usr/local/lib/python3.11/dist-packages (from accelerate) (5.9.5)\n",
      "Requirement already satisfied: torch>=2.0.0 in /usr/local/lib/python3.11/dist-packages (from accelerate) (2.5.1+cu124)\n",
      "Requirement already satisfied: aiohappyeyeballs>=2.3.0 in /usr/local/lib/python3.11/dist-packages (from aiohttp->datasets) (2.5.0)\n",
      "Requirement already satisfied: aiosignal>=1.1.2 in /usr/local/lib/python3.11/dist-packages (from aiohttp->datasets) (1.3.2)\n",
      "Requirement already satisfied: attrs>=17.3.0 in /usr/local/lib/python3.11/dist-packages (from aiohttp->datasets) (25.1.0)\n",
      "Requirement already satisfied: frozenlist>=1.1.1 in /usr/local/lib/python3.11/dist-packages (from aiohttp->datasets) (1.5.0)\n",
      "Requirement already satisfied: multidict<7.0,>=4.5 in /usr/local/lib/python3.11/dist-packages (from aiohttp->datasets) (6.1.0)\n",
      "Requirement already satisfied: propcache>=0.2.0 in /usr/local/lib/python3.11/dist-packages (from aiohttp->datasets) (0.3.0)\n",
      "Requirement already satisfied: yarl<2.0,>=1.17.0 in /usr/local/lib/python3.11/dist-packages (from aiohttp->datasets) (1.18.3)\n",
      "Requirement already satisfied: typing-extensions>=3.7.4.3 in /usr/local/lib/python3.11/dist-packages (from huggingface-hub<1.0,>=0.24.0->transformers) (4.12.2)\n",
      "Requirement already satisfied: charset-normalizer<4,>=2 in /usr/local/lib/python3.11/dist-packages (from requests->transformers) (3.4.1)\n",
      "Requirement already satisfied: idna<4,>=2.5 in /usr/local/lib/python3.11/dist-packages (from requests->transformers) (3.10)\n",
      "Requirement already satisfied: urllib3<3,>=1.21.1 in /usr/local/lib/python3.11/dist-packages (from requests->transformers) (2.3.0)\n",
      "Requirement already satisfied: certifi>=2017.4.17 in /usr/local/lib/python3.11/dist-packages (from requests->transformers) (2025.1.31)\n",
      "Requirement already satisfied: networkx in /usr/local/lib/python3.11/dist-packages (from torch>=2.0.0->accelerate) (3.4.2)\n",
      "Requirement already satisfied: jinja2 in /usr/local/lib/python3.11/dist-packages (from torch>=2.0.0->accelerate) (3.1.6)\n",
      "Collecting nvidia-cuda-nvrtc-cu12==12.4.127 (from torch>=2.0.0->accelerate)\n",
      "  Downloading nvidia_cuda_nvrtc_cu12-12.4.127-py3-none-manylinux2014_x86_64.whl.metadata (1.5 kB)\n",
      "Collecting nvidia-cuda-runtime-cu12==12.4.127 (from torch>=2.0.0->accelerate)\n",
      "  Downloading nvidia_cuda_runtime_cu12-12.4.127-py3-none-manylinux2014_x86_64.whl.metadata (1.5 kB)\n",
      "Collecting nvidia-cuda-cupti-cu12==12.4.127 (from torch>=2.0.0->accelerate)\n",
      "  Downloading nvidia_cuda_cupti_cu12-12.4.127-py3-none-manylinux2014_x86_64.whl.metadata (1.6 kB)\n",
      "Collecting nvidia-cudnn-cu12==9.1.0.70 (from torch>=2.0.0->accelerate)\n",
      "  Downloading nvidia_cudnn_cu12-9.1.0.70-py3-none-manylinux2014_x86_64.whl.metadata (1.6 kB)\n",
      "Collecting nvidia-cublas-cu12==12.4.5.8 (from torch>=2.0.0->accelerate)\n",
      "  Downloading nvidia_cublas_cu12-12.4.5.8-py3-none-manylinux2014_x86_64.whl.metadata (1.5 kB)\n",
      "Collecting nvidia-cufft-cu12==11.2.1.3 (from torch>=2.0.0->accelerate)\n",
      "  Downloading nvidia_cufft_cu12-11.2.1.3-py3-none-manylinux2014_x86_64.whl.metadata (1.5 kB)\n",
      "Collecting nvidia-curand-cu12==10.3.5.147 (from torch>=2.0.0->accelerate)\n",
      "  Downloading nvidia_curand_cu12-10.3.5.147-py3-none-manylinux2014_x86_64.whl.metadata (1.5 kB)\n",
      "Collecting nvidia-cusolver-cu12==11.6.1.9 (from torch>=2.0.0->accelerate)\n",
      "  Downloading nvidia_cusolver_cu12-11.6.1.9-py3-none-manylinux2014_x86_64.whl.metadata (1.6 kB)\n",
      "Collecting nvidia-cusparse-cu12==12.3.1.170 (from torch>=2.0.0->accelerate)\n",
      "  Downloading nvidia_cusparse_cu12-12.3.1.170-py3-none-manylinux2014_x86_64.whl.metadata (1.6 kB)\n",
      "Requirement already satisfied: nvidia-nccl-cu12==2.21.5 in /usr/local/lib/python3.11/dist-packages (from torch>=2.0.0->accelerate) (2.21.5)\n",
      "Requirement already satisfied: nvidia-nvtx-cu12==12.4.127 in /usr/local/lib/python3.11/dist-packages (from torch>=2.0.0->accelerate) (12.4.127)\n",
      "Collecting nvidia-nvjitlink-cu12==12.4.127 (from torch>=2.0.0->accelerate)\n",
      "  Downloading nvidia_nvjitlink_cu12-12.4.127-py3-none-manylinux2014_x86_64.whl.metadata (1.5 kB)\n",
      "Requirement already satisfied: triton==3.1.0 in /usr/local/lib/python3.11/dist-packages (from torch>=2.0.0->accelerate) (3.1.0)\n",
      "Requirement already satisfied: sympy==1.13.1 in /usr/local/lib/python3.11/dist-packages (from torch>=2.0.0->accelerate) (1.13.1)\n",
      "Requirement already satisfied: mpmath<1.4,>=1.1.0 in /usr/local/lib/python3.11/dist-packages (from sympy==1.13.1->torch>=2.0.0->accelerate) (1.3.0)\n",
      "Requirement already satisfied: python-dateutil>=2.8.2 in /usr/local/lib/python3.11/dist-packages (from pandas->datasets) (2.8.2)\n",
      "Requirement already satisfied: pytz>=2020.1 in /usr/local/lib/python3.11/dist-packages (from pandas->datasets) (2025.1)\n",
      "Requirement already satisfied: tzdata>=2022.7 in /usr/local/lib/python3.11/dist-packages (from pandas->datasets) (2025.1)\n",
      "Requirement already satisfied: six>=1.5 in /usr/local/lib/python3.11/dist-packages (from python-dateutil>=2.8.2->pandas->datasets) (1.17.0)\n",
      "Requirement already satisfied: MarkupSafe>=2.0 in /usr/local/lib/python3.11/dist-packages (from jinja2->torch>=2.0.0->accelerate) (3.0.2)\n",
      "Downloading datasets-3.3.2-py3-none-any.whl (485 kB)\n",
      "\u001b[2K   \u001b[90m━━━━━━━━━━━━━━━━━━━━━━━━━━━━━━━━━━━━━━━━\u001b[0m \u001b[32m485.4/485.4 kB\u001b[0m \u001b[31m31.3 MB/s\u001b[0m eta \u001b[36m0:00:00\u001b[0m\n",
      "\u001b[?25hDownloading dill-0.3.8-py3-none-any.whl (116 kB)\n",
      "\u001b[2K   \u001b[90m━━━━━━━━━━━━━━━━━━━━━━━━━━━━━━━━━━━━━━━━\u001b[0m \u001b[32m116.3/116.3 kB\u001b[0m \u001b[31m12.5 MB/s\u001b[0m eta \u001b[36m0:00:00\u001b[0m\n",
      "\u001b[?25hDownloading multiprocess-0.70.16-py311-none-any.whl (143 kB)\n",
      "\u001b[2K   \u001b[90m━━━━━━━━━━━━━━━━━━━━━━━━━━━━━━━━━━━━━━━━\u001b[0m \u001b[32m143.5/143.5 kB\u001b[0m \u001b[31m15.9 MB/s\u001b[0m eta \u001b[36m0:00:00\u001b[0m\n",
      "\u001b[?25hDownloading nvidia_cublas_cu12-12.4.5.8-py3-none-manylinux2014_x86_64.whl (363.4 MB)\n",
      "\u001b[2K   \u001b[90m━━━━━━━━━━━━━━━━━━━━━━━━━━━━━━━━━━━━━━━━\u001b[0m \u001b[32m363.4/363.4 MB\u001b[0m \u001b[31m2.7 MB/s\u001b[0m eta \u001b[36m0:00:00\u001b[0m\n",
      "\u001b[?25hDownloading nvidia_cuda_cupti_cu12-12.4.127-py3-none-manylinux2014_x86_64.whl (13.8 MB)\n",
      "\u001b[2K   \u001b[90m━━━━━━━━━━━━━━━━━━━━━━━━━━━━━━━━━━━━━━━━\u001b[0m \u001b[32m13.8/13.8 MB\u001b[0m \u001b[31m110.7 MB/s\u001b[0m eta \u001b[36m0:00:00\u001b[0m\n",
      "\u001b[?25hDownloading nvidia_cuda_nvrtc_cu12-12.4.127-py3-none-manylinux2014_x86_64.whl (24.6 MB)\n",
      "\u001b[2K   \u001b[90m━━━━━━━━━━━━━━━━━━━━━━━━━━━━━━━━━━━━━━━━\u001b[0m \u001b[32m24.6/24.6 MB\u001b[0m \u001b[31m80.6 MB/s\u001b[0m eta \u001b[36m0:00:00\u001b[0m\n",
      "\u001b[?25hDownloading nvidia_cuda_runtime_cu12-12.4.127-py3-none-manylinux2014_x86_64.whl (883 kB)\n",
      "\u001b[2K   \u001b[90m━━━━━━━━━━━━━━━━━━━━━━━━━━━━━━━━━━━━━━━━\u001b[0m \u001b[32m883.7/883.7 kB\u001b[0m \u001b[31m58.7 MB/s\u001b[0m eta \u001b[36m0:00:00\u001b[0m\n",
      "\u001b[?25hDownloading nvidia_cudnn_cu12-9.1.0.70-py3-none-manylinux2014_x86_64.whl (664.8 MB)\n",
      "\u001b[2K   \u001b[90m━━━━━━━━━━━━━━━━━━━━━━━━━━━━━━━━━━━━━━━━\u001b[0m \u001b[32m664.8/664.8 MB\u001b[0m \u001b[31m1.8 MB/s\u001b[0m eta \u001b[36m0:00:00\u001b[0m\n",
      "\u001b[?25hDownloading nvidia_cufft_cu12-11.2.1.3-py3-none-manylinux2014_x86_64.whl (211.5 MB)\n",
      "\u001b[2K   \u001b[90m━━━━━━━━━━━━━━━━━━━━━━━━━━━━━━━━━━━━━━━━\u001b[0m \u001b[32m211.5/211.5 MB\u001b[0m \u001b[31m10.4 MB/s\u001b[0m eta \u001b[36m0:00:00\u001b[0m\n",
      "\u001b[?25hDownloading nvidia_curand_cu12-10.3.5.147-py3-none-manylinux2014_x86_64.whl (56.3 MB)\n",
      "\u001b[2K   \u001b[90m━━━━━━━━━━━━━━━━━━━━━━━━━━━━━━━━━━━━━━━━\u001b[0m \u001b[32m56.3/56.3 MB\u001b[0m \u001b[31m35.8 MB/s\u001b[0m eta \u001b[36m0:00:00\u001b[0m\n",
      "\u001b[?25hDownloading nvidia_cusolver_cu12-11.6.1.9-py3-none-manylinux2014_x86_64.whl (127.9 MB)\n",
      "\u001b[2K   \u001b[90m━━━━━━━━━━━━━━━━━━━━━━━━━━━━━━━━━━━━━━━━\u001b[0m \u001b[32m127.9/127.9 MB\u001b[0m \u001b[31m17.6 MB/s\u001b[0m eta \u001b[36m0:00:00\u001b[0m\n",
      "\u001b[?25hDownloading nvidia_cusparse_cu12-12.3.1.170-py3-none-manylinux2014_x86_64.whl (207.5 MB)\n",
      "\u001b[2K   \u001b[90m━━━━━━━━━━━━━━━━━━━━━━━━━━━━━━━━━━━━━━━━\u001b[0m \u001b[32m207.5/207.5 MB\u001b[0m \u001b[31m3.2 MB/s\u001b[0m eta \u001b[36m0:00:00\u001b[0m\n",
      "\u001b[?25hDownloading nvidia_nvjitlink_cu12-12.4.127-py3-none-manylinux2014_x86_64.whl (21.1 MB)\n",
      "\u001b[2K   \u001b[90m━━━━━━━━━━━━━━━━━━━━━━━━━━━━━━━━━━━━━━━━\u001b[0m \u001b[32m21.1/21.1 MB\u001b[0m \u001b[31m98.8 MB/s\u001b[0m eta \u001b[36m0:00:00\u001b[0m\n",
      "\u001b[?25hDownloading xxhash-3.5.0-cp311-cp311-manylinux_2_17_x86_64.manylinux2014_x86_64.whl (194 kB)\n",
      "\u001b[2K   \u001b[90m━━━━━━━━━━━━━━━━━━━━━━━━━━━━━━━━━━━━━━━━\u001b[0m \u001b[32m194.8/194.8 kB\u001b[0m \u001b[31m23.3 MB/s\u001b[0m eta \u001b[36m0:00:00\u001b[0m\n",
      "\u001b[?25hInstalling collected packages: xxhash, nvidia-nvjitlink-cu12, nvidia-curand-cu12, nvidia-cufft-cu12, nvidia-cuda-runtime-cu12, nvidia-cuda-nvrtc-cu12, nvidia-cuda-cupti-cu12, nvidia-cublas-cu12, dill, nvidia-cusparse-cu12, nvidia-cudnn-cu12, multiprocess, nvidia-cusolver-cu12, datasets\n",
      "  Attempting uninstall: nvidia-nvjitlink-cu12\n",
      "    Found existing installation: nvidia-nvjitlink-cu12 12.5.82\n",
      "    Uninstalling nvidia-nvjitlink-cu12-12.5.82:\n",
      "      Successfully uninstalled nvidia-nvjitlink-cu12-12.5.82\n",
      "  Attempting uninstall: nvidia-curand-cu12\n",
      "    Found existing installation: nvidia-curand-cu12 10.3.6.82\n",
      "    Uninstalling nvidia-curand-cu12-10.3.6.82:\n",
      "      Successfully uninstalled nvidia-curand-cu12-10.3.6.82\n",
      "  Attempting uninstall: nvidia-cufft-cu12\n",
      "    Found existing installation: nvidia-cufft-cu12 11.2.3.61\n",
      "    Uninstalling nvidia-cufft-cu12-11.2.3.61:\n",
      "      Successfully uninstalled nvidia-cufft-cu12-11.2.3.61\n",
      "  Attempting uninstall: nvidia-cuda-runtime-cu12\n",
      "    Found existing installation: nvidia-cuda-runtime-cu12 12.5.82\n",
      "    Uninstalling nvidia-cuda-runtime-cu12-12.5.82:\n",
      "      Successfully uninstalled nvidia-cuda-runtime-cu12-12.5.82\n",
      "  Attempting uninstall: nvidia-cuda-nvrtc-cu12\n",
      "    Found existing installation: nvidia-cuda-nvrtc-cu12 12.5.82\n",
      "    Uninstalling nvidia-cuda-nvrtc-cu12-12.5.82:\n",
      "      Successfully uninstalled nvidia-cuda-nvrtc-cu12-12.5.82\n",
      "  Attempting uninstall: nvidia-cuda-cupti-cu12\n",
      "    Found existing installation: nvidia-cuda-cupti-cu12 12.5.82\n",
      "    Uninstalling nvidia-cuda-cupti-cu12-12.5.82:\n",
      "      Successfully uninstalled nvidia-cuda-cupti-cu12-12.5.82\n",
      "  Attempting uninstall: nvidia-cublas-cu12\n",
      "    Found existing installation: nvidia-cublas-cu12 12.5.3.2\n",
      "    Uninstalling nvidia-cublas-cu12-12.5.3.2:\n",
      "      Successfully uninstalled nvidia-cublas-cu12-12.5.3.2\n",
      "  Attempting uninstall: nvidia-cusparse-cu12\n",
      "    Found existing installation: nvidia-cusparse-cu12 12.5.1.3\n",
      "    Uninstalling nvidia-cusparse-cu12-12.5.1.3:\n",
      "      Successfully uninstalled nvidia-cusparse-cu12-12.5.1.3\n",
      "  Attempting uninstall: nvidia-cudnn-cu12\n",
      "    Found existing installation: nvidia-cudnn-cu12 9.3.0.75\n",
      "    Uninstalling nvidia-cudnn-cu12-9.3.0.75:\n",
      "      Successfully uninstalled nvidia-cudnn-cu12-9.3.0.75\n",
      "  Attempting uninstall: nvidia-cusolver-cu12\n",
      "    Found existing installation: nvidia-cusolver-cu12 11.6.3.83\n",
      "    Uninstalling nvidia-cusolver-cu12-11.6.3.83:\n",
      "      Successfully uninstalled nvidia-cusolver-cu12-11.6.3.83\n",
      "Successfully installed datasets-3.3.2 dill-0.3.8 multiprocess-0.70.16 nvidia-cublas-cu12-12.4.5.8 nvidia-cuda-cupti-cu12-12.4.127 nvidia-cuda-nvrtc-cu12-12.4.127 nvidia-cuda-runtime-cu12-12.4.127 nvidia-cudnn-cu12-9.1.0.70 nvidia-cufft-cu12-11.2.1.3 nvidia-curand-cu12-10.3.5.147 nvidia-cusolver-cu12-11.6.1.9 nvidia-cusparse-cu12-12.3.1.170 nvidia-nvjitlink-cu12-12.4.127 xxhash-3.5.0\n"
     ]
    }
   ],
   "source": [
    "!pip install transformers datasets accelerate"
   ]
  },
  {
   "cell_type": "code",
   "execution_count": null,
   "metadata": {
    "colab": {
     "base_uri": "https://localhost:8080/"
    },
    "collapsed": true,
    "executionInfo": {
     "elapsed": 7150,
     "status": "ok",
     "timestamp": 1741930014906,
     "user": {
      "displayName": "Lisa Liu",
      "userId": "15421387329476686382"
     },
     "user_tz": 420
    },
    "id": "jMhDbed4rYgX",
    "outputId": "cf3df107-76cb-479d-9283-3f6035e8c32d"
   },
   "outputs": [
    {
     "name": "stdout",
     "output_type": "stream",
     "text": [
      "Requirement already satisfied: torch in /usr/local/lib/python3.11/dist-packages (2.5.1+cu124)\n",
      "Requirement already satisfied: filelock in /usr/local/lib/python3.11/dist-packages (from torch) (3.17.0)\n",
      "Requirement already satisfied: typing-extensions>=4.8.0 in /usr/local/lib/python3.11/dist-packages (from torch) (4.12.2)\n",
      "Requirement already satisfied: networkx in /usr/local/lib/python3.11/dist-packages (from torch) (3.4.2)\n",
      "Requirement already satisfied: jinja2 in /usr/local/lib/python3.11/dist-packages (from torch) (3.1.6)\n",
      "Requirement already satisfied: fsspec in /usr/local/lib/python3.11/dist-packages (from torch) (2024.10.0)\n",
      "Requirement already satisfied: nvidia-cuda-nvrtc-cu12==12.4.127 in /usr/local/lib/python3.11/dist-packages (from torch) (12.4.127)\n",
      "Requirement already satisfied: nvidia-cuda-runtime-cu12==12.4.127 in /usr/local/lib/python3.11/dist-packages (from torch) (12.4.127)\n",
      "Requirement already satisfied: nvidia-cuda-cupti-cu12==12.4.127 in /usr/local/lib/python3.11/dist-packages (from torch) (12.4.127)\n",
      "Requirement already satisfied: nvidia-cudnn-cu12==9.1.0.70 in /usr/local/lib/python3.11/dist-packages (from torch) (9.1.0.70)\n",
      "Requirement already satisfied: nvidia-cublas-cu12==12.4.5.8 in /usr/local/lib/python3.11/dist-packages (from torch) (12.4.5.8)\n",
      "Requirement already satisfied: nvidia-cufft-cu12==11.2.1.3 in /usr/local/lib/python3.11/dist-packages (from torch) (11.2.1.3)\n",
      "Requirement already satisfied: nvidia-curand-cu12==10.3.5.147 in /usr/local/lib/python3.11/dist-packages (from torch) (10.3.5.147)\n",
      "Requirement already satisfied: nvidia-cusolver-cu12==11.6.1.9 in /usr/local/lib/python3.11/dist-packages (from torch) (11.6.1.9)\n",
      "Requirement already satisfied: nvidia-cusparse-cu12==12.3.1.170 in /usr/local/lib/python3.11/dist-packages (from torch) (12.3.1.170)\n",
      "Requirement already satisfied: nvidia-nccl-cu12==2.21.5 in /usr/local/lib/python3.11/dist-packages (from torch) (2.21.5)\n",
      "Requirement already satisfied: nvidia-nvtx-cu12==12.4.127 in /usr/local/lib/python3.11/dist-packages (from torch) (12.4.127)\n",
      "Requirement already satisfied: nvidia-nvjitlink-cu12==12.4.127 in /usr/local/lib/python3.11/dist-packages (from torch) (12.4.127)\n",
      "Requirement already satisfied: triton==3.1.0 in /usr/local/lib/python3.11/dist-packages (from torch) (3.1.0)\n",
      "Requirement already satisfied: sympy==1.13.1 in /usr/local/lib/python3.11/dist-packages (from torch) (1.13.1)\n",
      "Requirement already satisfied: mpmath<1.4,>=1.1.0 in /usr/local/lib/python3.11/dist-packages (from sympy==1.13.1->torch) (1.3.0)\n",
      "Requirement already satisfied: MarkupSafe>=2.0 in /usr/local/lib/python3.11/dist-packages (from jinja2->torch) (3.0.2)\n",
      "Requirement already satisfied: jax in /usr/local/lib/python3.11/dist-packages (0.5.2)\n",
      "Requirement already satisfied: jaxlib<=0.5.2,>=0.5.1 in /usr/local/lib/python3.11/dist-packages (from jax) (0.5.1)\n",
      "Requirement already satisfied: ml_dtypes>=0.4.0 in /usr/local/lib/python3.11/dist-packages (from jax) (0.4.1)\n",
      "Requirement already satisfied: numpy>=1.25 in /usr/local/lib/python3.11/dist-packages (from jax) (1.26.4)\n",
      "Requirement already satisfied: opt_einsum in /usr/local/lib/python3.11/dist-packages (from jax) (3.4.0)\n",
      "Requirement already satisfied: scipy>=1.11.1 in /usr/local/lib/python3.11/dist-packages (from jax) (1.14.1)\n",
      "Requirement already satisfied: jaxlib in /usr/local/lib/python3.11/dist-packages (0.5.1)\n",
      "Requirement already satisfied: scipy>=1.11.1 in /usr/local/lib/python3.11/dist-packages (from jaxlib) (1.14.1)\n",
      "Requirement already satisfied: numpy>=1.25 in /usr/local/lib/python3.11/dist-packages (from jaxlib) (1.26.4)\n",
      "Requirement already satisfied: ml-dtypes>=0.2.0 in /usr/local/lib/python3.11/dist-packages (from jaxlib) (0.4.1)\n"
     ]
    }
   ],
   "source": [
    "!pip install torch\n",
    "!pip install --upgrade jax\n",
    "!pip install jaxlib"
   ]
  },
  {
   "cell_type": "code",
   "execution_count": null,
   "metadata": {
    "colab": {
     "base_uri": "https://localhost:8080/"
    },
    "executionInfo": {
     "elapsed": 3,
     "status": "ok",
     "timestamp": 1741930014912,
     "user": {
      "displayName": "Lisa Liu",
      "userId": "15421387329476686382"
     },
     "user_tz": 420
    },
    "id": "hRgpSCIiHW_F",
    "outputId": "f62f2979-f4aa-4283-99d1-f8eaec37506c"
   },
   "outputs": [
    {
     "name": "stdout",
     "output_type": "stream",
     "text": [
      "4.48.3\n"
     ]
    }
   ],
   "source": [
    "import transformers\n",
    "print(transformers.__version__)"
   ]
  },
  {
   "cell_type": "markdown",
   "metadata": {
    "id": "RywRsHAi3Wak"
   },
   "source": [
    "# **Dataset Prep**"
   ]
  },
  {
   "cell_type": "code",
   "execution_count": 24,
   "metadata": {
    "collapsed": true,
    "executionInfo": {
     "elapsed": 5562,
     "status": "ok",
     "timestamp": 1741943706680,
     "user": {
      "displayName": "Lisa Liu",
      "userId": "15421387329476686382"
     },
     "user_tz": 420
    },
    "id": "-rU6hnXkC4TM"
   },
   "outputs": [],
   "source": [
    "from datasets import load_dataset\n",
    "\n",
    "gsm8k_train = load_dataset(\"openai/gsm8k\", \"main\", split=\"train\")\n",
    "gsm8k_test = load_dataset(\"openai/gsm8k\", \"main\", split=\"test\")"
   ]
  },
  {
   "cell_type": "code",
   "execution_count": null,
   "metadata": {
    "id": "S-79Aa2Y6l8S"
   },
   "outputs": [],
   "source": [
    "# Create place to store llama 405B outputs\n",
    "default_values = [\"None\"] * len(gsm8k_train)\n",
    "gsm8k_kd_train = gsm8k_train.add_column(\"405B_answer\", default_values)\n",
    "gsm8k_kd_train = gsm8k_kd_train.add_column(\"405B_predictions\", default_values)\n",
    "gsm8k_kd_train = gsm8k_kd_train.add_column(\"405B_logprobs\", default_values)"
   ]
  },
  {
   "cell_type": "code",
   "execution_count": 7,
   "metadata": {
    "colab": {
     "base_uri": "https://localhost:8080/",
     "height": 49,
     "referenced_widgets": [
      "f8fc6801a0084df68d72c7a4d8e1a86f",
      "76a53f9c92b74243a00e46a120f3b44c",
      "37467446dfa247f2948f4a49f1e96d58",
      "0ea87191bbc0419090adc81cb921d96b",
      "5f87df0d6ad0429fba3fd041a59b6c59",
      "d0518640a79e4b35ad69d5d9b36dff51",
      "02da85fcf468475982c238d655e66b0b",
      "d07d571b52154894b8134c89830d8c8c",
      "b30d02c54a464e5b82ebe2d3a1b01918",
      "726f5af839774008950bcf0e5ceb527d",
      "4a85b560f071473cac6312fa3e172c81"
     ]
    },
    "executionInfo": {
     "elapsed": 62,
     "status": "ok",
     "timestamp": 1741936951420,
     "user": {
      "displayName": "Lisa Liu",
      "userId": "15421387329476686382"
     },
     "user_tz": 420
    },
    "id": "eNHP-PYoHvqJ",
    "outputId": "b8b3cdc9-9163-4688-8e76-600dfe5bf82c"
   },
   "outputs": [
    {
     "data": {
      "application/vnd.jupyter.widget-view+json": {
       "model_id": "f8fc6801a0084df68d72c7a4d8e1a86f",
       "version_major": 2,
       "version_minor": 0
      },
      "text/plain": [
       "Flattening the indices:   0%|          | 0/200 [00:00<?, ? examples/s]"
      ]
     },
     "metadata": {},
     "output_type": "display_data"
    }
   ],
   "source": [
    "default_values = [\"None\"] * len(test_dataset)\n",
    "test_405 = test_dataset.add_column(\"405B_answer\", default_values)"
   ]
  },
  {
   "cell_type": "code",
   "execution_count": null,
   "metadata": {
    "colab": {
     "base_uri": "https://localhost:8080/"
    },
    "executionInfo": {
     "elapsed": 11,
     "status": "ok",
     "timestamp": 1741856452069,
     "user": {
      "displayName": "Lisa Liu",
      "userId": "15421387329476686382"
     },
     "user_tz": 420
    },
    "id": "ndEn_pPq9saM",
    "outputId": "1b62563a-c6bc-4d4d-bfe4-66fce893f68a"
   },
   "outputs": [
    {
     "name": "stdout",
     "output_type": "stream",
     "text": [
      "{'question': 'Natalia sold clips to 48 of her friends in April, and then she sold half as many clips in May. How many clips did Natalia sell altogether in April and May?', 'answer': 'Natalia sold 48/2 = <<48/2=24>>24 clips in May.\\nNatalia sold 48+24 = <<48+24=72>>72 clips altogether in April and May.\\n#### 72', '405B_answer': 'None', '405B_predictions': 'None', '405B_logprobs': 'None'}\n"
     ]
    }
   ],
   "source": [
    "print(gsm8k_kd_train[0])"
   ]
  },
  {
   "cell_type": "code",
   "execution_count": 8,
   "metadata": {
    "executionInfo": {
     "elapsed": 6,
     "status": "ok",
     "timestamp": 1741936955101,
     "user": {
      "displayName": "Lisa Liu",
      "userId": "15421387329476686382"
     },
     "user_tz": 420
    },
    "id": "BUTbco09KLyF"
   },
   "outputs": [],
   "source": [
    "import random\n",
    "from tqdm import tqdm\n",
    "import re"
   ]
  },
  {
   "cell_type": "code",
   "execution_count": null,
   "metadata": {
    "id": "PsWudjZA6LLN"
   },
   "outputs": [],
   "source": [
    "# Take 400 random samples of dataset\n",
    "gsm8k_kd_sample = gsm8k_kd_train.shuffle(seed=42).select(range(400))"
   ]
  },
  {
   "cell_type": "code",
   "execution_count": null,
   "metadata": {
    "id": "uxxR3BC2sU2a"
   },
   "outputs": [],
   "source": [
    "# Take 400 more random samples of dataset\n",
    "gsm8k_kd_sample_new = gsm8k_kd_train.shuffle(seed=42).select(range(400, 800))"
   ]
  },
  {
   "cell_type": "code",
   "execution_count": null,
   "metadata": {
    "colab": {
     "base_uri": "https://localhost:8080/"
    },
    "executionInfo": {
     "elapsed": 4,
     "status": "ok",
     "timestamp": 1741856530213,
     "user": {
      "displayName": "Lisa Liu",
      "userId": "15421387329476686382"
     },
     "user_tz": 420
    },
    "id": "ZxgGLr4NvJsm",
    "outputId": "5731d307-213b-4130-a4eb-c6b5af477adf"
   },
   "outputs": [
    {
     "name": "stdout",
     "output_type": "stream",
     "text": [
      "Dataset({\n",
      "    features: ['question', 'answer', '405B_answer', '405B_predictions', '405B_logprobs'],\n",
      "    num_rows: 400\n",
      "})\n"
     ]
    }
   ],
   "source": [
    "print(gsm8k_kd_sample_new)"
   ]
  },
  {
   "cell_type": "code",
   "execution_count": 9,
   "metadata": {
    "executionInfo": {
     "elapsed": 6,
     "status": "ok",
     "timestamp": 1741936957646,
     "user": {
      "displayName": "Lisa Liu",
      "userId": "15421387329476686382"
     },
     "user_tz": 420
    },
    "id": "q5xE_wuWKQ8R"
   },
   "outputs": [],
   "source": [
    "ANS_RE = re.compile(r\"#### (\\-?[0-9\\.\\,]+)\")\n",
    "INVALID_ANS = \"[invalid]\"\n",
    "\n",
    "N_SHOT = 8\n",
    "COT_FLAG = True\n",
    "DEBUG = False\n",
    "ANSWER_TRIGGER = \"The answer is: \""
   ]
  },
  {
   "cell_type": "code",
   "execution_count": 19,
   "metadata": {
    "executionInfo": {
     "elapsed": 9,
     "status": "ok",
     "timestamp": 1741941931544,
     "user": {
      "displayName": "Lisa Liu",
      "userId": "15421387329476686382"
     },
     "user_tz": 420
    },
    "id": "hCo0l8NiIH38"
   },
   "outputs": [],
   "source": [
    "# Demo Examples for CoT\n",
    "def create_demo_text(n_shot=8, cot_flag=True):\n",
    "    question, chain, answer = [], [], []\n",
    "    question.append(\n",
    "        \"There are 15 trees in the grove. \"\n",
    "        \"Grove workers will plant trees in the grove today. \"\n",
    "        \"After they are done, there will be 21 trees. \"\n",
    "        \"How many trees did the grove workers plant today?\"\n",
    "    )\n",
    "    chain.append(\n",
    "        \"There are 15 trees originally. \"\n",
    "        \"Then there were 21 trees after some more were planted. \"\n",
    "        \"So there must have been 21 - 15 = 6.\"\n",
    "    )\n",
    "    answer.append(\"6\")\n",
    "\n",
    "    question.append(\n",
    "        \"If there are 3 cars in the parking lot and 2 more cars arrive, \"\n",
    "        \"how many cars are in the parking lot?\"\n",
    "    )\n",
    "    chain.append(\"There are originally 3 cars. 2 more cars arrive. 3 + 2 = 5.\")\n",
    "    answer.append(\"5\")\n",
    "\n",
    "    question.append(\n",
    "        \"Leah had 32 chocolates and her sister had 42. If they ate 35, \"\n",
    "        \"how many pieces do they have left in total?\"\n",
    "    )\n",
    "    chain.append(\n",
    "        \"Originally, Leah had 32 chocolates. \"\n",
    "        \"Her sister had 42. So in total they had 32 + 42 = 74. \"\n",
    "        \"After eating 35, they had 74 - 35 = 39.\"\n",
    "    )\n",
    "    answer.append(\"39\")\n",
    "\n",
    "    question.append(\n",
    "        \"Jason had 20 lollipops. He gave Denny some lollipops. Now Jason \"\n",
    "        \"has 12 lollipops. How many lollipops did Jason give to Denny?\"\n",
    "    )\n",
    "    chain.append(\n",
    "        \"Jason started with 20 lollipops. Then he had 12 after giving some \"\n",
    "        \"to Denny. So he gave Denny 20 - 12 = 8.\"\n",
    "    )\n",
    "    answer.append(\"8\")\n",
    "\n",
    "    question.append(\n",
    "        \"Shawn has five toys. For Christmas, he got two toys each from his \"\n",
    "        \"mom and dad. How many toys does he have now?\"\n",
    "    )\n",
    "    chain.append(\n",
    "        \"Shawn started with 5 toys. If he got 2 toys each from his mom and \"\n",
    "        \"dad, then that is 4 more toys. 5 + 4 = 9.\"\n",
    "    )\n",
    "    answer.append(\"9\")\n",
    "\n",
    "    question.append(\n",
    "        \"There were nine computers in the server room. Five more computers \"\n",
    "        \"were installed each day, from monday to thursday. \"\n",
    "        \"How many computers are now in the server room?\"\n",
    "    )\n",
    "    chain.append(\n",
    "        \"There were originally 9 computers. For each of 4 days, 5 more \"\n",
    "        \"computers were added. So 5 * 4 = 20 computers were added. \"\n",
    "        \"9 + 20 is 29.\"\n",
    "    )\n",
    "    answer.append(\"29\")\n",
    "\n",
    "    question.append(\n",
    "        \"Michael had 58 golf balls. On tuesday, he lost 23 golf balls. On \"\n",
    "        \"wednesday, he lost 2 more. \"\n",
    "        \"How many golf balls did he have at the end of wednesday?\"\n",
    "    )\n",
    "    chain.append(\n",
    "        \"Michael started with 58 golf balls. After losing 23 on tuesday, \"\n",
    "        \"he had 58 - 23 = 35. After losing 2 more, \"\n",
    "        \"he had 35 - 2 = 33 golf balls.\"\n",
    "    )\n",
    "    answer.append(\"33\")\n",
    "\n",
    "    question.append(\n",
    "        \"Olivia has $23. She bought five bagels for $3 each. \"\n",
    "        \"How much money does she have left?\"\n",
    "    )\n",
    "    chain.append(\n",
    "        \"Olivia had 23 dollars. \"\n",
    "        \"5 bagels for 3 dollars each will be 5 x 3 = 15 dollars. \"\n",
    "        \"So she has 23 - 15 dollars left. 23 - 15 is 8.\"\n",
    "    )\n",
    "    answer.append(\"8\")\n",
    "\n",
    "    # randomize order of the examples ...\n",
    "    index_list = list(range(len(question)))\n",
    "    random.shuffle(index_list)\n",
    "\n",
    "    # Concatenate demonstration examples ...\n",
    "    demo_text = \"\"\n",
    "    for i in index_list[:n_shot]:\n",
    "        if cot_flag:\n",
    "            demo_text += (\n",
    "                \"Q: \"\n",
    "                + question[i]\n",
    "                + \"\\nA: \"\n",
    "                + chain[i]\n",
    "                + \" \"\n",
    "                + ANSWER_TRIGGER\n",
    "                + \" \"\n",
    "                + answer[i]\n",
    "                + \".\\n\\n\"\n",
    "            )\n",
    "        else:\n",
    "            demo_text += (\n",
    "                \"Question: \"\n",
    "                + question[i]\n",
    "                + \"\\nAnswer: \"\n",
    "                + ANSWER_TRIGGER\n",
    "                + \" \"\n",
    "                + answer[i]\n",
    "                + \".\\n\\n\"\n",
    "            )\n",
    "    return demo_text"
   ]
  },
  {
   "cell_type": "code",
   "execution_count": 11,
   "metadata": {
    "executionInfo": {
     "elapsed": 5,
     "status": "ok",
     "timestamp": 1741936962545,
     "user": {
      "displayName": "Lisa Liu",
      "userId": "15421387329476686382"
     },
     "user_tz": 420
    },
    "id": "CPbd3IjHKX2D"
   },
   "outputs": [],
   "source": [
    "def build_prompt(input, n_shot, cot_flag):\n",
    "    demo = create_demo_text(n_shot, cot_flag)\n",
    "    input_text_prompt = demo + \"Q: \" + input['question'] + \"\\n\" + \"A: \"\n",
    "    return input_text_prompt"
   ]
  },
  {
   "cell_type": "markdown",
   "metadata": {
    "id": "ukMzXAsx4ZBT"
   },
   "source": [
    "# **LLaMA 405B API Inference to get Logits and Top_k**"
   ]
  },
  {
   "cell_type": "code",
   "execution_count": null,
   "metadata": {
    "executionInfo": {
     "elapsed": 1344,
     "status": "ok",
     "timestamp": 1741936965314,
     "user": {
      "displayName": "Lisa Liu",
      "userId": "15421387329476686382"
     },
     "user_tz": 420
    },
    "id": "iDcbwwit4Yw5"
   },
   "outputs": [],
   "source": [
    "import os\n",
    "import openai\n",
    "\n",
    "# client = openai.OpenAI(\n",
    "#   api_key='916fe265dcbdc747eaef2fce05f10dea0178aa651b160c861a426af751028dc3', # Together AI\n",
    "#   base_url=\"https://api.together.xyz/v1\",\n",
    "# )\n",
    "\n",
    "client = openai.OpenAI(\n",
    "    api_key=###,\n",
    "    base_url=\"https://api.hyperbolic.xyz/v1\",\n",
    "    )\n",
    "\n",
    "CONTEXT = f\"You are an expert in solving math questions. Here are some examples:\\n {create_demo_text(2, COT_FLAG)} \\n Solve the following question step by step and use \\\"The answer is:\\\" to provide your answer.\"\n",
    "\n",
    "def get_405B_answer(input, context=CONTEXT):\n",
    "  prompt = \"Q: \" + input['question'] + \"\\n\" + \"A: \"\n",
    "  response = client.chat.completions.create(\n",
    "    model=\"meta-llama/Meta-Llama-3.1-405B-Instruct\",\n",
    "    messages=[\n",
    "        {\"role\": \"system\", \"content\": context},\n",
    "        {\"role\": \"user\", \"content\": prompt},\n",
    "    ],\n",
    "    temperature=0.8,\n",
    "    max_tokens=300,\n",
    "    # logprobs=True,\n",
    "    # top_logprobs=5,\n",
    "    )\n",
    "\n",
    "  return response"
   ]
  },
  {
   "cell_type": "code",
   "execution_count": 13,
   "metadata": {
    "executionInfo": {
     "elapsed": 4,
     "status": "ok",
     "timestamp": 1741936968174,
     "user": {
      "displayName": "Lisa Liu",
      "userId": "15421387329476686382"
     },
     "user_tz": 420
    },
    "id": "buZu8XZiveQN"
   },
   "outputs": [],
   "source": [
    "def parse_response(row):\n",
    "    response = get_405B_answer(row, context=CONTEXT)\n",
    "    choice = response.choices[0]\n",
    "    answer_text = choice.message.content\n",
    "    # logprobs_list = choice.logprobs.content  # List of token logprobs per token\n",
    "\n",
    "    # Combine extraction of tokens and logprobs in one pass\n",
    "    # combined = [\n",
    "    #     (\n",
    "    #         [tp.token for tp in token_item.top_logprobs],\n",
    "    #         [tp.logprob for tp in token_item.top_logprobs]\n",
    "    #     )\n",
    "    #     for token_item in logprobs_list\n",
    "    # ]\n",
    "\n",
    "    # Unzip the combined list into separate lists; handle empty case\n",
    "    # if combined:\n",
    "    #     token_predictions, token_logprobs = map(list, zip(*combined))\n",
    "    # else:\n",
    "    #     token_predictions, token_logprobs = [], []\n",
    "\n",
    "    row[\"405B_answer\"] = answer_text\n",
    "    # row[\"405B_predictions\"] = token_predictions\n",
    "    # row[\"405B_logprobs\"] = token_logprobs\n",
    "\n",
    "    return row"
   ]
  },
  {
   "cell_type": "code",
   "execution_count": 14,
   "metadata": {
    "colab": {
     "base_uri": "https://localhost:8080/"
    },
    "executionInfo": {
     "elapsed": 39309,
     "status": "ok",
     "timestamp": 1741937010080,
     "user": {
      "displayName": "Lisa Liu",
      "userId": "15421387329476686382"
     },
     "user_tz": 420
    },
    "id": "mlObkf6gy3qE",
    "outputId": "dc1edabd-4e4c-443b-f3e9-9051a5f1736e"
   },
   "outputs": [
    {
     "name": "stdout",
     "output_type": "stream",
     "text": [
      "{'question': \"Darrell and Allen's ages are in the ratio of 7:11. If their total age now is 162, calculate Allen's age 10 years from now.\", 'answer': \"The total ratio representing their ages is 7+11= <<7+11=18>>18\\nSince the fraction of the ratio that represents Allen's age is 11/18, Allen's current age is 11/18*162 = <<11/18*162=99>>99\\nIf Allen is currently 99 years old, in 10 years he will be 99+10 = <<99+10=109>>109 years old\\n#### 109\", '405B_answer': \"To solve this problem, we'll break it down into steps.\\n\\nStep 1: Let's represent Darrell and Allen's ages using the given ratio. We'll use 7x for Darrell's age and 11x for Allen's age.\\n\\nStep 2: The total age of Darrell and Allen now is 162. We can write the equation: 7x + 11x = 162.\\n\\nStep 3: Combine like terms in the equation: 18x = 162.\\n\\nStep 4: Now, solve for x by dividing both sides by 18: x = 162 / 18 = 9.\\n\\nStep 5: Now that we know x is 9, we can find Allen's current age: Allen's age = 11x = 11 * 9 = 99.\\n\\nStep 6: To find Allen's age 10 years from now, add 10 to his current age: Allen's age in 10 years = 99 + 10 = 109.\\n\\nThe answer is: 109.\"}\n"
     ]
    }
   ],
   "source": [
    "print(parse_response(test_405[0]))"
   ]
  },
  {
   "cell_type": "code",
   "execution_count": 15,
   "metadata": {
    "colab": {
     "base_uri": "https://localhost:8080/",
     "height": 137,
     "referenced_widgets": [
      "40e669a783f3405d95438d42d242c400",
      "442c9da3ffde4eb68f5c918fdd9067a9",
      "05244b6241d34846a8828e6b4075a0bf",
      "a5338bce1efb43a8ae3bcd2b970433d0",
      "894c7a44b16c42afb26237b5ebedfa78",
      "9dbe62671fd04d0bac213798e76dfa3c",
      "e3a413fef8d2402bbe99fe40c083945c",
      "c8f918c4e1534f6c8a4d234248e4f254",
      "7fb49d6292bb4f2d937cc1f24170cb4e",
      "c2bda1b97af5427cb087a2fdc3f3f2b9",
      "92c9254f007749149d32cb40528b1a7f",
      "c7506dda6dba45229c5439a93308e69a",
      "c454028b5cf14bd0bc4872a219207e94",
      "7128909b439d45abac969cab297b501f",
      "1100bda6484d4e0bb8360eb45a92b4ee",
      "554c563741b643d3acda936e8c9b24c7",
      "b91ab4dc2c10485bb2e6415e73181563",
      "bbffda4d22fb42f0985e75a9a7f6f854",
      "d7a3ded73fec4db9b1675a3b75a640b1",
      "0d204d07e2544d88ab84fb898fc50d35",
      "9e020b968b414837aced846baa82777a",
      "acef9894f54a46c0b384ca65d5095cea"
     ]
    },
    "executionInfo": {
     "elapsed": 4916139,
     "status": "ok",
     "timestamp": 1741941930891,
     "user": {
      "displayName": "Lisa Liu",
      "userId": "15421387329476686382"
     },
     "user_tz": 420
    },
    "id": "iCleU80IIjWJ",
    "outputId": "dea1627b-528c-4c5f-ee02-5e41f6afcc2f"
   },
   "outputs": [
    {
     "name": "stderr",
     "output_type": "stream",
     "text": [
      "Parameter 'function'=<function parse_response at 0x7ac65f0cd4e0> of the transform datasets.arrow_dataset.Dataset._map_single couldn't be hashed properly, a random hash was used instead. Make sure your transforms and parameters are serializable with pickle or dill for the dataset fingerprinting and caching to work. If you reuse this transform, the caching mechanism will consider it to be different from the previous calls and recompute everything. This warning is only showed once. Subsequent hashing failures won't be showed.\n",
      "WARNING:datasets.fingerprint:Parameter 'function'=<function parse_response at 0x7ac65f0cd4e0> of the transform datasets.arrow_dataset.Dataset._map_single couldn't be hashed properly, a random hash was used instead. Make sure your transforms and parameters are serializable with pickle or dill for the dataset fingerprinting and caching to work. If you reuse this transform, the caching mechanism will consider it to be different from the previous calls and recompute everything. This warning is only showed once. Subsequent hashing failures won't be showed.\n"
     ]
    },
    {
     "data": {
      "application/vnd.jupyter.widget-view+json": {
       "model_id": "40e669a783f3405d95438d42d242c400",
       "version_major": 2,
       "version_minor": 0
      },
      "text/plain": [
       "Map:   0%|          | 0/200 [00:00<?, ? examples/s]"
      ]
     },
     "metadata": {},
     "output_type": "display_data"
    },
    {
     "data": {
      "application/vnd.jupyter.widget-view+json": {
       "model_id": "c7506dda6dba45229c5439a93308e69a",
       "version_major": 2,
       "version_minor": 0
      },
      "text/plain": [
       "Saving the dataset (0/1 shards):   0%|          | 0/200 [00:00<?, ? examples/s]"
      ]
     },
     "metadata": {},
     "output_type": "display_data"
    }
   ],
   "source": [
    "test_405_answers = test_405.map(parse_response)\n",
    "test_405_answers.save_to_disk(\"./405_answers\")"
   ]
  },
  {
   "cell_type": "markdown",
   "metadata": {
    "id": "-Na9gONFHv_Z"
   },
   "source": [
    "**Create new dataset with LLaMA 405B responses (run once)**"
   ]
  },
  {
   "cell_type": "code",
   "execution_count": null,
   "metadata": {
    "colab": {
     "base_uri": "https://localhost:8080/",
     "height": 137,
     "referenced_widgets": [
      "e56cd4bfa0d540bfbb968f79164f02ea",
      "9e88333f9f3249a9bfdac7a2e941b763",
      "3c5e4ba6af0749a79e6b10b75dac5711",
      "5e866663c73541ea93184e5486381dc4",
      "beb3067cfcb24f939b543c93f0b6c883",
      "53df3d894c684f019fd37fc935813dcd",
      "8349d2f2a65f40ac9132bf05b0125d49",
      "559389cd78b74baf99e0bcf342fd2cf2",
      "3ff3387915834da6bd2b7a83718f1a74",
      "c4d1d9ccb41d40d9a7725c9b57d286ff",
      "5152dcdd2537442b9be4aef86a814603",
      "f48b6bc14e664b0ab76a9f6468f00a2c",
      "51b4bc79263d429fa8c327498030c5cd",
      "62511c090dbb4980a0ac57035e0ea6b4",
      "6943cd5d3b11493398ad7d2d9b8b6b24",
      "ae4bb0523aaf44f4923e160efa925855",
      "2331bdb39dd64555801fd6c9d71de83f",
      "0ab71caaa43a487cbfc97c53e6e660ff",
      "18177d6c54f94922a3521ca16ed0b3c9",
      "322dd52548ef4174bf59dbd0190226ef",
      "d466a5aef79f4c50af199d8a56a69d9c",
      "30b7f3a022284e81a843bb22fc083bc7"
     ]
    },
    "collapsed": true,
    "executionInfo": {
     "elapsed": 9054927,
     "status": "ok",
     "timestamp": 1741865653630,
     "user": {
      "displayName": "Lisa Liu",
      "userId": "15421387329476686382"
     },
     "user_tz": 420
    },
    "id": "BFJvcFfKIvij",
    "outputId": "49c8ee89-3eca-4627-94b3-3b3a17fbed7d"
   },
   "outputs": [
    {
     "name": "stderr",
     "output_type": "stream",
     "text": [
      "Parameter 'function'=<function parse_response at 0x7b83f81304a0> of the transform datasets.arrow_dataset.Dataset._map_single couldn't be hashed properly, a random hash was used instead. Make sure your transforms and parameters are serializable with pickle or dill for the dataset fingerprinting and caching to work. If you reuse this transform, the caching mechanism will consider it to be different from the previous calls and recompute everything. This warning is only showed once. Subsequent hashing failures won't be showed.\n",
      "WARNING:datasets.fingerprint:Parameter 'function'=<function parse_response at 0x7b83f81304a0> of the transform datasets.arrow_dataset.Dataset._map_single couldn't be hashed properly, a random hash was used instead. Make sure your transforms and parameters are serializable with pickle or dill for the dataset fingerprinting and caching to work. If you reuse this transform, the caching mechanism will consider it to be different from the previous calls and recompute everything. This warning is only showed once. Subsequent hashing failures won't be showed.\n"
     ]
    },
    {
     "data": {
      "application/vnd.jupyter.widget-view+json": {
       "model_id": "e56cd4bfa0d540bfbb968f79164f02ea",
       "version_major": 2,
       "version_minor": 0
      },
      "text/plain": [
       "Map:   0%|          | 0/400 [00:00<?, ? examples/s]"
      ]
     },
     "metadata": {},
     "output_type": "display_data"
    },
    {
     "data": {
      "application/vnd.jupyter.widget-view+json": {
       "model_id": "f48b6bc14e664b0ab76a9f6468f00a2c",
       "version_major": 2,
       "version_minor": 0
      },
      "text/plain": [
       "Saving the dataset (0/1 shards):   0%|          | 0/400 [00:00<?, ? examples/s]"
      ]
     },
     "metadata": {},
     "output_type": "display_data"
    }
   ],
   "source": [
    "# Adds entries to the two columns\n",
    "new_dataset = gsm8k_kd_sample_new.map(parse_response)\n",
    "\n",
    "new_dataset.save_to_disk(\"./gsm8k_kd_sample_new\")"
   ]
  },
  {
   "cell_type": "code",
   "execution_count": null,
   "metadata": {
    "colab": {
     "base_uri": "https://localhost:8080/",
     "height": 49,
     "referenced_widgets": [
      "f39b71bc9c2f49638ea34075d619bf09",
      "4f8fedb585b1465c80dedab922a0ce5d",
      "48727485ac41480e917d45c0245bd410",
      "7a9dae17176f48c88166e165cba8c0e9",
      "f5a6918122c748b49a5121db56ce4bc6",
      "c80ce6a414884df0b13f66942469d85a",
      "6e533f95cce546f19581b8486cf77ecb",
      "ddf8db292d5845849246931a7eb37542",
      "bd93881409c54fd2a74f7ba06ab50b0e",
      "0e23398dd571458193c0967c09b5ccae",
      "1ec3e4d272344463b57d89140c61f76e"
     ]
    },
    "executionInfo": {
     "elapsed": 140,
     "status": "ok",
     "timestamp": 1741867402799,
     "user": {
      "displayName": "Lisa Liu",
      "userId": "15421387329476686382"
     },
     "user_tz": 420
    },
    "id": "5uBlwW5MYbZo",
    "outputId": "1a94da8f-c101-4326-8919-29496f053114"
   },
   "outputs": [
    {
     "data": {
      "application/vnd.jupyter.widget-view+json": {
       "model_id": "f39b71bc9c2f49638ea34075d619bf09",
       "version_major": 2,
       "version_minor": 0
      },
      "text/plain": [
       "Saving the dataset (0/1 shards):   0%|          | 0/800 [00:00<?, ? examples/s]"
      ]
     },
     "metadata": {},
     "output_type": "display_data"
    }
   ],
   "source": [
    "from datasets import load_from_disk, concatenate_datasets\n",
    "dataset1 = load_from_disk(\"./gsm8k_kd_sample\")\n",
    "dataset2 = load_from_disk(\"./gsm8k_kd_sample_new\")\n",
    "\n",
    "merged_dataset = concatenate_datasets([dataset1, dataset2])\n",
    "merged_dataset.save_to_disk(\"./gsm8k_kd_800\")"
   ]
  },
  {
   "cell_type": "markdown",
   "metadata": {
    "id": "LUpRnbJF7rf6"
   },
   "source": [
    "# **Knowledge Distillation**"
   ]
  },
  {
   "cell_type": "markdown",
   "metadata": {
    "id": "aMVu8jEa79QW"
   },
   "source": [
    "**Load the saved dataset**"
   ]
  },
  {
   "cell_type": "code",
   "execution_count": null,
   "metadata": {
    "id": "_BImHl8j5FWz"
   },
   "outputs": [],
   "source": [
    "from datasets import load_from_disk\n",
    "\n",
    "kd_data = load_from_disk(\"./gsm8k_kd_800\")"
   ]
  },
  {
   "cell_type": "code",
   "execution_count": null,
   "metadata": {
    "colab": {
     "base_uri": "https://localhost:8080/"
    },
    "executionInfo": {
     "elapsed": 41,
     "status": "ok",
     "timestamp": 1741852911362,
     "user": {
      "displayName": "Lisa Liu",
      "userId": "15421387329476686382"
     },
     "user_tz": 420
    },
    "id": "lHO73ijneVQA",
    "outputId": "730c04ba-e15d-4a8f-a4a3-d5242485be13"
   },
   "outputs": [
    {
     "name": "stdout",
     "output_type": "stream",
     "text": [
      "{'question': 'Mimi picked up 2 dozen seashells on the beach.  Kyle found twice as many shells as Mimi and put them in his pocket. Leigh grabbed one-third of the shells that Kyle found.  How many seashells did Leigh have?', 'answer': 'Mimi has 2 x 12 = <<2*12=24>>24 sea shells.\\nKyle has 24 x 2 = <<24*2=48>>48 sea shells.\\nLeigh has 48 / 3 = <<48/3=16>>16 sea shells.\\n#### 16', '405B_answer': \"To solve this problem, let's break it down step by step.\\n\\nMimi picked up 2 dozen seashells. Since 1 dozen equals 12, 2 dozen equals 2 x 12 = 24.\\n\\nKyle found twice as many shells as Mimi, so Kyle found 2 x 24 = 48 seashells.\\n\\nLeigh grabbed one-third of the shells that Kyle found. Since Kyle found 48 seashells, Leigh grabbed 1/3 x 48 = 16 seashells.\\n\\nThe answer is: 16.\", '405B_predictions': [['To', 'Let', 'First', 'M', 'Step'], [' solve', ' find', ' determine', ' start', ' answer'], [' this', ' the', ' for', ' Leigh', ' these'], [' problem', ',', ' question', ' step', ' problems'], [',', ' step', '.', ' let', ':\\n\\n'], [' let', ' we', ' first', ' Let', ' lets'], [\"'s\", \"'\", \" '\", ' us', '’s'], [' break', ' start', ' follow', ' first', ' do'], [' it', ' down', ' It', ' is', ' in'], [' down', ' step', ' into', ' up', ' Down'], [' step', ' into', ':\\n\\n', ' steps', ' one'], [' by', '-by', ' By', '.by', '_by'], [' step', '-step', ' Step', ' steps', 'step'], ['.\\n\\n', ':\\n\\n', '.', ':\\n', ':'], ['M', '1', 'First', 'Step', 'Since'], ['imi', 'im', 'imo', 'umi', 'iri'], [' picked', ' has', ' found', ' started', ' initially'], [' up', ' ', '-up', ' Up', ' out'], [' ', ' \"', \" '\", ' two', ' se'], ['2', '1', '۲', ' ', '3'], [' dozen', ' dozens', '-do', ' doz', ' do'], [' se', ' (', ' sea', ' shells', ' seaw'], ['ash', 'ashes', 'ah', 'ach', 'аш'], ['ells', 'ell', 'els', 'ulls', 'alls'], ['.', ',', ' on', ' (', ' which'], [' Since', ' ', ' We', ' One', ' A'], [' ', ' a', ' there', ' one', ' dozen'], ['1', '2', '12', '１', ' dozen'], [' dozen', ' dozens', '-do', ' do', ' Do'], [' equals', ' is', ' =', ' has', ' equal'], [' ', ' to', ' (', ' of', ','], ['12', '1', ' twelve', '2', ' XII'], [',', ' se', ' items', ' shells', ' objects'], [' ', ' M', ' we', ' then', ' \\n'], ['2', ' M', ' ', '۲', ' we'], [' dozen', ' dozens', ' do', '-do', ' Do'], [' equals', ' se', ' is', ' will', ' would'], [' ', ':\\n', ':\\n\\n', ':', ' \\n'], ['2', '24', '12', '22', '25'], [' x', ' *', ' ×', ' times', ' X'], [' ', '12', ' (', ' XII', ' dozen'], ['12', '2', '1', '十二', ' XII'], [' =', ',', ' or', ' +', ' which'], [' ', ' M', ' (', '24', ' \\n'], ['24', '2', '۲۴', ' ', '12'], ['.\\n\\n', ' se', '.', ' shells', '.\\n'], ['Kyle', 'Then', ' Kyle', 'Now', 'Since'], [' found', ' finds', ' Found', 'found', ' find'], [' twice', ' Twice', 'tw', ' ', ' tw'], [' as', ' the', ' many', ' As', ' '], [' many', ' Many', 'many', ' much', ' may'], [' shells', ' se', ' shelves', ' shell', ' sh'], [' as', ' a', ',', ' at', ' As'], [' M', ' Mim', ' Mini', ' ', ' Mi'], ['imi', 'umi', 'iti', 'omi', 'iki'], [',', '.', ' did', ' found', ' picked'], [' so', ' which', ' who', ' and', ' meaning'], [' Kyle', ' he', ' we', 'Kyle', ' Kylie'], [' found', ' has', ' had', ' picked', \"'s\"], [' ', ' (', ' Kyle', ' twice', ' shells'], ['2', '24', '２', '۲۴', '3'], [' x', ' *', ' times', ' ×', ' X'], [' ', ' M', ' (', '24', ' the'], ['24', '۲۴', '2', '024', '25'], [' =', ' shells', ' se', ' (', ' +'], [' ', '48', ' (', ' Kyle', '048'], ['48', '24', '4', '048', ' '], [' se', ' shells', '.\\n\\n', ' sh', ' shell'], ['ash', 'ah', 'ashes', 'аш', 'ach'], ['ells', 'ell', 'els', 'ulls', 'sh'], ['.\\n\\n', ' and', '.', '!\\n\\n', ').\\n\\n'], ['Le', 'Now', ' Leigh', 'Then', 'Since'], ['igh', 'ight', 'IGH', 'ith', 'leigh'], [' grabbed', ' took', ' grab', ' grabbing', ' gras'], [' one', ' ', ' One', 'one', ' ONE'], ['-third', '-thirds', ' third', '_third', 'third'], [' of', ' (', ' Of', ' the', ' '], [' the', ' Kyle', 'Kyle', ' what', ' The'], [' shells', ' se', ' shelves', ' seeds', ' shell'], [' that', ' Kyle', 'Kyle', ' Kylie', ' found'], [' Kyle', 'Kyle', ' Kylie', ' Kelly', ' '], [' found', ' had', 'found', ' Found', ' founded'], ['.', ',', '!', ';', ' .'], [' Since', ' To', ' One', ' So', ' We'], [' Kyle', ' one', ' Leigh', ' Kylie', 'Kyle'], [' found', ' had', ' has', ' have', ' got'], [' ', ' (', ',', ' of', '\\n'], ['48', '048', ' ', '4', '49'], [' se', ' shells', ',', ' shell', ' seeds'], ['ash', 'ashes', 'ah', 'аш', ' ash'], ['ells', 'ell', 'els', 'alls', 'ulls'], [',', ' and', '.', ',\\n', ';'], [' Leigh', ' one', ' we', ' Leah', ' and'], [' grabbed', ' took', ' has', ' got', ' had'], [' ', ' (', ' one', ' \\n', ' ['], ['1', '48', '49', '47', ''], ['/', ' /', '-third', ' x', ''], ['3', '2', '۳', ' ', ' third'], [' x', ' of', ' *', ' ×', ' X'], [' ', ' (', '48', '\\n', ' of'], ['48', '048', ' ', '4', '49'], [' =', '.', '.\\n\\n', ' se', ','], [' ', ' (', ' \\n\\n', '048', ' \\n'], ['16', '48', '1', '18', '15'], [' se', '.\\n\\n', '.', ' shells', ' seeds'], ['ash', 'ashes', 'ah', 'аш', 'ach'], ['ells', 'ell', 'els', 'ulls', 'sh'], ['.\\n\\n', '.', ' (', '.\\n\\n\\n', '\\n\\n'], ['The', 'So', 'Therefore', 'Now', 'Le'], [' answer', 'answer', ' Leigh', ' final', ' se'], [' is', ' ist', ' ', ' Is', ','], [':', ':**', ':.', ' ', ':_'], [' ', '', ' Leigh', '  ', 'printStats'], ['16', ' ', ' XVI', ' sixteen', '18'], ['.', '', '<|eom_id|>', ' se', '<|python_tag|>'], ['', '<|eom_id|>', '<|python_tag|>', '<|start_header_id|>', ' .']], '405B_logprobs': [[-0.15001878142356873, -2.1792850494384766, -4.208555221557617, -4.520750045776367, -7.798799514770508], [-1.0533314943313599, -0.42894187569618225, -10.57528305053711, -13.541135787963867, -13.853330612182617], [-0.19056373834609985, -1.751537799835205, -20.483245849609375, -21.107635498046875, -21.497879028320312], [-0.0890183076262474, -2.5865769386291504, -4.615847110748291, -16.79145622253418, -17.259748458862305], [0.0, -18.731708526611328, -27.47317123413086, -27.78536605834961, -27.941463470458984], [-0.6931484937667847, -0.6931484937667847, -14.507782936096191, -14.976075172424316, -15.054123878479004], [0.0, -31.063413619995117, -32.31219482421875, -32.93658447265625, -35.278045654296875], [-0.0551212802529335, -3.1770694255828857, -4.5819501876831055, -6.6112165451049805, -8.640484809875488], [0.0, -23.414634704589844, -26.224390029907227, -33.248779296875, -33.8731689453125], [0.0, -23.414630889892578, -28.409751892089844, -30.126827239990234, -32.312191009521484], [-0.01712675765156746, -4.075663089752197, -20.30980682373047, -22.1829776763916, -23.27566146850586], [0.0, -18.107315063476562, -35.43414306640625, -39.180484771728516, -40.585365295410156], [0.0, -23.72682762145996, -24.03902244567871, -24.81951141357422, -25.13170623779297], [-0.3772605061531067, -1.157747507095337, -9.587015151977539, -14.347991943359375, -15.75286865234375], [-2.483468770980835, -0.45419859886169434, -1.39078688621521, -3.420053243637085, -18.093223571777344], [0.0, -22.16585350036621, -24.039024353027344, -24.19512176513672, -24.351219177246094], [-0.0003163314249832183, -8.117389678955078, -10.927146911621094, -16.702756881713867, -18.107635498046875], [0.0, -23.25853729248047, -33.56097412109375, -35.434146881103516, -37.463417053222656], [0.0, -27.785364151000977, -31.999998092651367, -31.999998092651367, -33.092681884765625], [0.0, -26.06829261779785, -30.126829147338867, -32.156097412109375, -32.70243835449219], [0.0, -23.88292694091797, -28.253658294677734, -34.34146499633789, -34.809757232666016], [0.0, -18.731704711914062, -23.882925033569336, -24.03902244567871, -26.536582946777344], [0.0, -26.068294525146484, -26.068294525146484, -27.317073822021484, -29.034147262573242], [0.0, -20.136585235595703, -25.44390296936035, -25.7560977935791, -26.692684173583984], [-0.16655421257019043, -2.0397231578826904, -3.756798505783081, -17.25923728942871, -17.727529525756836], [-0.18370555341243744, -2.2129719257354736, -3.7739498615264893, -3.9300472736358643, -4.71053409576416], [-0.27343159914016724, -1.5222108364105225, -3.863675832748413, -11.04416275024414, -17.053918838500977], [-2.3841855067985307e-07, -16.234146118164062, -16.390243530273438, -27.16097640991211, -27.47317123413086], [0.0, -27.31707000732422, -29.03414535522461, -30.907316207885742, -32.93658447265625], [-1.79325532913208, -0.23228126764297485, -3.198133945465088, -11.315207481384277, -11.783499717712402], [0.0, -32.156097412109375, -37.46341323852539, -41.521949768066406, -42.458534240722656], [0.0, -25.91219711303711, -26.380489349365234, -26.84878158569336, -27.629268646240234], [-1.1920928244535389e-07, -16.078048706054688, -16.702438354492188, -17.639026641845703, -25.912195205688477], [-0.5885211229324341, -0.9007159471511841, -3.3982763290405273, -5.27144718170166, -12.295838356018066], [0.0, -18.263416290283203, -23.102439880371094, -30.282926559448242, -30.282926559448242], [-2.8729025871143676e-05, -10.458564758300781, -17.482954025268555, -19.043930053710938, -21.853687286376953], [-0.37547537684440613, -1.4681572914123535, -3.1852307319641113, -3.809622287750244, -3.965719699859619], [-3.814689989667386e-06, -12.487808227539062, -21.853662490844727, -21.853662490844727, -22.6341495513916], [-0.0058794887736439705, -5.62539005279541, -6.093684196472168, -18.26929473876953, -18.97173309326172], [-1.0533156394958496, -0.4289259612560272, -11.355753898620605, -14.867947578430176, -15.024046897888184], [0.0, -30.907316207885742, -36.682926177978516, -37.46341323852539, -38.478050231933594], [0.0, -25.44390296936035, -26.06829261779785, -26.692684173583984, -26.84878158569336], [-7.152555099310121e-07, -14.204880714416504, -24.50731658935547, -25.912195205688477, -26.69268226623535], [0.0, -34.965850830078125, -35.278045654296875, -36.83902359008789, -38.24390411376953], [0.0, -22.47804832458496, -26.69268226623535, -27.0048770904541, -28.565853118896484], [-1.724696397781372, -0.3198196589946747, -2.349087953567505, -10.310063362121582, -12.96372127532959], [-0.00020358874462544918, -9.053860664367676, -9.990445137023926, -10.458739280700684, -12.175810813903809], [0.0, -29.65853500366211, -30.126827239990234, -30.595121383666992, -30.907316207885742], [0.0, -28.721954345703125, -33.09268569946289, -35.90243911743164, -36.21463394165039], [0.0, -38.39999771118164, -40.585365295410156, -40.74146270751953, -41.521949768066406], [0.0, -33.248783111572266, -35.590248107910156, -38.087806701660156, -38.400001525878906], [-0.009209414944052696, -4.692135810852051, -18.27262306213379, -19.20920753479004, -21.394573211669922], [0.0, -36.526824951171875, -38.556095123291016, -39.960975646972656, -40.11707305908203], [0.0, -33.404876708984375, -37.775611877441406, -37.93170928955078, -39.024391174316406], [0.0, -24.50731658935547, -25.912195205688477, -26.3804874420166, -26.53658676147461], [-0.7742521166801453, -0.6181547045707703, -11.2327880859375, -15.291324615478516, -17.78888511657715], [-0.19056472182273865, -1.751538872718811, -13.92715072631836, -16.580808639526367, -18.297882080078125], [-0.10830087214708328, -2.2936666011810303, -6.352202892303467, -13.064397811889648, -14.391227722167969], [-0.28931209444999695, -1.3819940090179443, -8.874677658081055, -12.464921951293945, -15.586872100830078], [0.0, -30.439023971557617, -31.3756103515625, -32.156097412109375, -32.6243896484375], [-0.006748029962182045, -5.001871109008789, -20.22138214111328, -21.23601531982422, -21.392114639282227], [-0.0004077318590134382, -7.805285930633545, -16.39065170288086, -21.541872024536133, -24.19552993774414], [0.0, -32.93658447265625, -34.185367584228516, -40.897560119628906, -42.6146354675293], [0.0, -26.068294525146484, -28.878049850463867, -31.531707763671875, -32.54634094238281], [0.0, -20.292682647705078, -24.975608825683594, -24.975608825683594, -30.126829147338867], [0.0, -33.48292541503906, -34.57560729980469, -35.746337890625, -36.44878005981445], [0.0, -24.81951332092285, -26.84878158569336, -27.47317123413086, -27.707317352294922], [-0.7401269674301147, -0.7401269674301147, -3.081590175628662, -12.603541374206543, -13.305981636047363], [0.0, -22.47804832458496, -23.88292694091797, -26.84878158569336, -27.16097640991211], [0.0, -20.760976791381836, -25.912195205688477, -27.47317123413086, -27.941463470458984], [0.0, -18.88780403137207, -21.229267120361328, -26.06829071044922, -27.0048770904541], [-0.0004078510100953281, -7.805285930633545, -16.39065170288086, -17.015043258666992, -17.327238082885742], [0.0, -23.882925033569336, -24.039024353027344, -24.039024353027344, -27.0048770904541], [-0.0005570290377363563, -7.4932403564453125, -18.10787582397461, -18.42007064819336, -18.888362884521484], [-2.3841855067985307e-07, -15.453659057617188, -21.073171615600586, -24.273170471191406, -24.42926788330078], [0.0, -23.88292694091797, -26.22439193725586, -29.03414535522461, -29.970733642578125], [0.0, -20.292682647705078, -37.15121841430664, -38.86829376220703, -39.18048858642578], [0.0, -17.170730590820312, -32.156097412109375, -33.717071533203125, -37.463417053222656], [-0.0036199060268700123, -5.6231303215026855, -24.510936737060547, -26.228010177612305, -26.540205001831055], [-0.037008389830589294, -3.3150577545166016, -16.895545959472656, -19.471155166625977, -20.173593521118164], [0.0, -21.073169708251953, -29.97072982788086, -33.092681884765625, -33.8731689453125], [0.0, -27.317073822021484, -31.843904495239258, -32.468292236328125, -32.93658447265625], [-0.01712675765156746, -4.075663089752197, -19.29517364501953, -19.841516494750977, -19.99761390686035], [-2.2813477516174316, -0.40817883610725403, -1.5008606910705566, -4.622812747955322, -8.681349754333496], [-0.024888422340154648, -4.083425045013428, -4.863912105560303, -12.590741157531738, -12.668789863586426], [-0.2583329975605011, -1.5071122646331787, -5.097356796264648, -15.555892944335938, -17.351015090942383], [0.0, -34.18536376953125, -35.27804946899414, -36.44878387451172, -36.44878387451172], [0.0, -27.78536605834961, -28.253658294677734, -29.892683029174805, -30.439023971557617], [-0.024346066638827324, -3.7706878185272217, -6.892639636993408, -15.478005409240723, -15.634102821350098], [0.0, -17.63902473449707, -20.760974884033203, -24.19512176513672, -25.1317081451416], [0.0, -17.795122146606445, -20.604877471923828, -22.47804832458496, -22.946340560913086], [-0.00011693747364915907, -9.0537748336792, -22.634262084960938, -26.77084732055664, -26.848896026611328], [-0.29288792610168457, -1.3855717182159424, -5.600205421447754, -11.531912803649902, -12.54654598236084], [-0.1204790398478508, -2.618041515350342, -3.242431163787842, -6.52047872543335, -11.82779598236084], [-0.058476097881793976, -2.8682334423065186, -16.448719024658203, -21.75603485107422, -22.224327087402344], [-0.16516892611980438, -1.8822423219680786, -15.07248592376709, -15.306632041931152, -16.711509704589844], [0.0, -28.40975570678711, -33.56097412109375, -34.80975341796875, -36.21463394165039], [0.0, -30.751218795776367, -31.063413619995117, -32.156097412109375, -33.092681884765625], [-0.9812037944793701, -0.5129077434539795, -3.634859800338745, -14.249495506286621, -17.683639526367188], [0.0, -33.56097412109375, -36.3707275390625, -38.243900299072266, -39.414634704589844], [0.0, -27.47317123413086, -29.970733642578125, -31.141464233398438, -31.219512939453125], [-0.15383701026439667, -2.027005910873413, -4.524568557739258, -10.924568176269531, -13.578226089477539], [-9.536738616588991e-07, -13.892683982849121, -23.648780822753906, -24.11707305908203, -24.11707305908203], [-1.381868839263916, -0.28918692469596863, -10.903820037841797, -15.820894241333008, -16.133089065551758], [-0.4289191961288452, -1.0533088445663452, -12.760625839233398, -12.916723251342773, -15.648429870605469], [0.0, -19.66829490661621, -19.66829490661621, -21.541465759277344, -23.25853729248047], [0.0, -17.639026641845703, -20.60487937927246, -22.478050231933594, -23.2585391998291], [-8.702239938429557e-06, -11.70732593536377, -14.517081260681152, -23.102447509765625, -23.102447509765625], [-0.0002810560108628124, -8.429549217224121, -9.678328514099121, -18.107595443725586, -18.731985092163086], [0.0, -22.946340560913086, -23.41463279724121, -23.570730209350586, -24.351219177246094], [0.0, -24.81951141357422, -27.551219940185547, -28.09756088256836, -28.487804412841797], [0.0, -26.06829071044922, -26.38048553466797, -27.160974502563477, -28.721948623657227], [0.0, -25.600000381469727, -26.53658676147461, -27.004878997802734, -28.48780632019043], [-0.0008895016508176923, -7.025278568267822, -18.264301300048828, -20.5277156829834, -21.54235076904297], [-0.0049429358914494514, -5.312258720397949, -18.892745971679688, -19.82933235168457, -20.063478469848633], [0.0, -19.82438850402832, -21.619510650634766, -27.0048770904541, -27.39512062072754]]}\n"
     ]
    }
   ],
   "source": [
    "print(kd_data[0])"
   ]
  },
  {
   "cell_type": "markdown",
   "metadata": {
    "id": "DMIaf9UR7v58"
   },
   "source": [
    "**Load Student Model**"
   ]
  },
  {
   "cell_type": "code",
   "execution_count": null,
   "metadata": {
    "colab": {
     "base_uri": "https://localhost:8080/",
     "height": 215,
     "referenced_widgets": [
      "4c6cbf9b0d964e8e922a65cad11dc0af",
      "342665b10d3b4968b59e00ff27c18ebc",
      "01843846dd3b44ee9a1d7e547d65254d",
      "994eee6be94a47f9b882324a263980ef",
      "3a8c273a2c2d4b32a9fc90c7224af320",
      "e71f04ac1ab4472da03543f662fb8491",
      "0399413ca037478c88b94d1befb9a2ce",
      "af4be4846cff4eff9aa5efc1857bc79c",
      "113d17504ef74736aa3d4a3c9f541603",
      "25cec9c446614fefb8f756f1d1c19384",
      "99a1ae9cc5614cf188b38be4aa3c843b",
      "301a88a135964692a8c2e81347ca09d1",
      "90d45c10dbd94c7c9d3e57e652084813",
      "23f8324c34eb4befbe58c73b09c7cec4",
      "3ecabff2b2f04210ac7196bdee676461",
      "f62fa036d76e4d4faa4d3ca51cb6f7ef",
      "08de0ac1dae84f249d7a8bce5bd1d185",
      "ec9251b90a74409e935267b52ec2b055",
      "b8bd5ff6da91478a8141560b9c9eb558",
      "b08d5c3058284ba4a2b1d38519a3c55b",
      "4dd25de507c44c20a9480aaf1abdeab4",
      "cff57e804d8e4a3bbe7d598d7550d885",
      "92d19c1e9c754a199eb3d41a1c684d88",
      "c147687b210c437c80c671a84c004dcb",
      "0540fd75aa5b443aa52c61808b6cf2a0",
      "8c9fdab4eee74ddb946b64af56a5aafb",
      "6836420355614d6681464f09f59804d1",
      "b04f01797dff4689a39920b02235200e",
      "336408aec75446f281a73e6c52e5d182",
      "673eddb4e8a84206a7930ddd0e7b993b",
      "f70583f151324821a2e1eb7da94d3f6f",
      "38391aadfa974bd2b6d7e0cce288e88c",
      "64f42233cdde442193908bb5fdd39a06",
      "20829d87f05a4db19741af6fba83fd94",
      "dbad5b911e6b453cb2741ba07e652282",
      "132ce07ebc9843d48402aa89c1322043",
      "19cd3e1dedca4b9785d7787c57af3c9b",
      "8e6fdb9befdd48e28cc11d1016e00bc4",
      "356aff1a7e854cb28ec52f26ea963c7d",
      "4f290e38b5cb4719b67a86f2e5b0ea01",
      "9cf9c7f8216c476682bb889d05804d3c",
      "569cf2f8581f40759c736558691ba7d8",
      "69c2dd90993d420eaa96eb1be9aaa532",
      "c1a87ad7f30642f286bff047f528cfd5",
      "cb2eae2d85e24cb3851361b503341ba2",
      "4aa8d02b8a084518a89f4101f2681b2f",
      "d756c7ff408d4c53b09006c1d679ad54",
      "7084b95bd64d4ece93c641d155de06b5",
      "9b26df4e6d174087867bbf3b377b02ca",
      "477ad38a93bf43e0b1ce1d11b82a3edb",
      "7dbf60df0acb4292836dd9a11d961f8c",
      "738f078f46d74b8f9b2a020cedb6b59f",
      "8499e6d51d924309ae24dd1e0dd8b4f4",
      "9b7c7ed4a56846fdb12d64071ea10220",
      "caace855f80b463ba34925beca8eb438"
     ]
    },
    "collapsed": true,
    "executionInfo": {
     "elapsed": 42108,
     "status": "ok",
     "timestamp": 1741922360990,
     "user": {
      "displayName": "Lisa Liu",
      "userId": "15421387329476686382"
     },
     "user_tz": 420
    },
    "id": "C-9VQGEfFbFw",
    "outputId": "25dfd8a4-ae04-4873-cf42-01afe748927a"
   },
   "outputs": [
    {
     "data": {
      "application/vnd.jupyter.widget-view+json": {
       "model_id": "4c6cbf9b0d964e8e922a65cad11dc0af",
       "version_major": 2,
       "version_minor": 0
      },
      "text/plain": [
       "Downloading shards:   0%|          | 0/2 [00:00<?, ?it/s]"
      ]
     },
     "metadata": {},
     "output_type": "display_data"
    },
    {
     "data": {
      "application/vnd.jupyter.widget-view+json": {
       "model_id": "301a88a135964692a8c2e81347ca09d1",
       "version_major": 2,
       "version_minor": 0
      },
      "text/plain": [
       "model-00001-of-00002.safetensors:  19%|#9        | 944M/4.97G [00:00<?, ?B/s]"
      ]
     },
     "metadata": {},
     "output_type": "display_data"
    },
    {
     "data": {
      "application/vnd.jupyter.widget-view+json": {
       "model_id": "92d19c1e9c754a199eb3d41a1c684d88",
       "version_major": 2,
       "version_minor": 0
      },
      "text/plain": [
       "model-00002-of-00002.safetensors:   0%|          | 0.00/1.46G [00:00<?, ?B/s]"
      ]
     },
     "metadata": {},
     "output_type": "display_data"
    },
    {
     "data": {
      "application/vnd.jupyter.widget-view+json": {
       "model_id": "20829d87f05a4db19741af6fba83fd94",
       "version_major": 2,
       "version_minor": 0
      },
      "text/plain": [
       "Loading checkpoint shards:   0%|          | 0/2 [00:00<?, ?it/s]"
      ]
     },
     "metadata": {},
     "output_type": "display_data"
    },
    {
     "data": {
      "application/vnd.jupyter.widget-view+json": {
       "model_id": "cb2eae2d85e24cb3851361b503341ba2",
       "version_major": 2,
       "version_minor": 0
      },
      "text/plain": [
       "generation_config.json:   0%|          | 0.00/185 [00:00<?, ?B/s]"
      ]
     },
     "metadata": {},
     "output_type": "display_data"
    },
    {
     "name": "stderr",
     "output_type": "stream",
     "text": [
      "The new embeddings will be initialized from a multivariate normal distribution that has old embeddings' mean and covariance. As described in this article: https://nlp.stanford.edu/~johnhew/vocab-expansion.html. To disable this, use `mean_resizing=False`\n"
     ]
    }
   ],
   "source": [
    "# LLaMA 3.2 3B\n",
    "from transformers import AutoTokenizer, AutoModelForCausalLM\n",
    "import torch\n",
    "\n",
    "tokenizer = AutoTokenizer.from_pretrained(\"meta-llama/Llama-3.2-3B\")\n",
    "# model = AutoModelForCausalLM.from_pretrained(\"meta-llama/Llama-3.2-3B\")\n",
    "model = AutoModelForCausalLM.from_pretrained(\"meta-llama/Llama-3.2-3B\", device_map=\"auto\")\n",
    "\n",
    "# tokenizer.pad_token = tokenizer.eos_token\n",
    "# model.config.pad_token_id = model.config.eos_token_id\n",
    "\n",
    "special_tokens_dict = {\"pad_token\": \"<pad>\"}\n",
    "num_added_tokens = tokenizer.add_special_tokens(special_tokens_dict)\n",
    "if num_added_tokens > 0:\n",
    "  model.resize_token_embeddings(len(tokenizer))\n",
    "\n",
    "# tokenizer.pad_token = '<|finetune_right_pad_id|>'\n",
    "\n",
    "# EOS_TOKEN = tokenizer.eos_token"
   ]
  },
  {
   "cell_type": "code",
   "execution_count": null,
   "metadata": {
    "id": "Pb0OtbH8XkQL"
   },
   "outputs": [],
   "source": [
    "from peft import LoraConfig, get_peft_model, TaskType\n",
    "\n",
    "lora_config = LoraConfig(\n",
    "    r=16,                       # LoRA rank\n",
    "    lora_alpha=32,            # LoRA scaling\n",
    "    lora_dropout=0.05,        # dropout for LoRA\n",
    "    bias=\"none\",              # LoRA doesn't add bias by default\n",
    "    task_type=TaskType.CAUSAL_LM,  # for a causal language model\n",
    "    target_modules=[\"q_proj\", \"v_proj\", \"k_proj\", \"o_proj\"]\n",
    ")\n",
    "\n",
    "# Inject LoRA adapters into the original model\n",
    "lora_model = get_peft_model(model, lora_config)"
   ]
  },
  {
   "cell_type": "code",
   "execution_count": null,
   "metadata": {
    "colab": {
     "base_uri": "https://localhost:8080/"
    },
    "executionInfo": {
     "elapsed": 11,
     "status": "ok",
     "timestamp": 1741882320424,
     "user": {
      "displayName": "Lisa Liu",
      "userId": "15421387329476686382"
     },
     "user_tz": 420
    },
    "id": "dB7NzThmeJ1N",
    "outputId": "ab33ae27-4a7c-4b2f-b504-4b9f337ac54b"
   },
   "outputs": [
    {
     "name": "stdout",
     "output_type": "stream",
     "text": [
      "trainable params: 4,587,520 || all params: 3,217,340,416 || trainable%: 0.1426\n"
     ]
    }
   ],
   "source": [
    "lora_model.print_trainable_parameters()"
   ]
  },
  {
   "cell_type": "code",
   "execution_count": null,
   "metadata": {
    "id": "8XIStchSLlMm"
   },
   "outputs": [],
   "source": [
    "import numpy as np\n",
    "import torch\n",
    "\n",
    "random.seed(42)\n",
    "np.random.seed(42)\n",
    "torch.manual_seed(42)\n",
    "torch.cuda.manual_seed(42)"
   ]
  },
  {
   "cell_type": "markdown",
   "metadata": {
    "id": "3pJgy_PEGSiy"
   },
   "source": [
    "# **Black box KD**"
   ]
  },
  {
   "cell_type": "code",
   "execution_count": null,
   "metadata": {
    "id": "gF4JguGRGQCB"
   },
   "outputs": [],
   "source": [
    "def tokenize_kd(example):\n",
    "    prompt_text = build_prompt(example, 2, COT_FLAG)\n",
    "    kd = example[\"405B_answer\"]\n",
    "    full_text = prompt_text + kd\n",
    "\n",
    "    # Tokenize separately\n",
    "    prompt_enc = tokenizer(prompt_text, add_special_tokens=True)\n",
    "    full_enc = tokenizer(\n",
    "        full_text,\n",
    "        truncation=True,\n",
    "        padding=\"max_length\",\n",
    "        max_length=900,\n",
    "        add_special_tokens=True,\n",
    "    )\n",
    "\n",
    "    # Copy labels\n",
    "    input_ids = full_enc[\"input_ids\"]\n",
    "    labels = input_ids.copy()\n",
    "\n",
    "    # Number of prompt tokens\n",
    "    num_prompt_tokens = len(prompt_enc[\"input_ids\"])\n",
    "\n",
    "    # Mask out the prompt portion\n",
    "    for i in range(len(input_ids)):\n",
    "      if i in range(num_prompt_tokens) and i < len(labels):\n",
    "        labels[i] = -100\n",
    "      elif input_ids[i] == tokenizer.pad_token_id and i < len(labels):\n",
    "        labels[i] = -100\n",
    "        full_enc[\"attention_mask\"][i] = 0\n",
    "\n",
    "    # Put back in dictionary\n",
    "    full_enc[\"labels\"] = labels\n",
    "    return full_enc"
   ]
  },
  {
   "cell_type": "code",
   "execution_count": null,
   "metadata": {
    "colab": {
     "base_uri": "https://localhost:8080/",
     "height": 49,
     "referenced_widgets": [
      "4bfa6ad8da4845739d2cec79c886cd65",
      "cb6caaacf136470dbd9648a5fbf40410",
      "ebfa371f79a040be8634e4bdcb7501a6",
      "68de79e0c8e3412b9668217593e5d68e",
      "6ed609c155d8480cbb5e7760faef6da9",
      "a1d7d4bc41664ed09464345bd7b694f7",
      "5e85a4dc51a6459f822be96b0c2c1eb7",
      "1e5af488109646d1894e72a9606324d3",
      "b9079e716385462e90a5c1dcf86fbb68",
      "f674f270e47340ecbc214aeec75aea8c",
      "996377b48cd94cfd90f3411156c8b7fe"
     ]
    },
    "executionInfo": {
     "elapsed": 4917,
     "status": "ok",
     "timestamp": 1741867436785,
     "user": {
      "displayName": "Lisa Liu",
      "userId": "15421387329476686382"
     },
     "user_tz": 420
    },
    "id": "kZsIId4YHQzH",
    "outputId": "c37c99b4-1db8-4264-f906-dc387a2e2f86"
   },
   "outputs": [
    {
     "data": {
      "application/vnd.jupyter.widget-view+json": {
       "model_id": "4bfa6ad8da4845739d2cec79c886cd65",
       "version_major": 2,
       "version_minor": 0
      },
      "text/plain": [
       "Map:   0%|          | 0/800 [00:00<?, ? examples/s]"
      ]
     },
     "metadata": {},
     "output_type": "display_data"
    }
   ],
   "source": [
    "kd_train = kd_data.map(tokenize_kd)\n",
    "kd_train.set_format(type=\"torch\", columns=[\"input_ids\", \"attention_mask\", \"labels\"])"
   ]
  },
  {
   "cell_type": "code",
   "execution_count": null,
   "metadata": {
    "colab": {
     "base_uri": "https://localhost:8080/"
    },
    "executionInfo": {
     "elapsed": 3,
     "status": "ok",
     "timestamp": 1741855170488,
     "user": {
      "displayName": "Lisa Liu",
      "userId": "15421387329476686382"
     },
     "user_tz": 420
    },
    "id": "pwbhn_jlHyat",
    "outputId": "9bc98e28-8372-4593-c603-5d7b041678ad"
   },
   "outputs": [
    {
     "name": "stdout",
     "output_type": "stream",
     "text": [
      "Q: Leah had 32 chocolates and her sister had 42. If they ate 35, how many pieces do they have left in total?\n",
      "A: Originally, Leah had 32 chocolates. Her sister had 42. So in total they had 32 + 42 = 74. After eating 35, they had 74 - 35 = 39. The answer is:  39.\n",
      "\n",
      "Q: Jason had 20 lollipops. He gave Denny some lollipops. Now Jason has 12 lollipops. How many lollipops did Jason give to Denny?\n",
      "A: Jason started with 20 lollipops. Then he had 12 after giving some to Denny. So he gave Denny 20 - 12 = 8. The answer is:  8.\n",
      "\n",
      "Q: Mr. Langsley commutes to work every day by bus. The bus picks him up at 6:00 a.m. and takes forty minutes to arrive at the first station. If Mr. Langsley arrives at work at 9:00 a.m., what's the total time taken in minutes from the first station to Mr. Langsley's workplace?\n",
      "A: To find the total time taken from the first station to Mr. Langsley's workplace, we first need to find the total time taken for his entire commute. \n",
      "\n",
      "The bus picks him up at 6:00 a.m. and Mr. Langsley arrives at work at 9:00 a.m. So the total commute time is 9:00 a.m. - 6:00 a.m. = 3 hours.\n",
      "\n",
      "We need to convert 3 hours to minutes. Since 1 hour = 60 minutes, 3 hours = 3 * 60 = 180 minutes.\n",
      "\n",
      "Now we know that the bus takes 40 minutes to arrive at the first station. So, the time taken from the first station to Mr. Langsley's workplace is 180 minutes (total commute time) - 40 minutes (time taken to reach the first station) = 140 minutes.\n",
      "\n",
      "The answer is: 140.\n"
     ]
    }
   ],
   "source": [
    "print(tokenizer.decode(kd_train[45][\"input_ids\"], skip_special_tokens=True))"
   ]
  },
  {
   "cell_type": "code",
   "execution_count": null,
   "metadata": {
    "id": "4S-8glpkH6ah"
   },
   "outputs": [],
   "source": [
    "output_dir = \"./gsm8k_bbkd\""
   ]
  },
  {
   "cell_type": "code",
   "execution_count": null,
   "metadata": {
    "colab": {
     "base_uri": "https://localhost:8080/",
     "height": 1000
    },
    "collapsed": true,
    "executionInfo": {
     "elapsed": 1306395,
     "status": "ok",
     "timestamp": 1741868852643,
     "user": {
      "displayName": "Lisa Liu",
      "userId": "15421387329476686382"
     },
     "user_tz": 420
    },
    "id": "gu34F7kcH15W",
    "outputId": "8087ad8e-a63a-4f47-d779-643b463d5812"
   },
   "outputs": [
    {
     "data": {
      "text/html": [
       "\n",
       "    <div>\n",
       "      \n",
       "      <progress value='250' max='250' style='width:300px; height:20px; vertical-align: middle;'></progress>\n",
       "      [250/250 21:28, Epoch 5/5]\n",
       "    </div>\n",
       "    <table border=\"1\" class=\"dataframe\">\n",
       "  <thead>\n",
       " <tr style=\"text-align: left;\">\n",
       "      <th>Step</th>\n",
       "      <th>Training Loss</th>\n",
       "    </tr>\n",
       "  </thead>\n",
       "  <tbody>\n",
       "    <tr>\n",
       "      <td>5</td>\n",
       "      <td>0.435200</td>\n",
       "    </tr>\n",
       "    <tr>\n",
       "      <td>10</td>\n",
       "      <td>0.402300</td>\n",
       "    </tr>\n",
       "    <tr>\n",
       "      <td>15</td>\n",
       "      <td>0.407400</td>\n",
       "    </tr>\n",
       "    <tr>\n",
       "      <td>20</td>\n",
       "      <td>0.386600</td>\n",
       "    </tr>\n",
       "    <tr>\n",
       "      <td>25</td>\n",
       "      <td>0.438400</td>\n",
       "    </tr>\n",
       "    <tr>\n",
       "      <td>30</td>\n",
       "      <td>0.422300</td>\n",
       "    </tr>\n",
       "    <tr>\n",
       "      <td>35</td>\n",
       "      <td>0.446700</td>\n",
       "    </tr>\n",
       "    <tr>\n",
       "      <td>40</td>\n",
       "      <td>0.441600</td>\n",
       "    </tr>\n",
       "    <tr>\n",
       "      <td>45</td>\n",
       "      <td>0.420900</td>\n",
       "    </tr>\n",
       "    <tr>\n",
       "      <td>50</td>\n",
       "      <td>0.444400</td>\n",
       "    </tr>\n",
       "    <tr>\n",
       "      <td>55</td>\n",
       "      <td>0.379900</td>\n",
       "    </tr>\n",
       "    <tr>\n",
       "      <td>60</td>\n",
       "      <td>0.403400</td>\n",
       "    </tr>\n",
       "    <tr>\n",
       "      <td>65</td>\n",
       "      <td>0.370400</td>\n",
       "    </tr>\n",
       "    <tr>\n",
       "      <td>70</td>\n",
       "      <td>0.368800</td>\n",
       "    </tr>\n",
       "    <tr>\n",
       "      <td>75</td>\n",
       "      <td>0.372400</td>\n",
       "    </tr>\n",
       "    <tr>\n",
       "      <td>80</td>\n",
       "      <td>0.379200</td>\n",
       "    </tr>\n",
       "    <tr>\n",
       "      <td>85</td>\n",
       "      <td>0.334700</td>\n",
       "    </tr>\n",
       "    <tr>\n",
       "      <td>90</td>\n",
       "      <td>0.388200</td>\n",
       "    </tr>\n",
       "    <tr>\n",
       "      <td>95</td>\n",
       "      <td>0.340600</td>\n",
       "    </tr>\n",
       "    <tr>\n",
       "      <td>100</td>\n",
       "      <td>0.343300</td>\n",
       "    </tr>\n",
       "    <tr>\n",
       "      <td>105</td>\n",
       "      <td>0.327400</td>\n",
       "    </tr>\n",
       "    <tr>\n",
       "      <td>110</td>\n",
       "      <td>0.292300</td>\n",
       "    </tr>\n",
       "    <tr>\n",
       "      <td>115</td>\n",
       "      <td>0.305100</td>\n",
       "    </tr>\n",
       "    <tr>\n",
       "      <td>120</td>\n",
       "      <td>0.307300</td>\n",
       "    </tr>\n",
       "    <tr>\n",
       "      <td>125</td>\n",
       "      <td>0.314400</td>\n",
       "    </tr>\n",
       "    <tr>\n",
       "      <td>130</td>\n",
       "      <td>0.341100</td>\n",
       "    </tr>\n",
       "    <tr>\n",
       "      <td>135</td>\n",
       "      <td>0.306900</td>\n",
       "    </tr>\n",
       "    <tr>\n",
       "      <td>140</td>\n",
       "      <td>0.296100</td>\n",
       "    </tr>\n",
       "    <tr>\n",
       "      <td>145</td>\n",
       "      <td>0.326000</td>\n",
       "    </tr>\n",
       "    <tr>\n",
       "      <td>150</td>\n",
       "      <td>0.286800</td>\n",
       "    </tr>\n",
       "    <tr>\n",
       "      <td>155</td>\n",
       "      <td>0.259100</td>\n",
       "    </tr>\n",
       "    <tr>\n",
       "      <td>160</td>\n",
       "      <td>0.250200</td>\n",
       "    </tr>\n",
       "    <tr>\n",
       "      <td>165</td>\n",
       "      <td>0.245200</td>\n",
       "    </tr>\n",
       "    <tr>\n",
       "      <td>170</td>\n",
       "      <td>0.236500</td>\n",
       "    </tr>\n",
       "    <tr>\n",
       "      <td>175</td>\n",
       "      <td>0.247500</td>\n",
       "    </tr>\n",
       "    <tr>\n",
       "      <td>180</td>\n",
       "      <td>0.258600</td>\n",
       "    </tr>\n",
       "    <tr>\n",
       "      <td>185</td>\n",
       "      <td>0.261700</td>\n",
       "    </tr>\n",
       "    <tr>\n",
       "      <td>190</td>\n",
       "      <td>0.268200</td>\n",
       "    </tr>\n",
       "    <tr>\n",
       "      <td>195</td>\n",
       "      <td>0.255300</td>\n",
       "    </tr>\n",
       "    <tr>\n",
       "      <td>200</td>\n",
       "      <td>0.270600</td>\n",
       "    </tr>\n",
       "    <tr>\n",
       "      <td>205</td>\n",
       "      <td>0.228900</td>\n",
       "    </tr>\n",
       "    <tr>\n",
       "      <td>210</td>\n",
       "      <td>0.200400</td>\n",
       "    </tr>\n",
       "    <tr>\n",
       "      <td>215</td>\n",
       "      <td>0.200800</td>\n",
       "    </tr>\n",
       "    <tr>\n",
       "      <td>220</td>\n",
       "      <td>0.217900</td>\n",
       "    </tr>\n",
       "    <tr>\n",
       "      <td>225</td>\n",
       "      <td>0.186100</td>\n",
       "    </tr>\n",
       "    <tr>\n",
       "      <td>230</td>\n",
       "      <td>0.227400</td>\n",
       "    </tr>\n",
       "    <tr>\n",
       "      <td>235</td>\n",
       "      <td>0.210700</td>\n",
       "    </tr>\n",
       "    <tr>\n",
       "      <td>240</td>\n",
       "      <td>0.231200</td>\n",
       "    </tr>\n",
       "    <tr>\n",
       "      <td>245</td>\n",
       "      <td>0.201100</td>\n",
       "    </tr>\n",
       "    <tr>\n",
       "      <td>250</td>\n",
       "      <td>0.205600</td>\n",
       "    </tr>\n",
       "  </tbody>\n",
       "</table><p>"
      ],
      "text/plain": [
       "<IPython.core.display.HTML object>"
      ]
     },
     "metadata": {},
     "output_type": "display_data"
    },
    {
     "name": "stderr",
     "output_type": "stream",
     "text": [
      "/usr/local/lib/python3.11/dist-packages/peft/utils/save_and_load.py:260: UserWarning: Setting `save_embedding_layers` to `True` as the embedding layer has been resized during finetuning.\n",
      "  warnings.warn(\n",
      "/usr/local/lib/python3.11/dist-packages/peft/utils/save_and_load.py:260: UserWarning: Setting `save_embedding_layers` to `True` as the embedding layer has been resized during finetuning.\n",
      "  warnings.warn(\n",
      "/usr/local/lib/python3.11/dist-packages/peft/utils/save_and_load.py:260: UserWarning: Setting `save_embedding_layers` to `True` as the embedding layer has been resized during finetuning.\n",
      "  warnings.warn(\n",
      "/usr/local/lib/python3.11/dist-packages/peft/utils/save_and_load.py:260: UserWarning: Setting `save_embedding_layers` to `True` as the embedding layer has been resized during finetuning.\n",
      "  warnings.warn(\n",
      "/usr/local/lib/python3.11/dist-packages/peft/utils/save_and_load.py:260: UserWarning: Setting `save_embedding_layers` to `True` as the embedding layer has been resized during finetuning.\n",
      "  warnings.warn(\n",
      "/usr/local/lib/python3.11/dist-packages/peft/utils/save_and_load.py:260: UserWarning: Setting `save_embedding_layers` to `True` as the embedding layer has been resized during finetuning.\n",
      "  warnings.warn(\n"
     ]
    }
   ],
   "source": [
    "from transformers import Trainer, TrainingArguments, DataCollatorWithPadding\n",
    "\n",
    "# Data collator for dynamic padding\n",
    "data_collator = DataCollatorWithPadding(tokenizer=tokenizer, return_tensors=\"pt\")\n",
    "\n",
    "training_args = TrainingArguments(\n",
    "    output_dir=output_dir,\n",
    "    per_device_train_batch_size=1,  # start small to avoid OOM\n",
    "    gradient_accumulation_steps=16,  # effective batch size = 4\n",
    "    num_train_epochs=5,            # set higher if you have the compute\n",
    "    learning_rate=2e-4,            # LoRA can often use a slightly higher LR\n",
    "    logging_steps=5,\n",
    "    save_steps=50,\n",
    "    fp16=True,                     # if on GPU that supports half precision\n",
    "    gradient_checkpointing=True,\n",
    "    logging_dir=\"./logs\",\n",
    "    optim=\"adamw_torch\",\n",
    "    weight_decay=0.01, # do 0.005 or 0.001?\n",
    "    warmup_steps=25\n",
    ")\n",
    "\n",
    "trainer = Trainer(\n",
    "    model=lora_model,\n",
    "    args=training_args,\n",
    "    train_dataset=kd_train,\n",
    "    # eval_dataset=eval_dataset,\n",
    "    data_collator=data_collator\n",
    ")\n",
    "\n",
    "trainer.train()\n",
    "trainer.save_model(output_dir)"
   ]
  },
  {
   "cell_type": "markdown",
   "metadata": {
    "id": "BScOBgjwH7Jh"
   },
   "source": [
    "# **White Box KD**"
   ]
  },
  {
   "cell_type": "code",
   "execution_count": null,
   "metadata": {
    "id": "joxtVqrztMQe"
   },
   "outputs": [],
   "source": [
    "# This function returns the token_id of a given token and handles any errors\n",
    "\n",
    "def convert_token(token, tokenizer):\n",
    "    token_stripped = token.strip()\n",
    "    if not token_stripped:\n",
    "        return tokenizer.unk_token_id if tokenizer.unk_token_id is not None else tokenizer.eos_token_id\n",
    "    token_id = tokenizer.convert_tokens_to_ids(token_stripped)\n",
    "    if token_id is None or token_id < 0:\n",
    "        return tokenizer.unk_token_id if tokenizer.unk_token_id is not None else tokenizer.eos_token_id\n",
    "    return token_id"
   ]
  },
  {
   "cell_type": "code",
   "execution_count": null,
   "metadata": {
    "colab": {
     "base_uri": "https://localhost:8080/"
    },
    "executionInfo": {
     "elapsed": 34,
     "status": "ok",
     "timestamp": 1741879771626,
     "user": {
      "displayName": "Lisa Liu",
      "userId": "15421387329476686382"
     },
     "user_tz": 420
    },
    "id": "DVDYBt5Oy1RL",
    "outputId": "2b6765e6-b4f5-419f-d3eb-2f3cec3ec1c9"
   },
   "outputs": [
    {
     "name": "stdout",
     "output_type": "stream",
     "text": [
      "[[-0.15001878142356873, -2.1792850494384766, -4.208555221557617, -4.520750045776367, -7.798799514770508], [-1.0533314943313599, -0.42894187569618225, -10.57528305053711, -13.541135787963867, -13.853330612182617], [-0.19056373834609985, -1.751537799835205, -20.483245849609375, -21.107635498046875, -21.497879028320312], [-0.0890183076262474, -2.5865769386291504, -4.615847110748291, -16.79145622253418, -17.259748458862305], [0.0, -18.731708526611328, -27.47317123413086, -27.78536605834961, -27.941463470458984], [-0.6931484937667847, -0.6931484937667847, -14.507782936096191, -14.976075172424316, -15.054123878479004], [0.0, -31.063413619995117, -32.31219482421875, -32.93658447265625, -35.278045654296875], [-0.0551212802529335, -3.1770694255828857, -4.5819501876831055, -6.6112165451049805, -8.640484809875488], [0.0, -23.414634704589844, -26.224390029907227, -33.248779296875, -33.8731689453125], [0.0, -23.414630889892578, -28.409751892089844, -30.126827239990234, -32.312191009521484], [-0.01712675765156746, -4.075663089752197, -20.30980682373047, -22.1829776763916, -23.27566146850586], [0.0, -18.107315063476562, -35.43414306640625, -39.180484771728516, -40.585365295410156], [0.0, -23.72682762145996, -24.03902244567871, -24.81951141357422, -25.13170623779297], [-0.3772605061531067, -1.157747507095337, -9.587015151977539, -14.347991943359375, -15.75286865234375], [-2.483468770980835, -0.45419859886169434, -1.39078688621521, -3.420053243637085, -18.093223571777344], [0.0, -22.16585350036621, -24.039024353027344, -24.19512176513672, -24.351219177246094], [-0.0003163314249832183, -8.117389678955078, -10.927146911621094, -16.702756881713867, -18.107635498046875], [0.0, -23.25853729248047, -33.56097412109375, -35.434146881103516, -37.463417053222656], [0.0, -27.785364151000977, -31.999998092651367, -31.999998092651367, -33.092681884765625], [0.0, -26.06829261779785, -30.126829147338867, -32.156097412109375, -32.70243835449219], [0.0, -23.88292694091797, -28.253658294677734, -34.34146499633789, -34.809757232666016], [0.0, -18.731704711914062, -23.882925033569336, -24.03902244567871, -26.536582946777344], [0.0, -26.068294525146484, -26.068294525146484, -27.317073822021484, -29.034147262573242], [0.0, -20.136585235595703, -25.44390296936035, -25.7560977935791, -26.692684173583984], [-0.16655421257019043, -2.0397231578826904, -3.756798505783081, -17.25923728942871, -17.727529525756836], [-0.18370555341243744, -2.2129719257354736, -3.7739498615264893, -3.9300472736358643, -4.71053409576416], [-0.27343159914016724, -1.5222108364105225, -3.863675832748413, -11.04416275024414, -17.053918838500977], [-2.3841855067985307e-07, -16.234146118164062, -16.390243530273438, -27.16097640991211, -27.47317123413086], [0.0, -27.31707000732422, -29.03414535522461, -30.907316207885742, -32.93658447265625], [-1.79325532913208, -0.23228126764297485, -3.198133945465088, -11.315207481384277, -11.783499717712402], [0.0, -32.156097412109375, -37.46341323852539, -41.521949768066406, -42.458534240722656], [0.0, -25.91219711303711, -26.380489349365234, -26.84878158569336, -27.629268646240234], [-1.1920928244535389e-07, -16.078048706054688, -16.702438354492188, -17.639026641845703, -25.912195205688477], [-0.5885211229324341, -0.9007159471511841, -3.3982763290405273, -5.27144718170166, -12.295838356018066], [0.0, -18.263416290283203, -23.102439880371094, -30.282926559448242, -30.282926559448242], [-2.8729025871143676e-05, -10.458564758300781, -17.482954025268555, -19.043930053710938, -21.853687286376953], [-0.37547537684440613, -1.4681572914123535, -3.1852307319641113, -3.809622287750244, -3.965719699859619], [-3.814689989667386e-06, -12.487808227539062, -21.853662490844727, -21.853662490844727, -22.6341495513916], [-0.0058794887736439705, -5.62539005279541, -6.093684196472168, -18.26929473876953, -18.97173309326172], [-1.0533156394958496, -0.4289259612560272, -11.355753898620605, -14.867947578430176, -15.024046897888184], [0.0, -30.907316207885742, -36.682926177978516, -37.46341323852539, -38.478050231933594], [0.0, -25.44390296936035, -26.06829261779785, -26.692684173583984, -26.84878158569336], [-7.152555099310121e-07, -14.204880714416504, -24.50731658935547, -25.912195205688477, -26.69268226623535], [0.0, -34.965850830078125, -35.278045654296875, -36.83902359008789, -38.24390411376953], [0.0, -22.47804832458496, -26.69268226623535, -27.0048770904541, -28.565853118896484], [-1.724696397781372, -0.3198196589946747, -2.349087953567505, -10.310063362121582, -12.96372127532959], [-0.00020358874462544918, -9.053860664367676, -9.990445137023926, -10.458739280700684, -12.175810813903809], [0.0, -29.65853500366211, -30.126827239990234, -30.595121383666992, -30.907316207885742], [0.0, -28.721954345703125, -33.09268569946289, -35.90243911743164, -36.21463394165039], [0.0, -38.39999771118164, -40.585365295410156, -40.74146270751953, -41.521949768066406], [0.0, -33.248783111572266, -35.590248107910156, -38.087806701660156, -38.400001525878906], [-0.009209414944052696, -4.692135810852051, -18.27262306213379, -19.20920753479004, -21.394573211669922], [0.0, -36.526824951171875, -38.556095123291016, -39.960975646972656, -40.11707305908203], [0.0, -33.404876708984375, -37.775611877441406, -37.93170928955078, -39.024391174316406], [0.0, -24.50731658935547, -25.912195205688477, -26.3804874420166, -26.53658676147461], [-0.7742521166801453, -0.6181547045707703, -11.2327880859375, -15.291324615478516, -17.78888511657715], [-0.19056472182273865, -1.751538872718811, -13.92715072631836, -16.580808639526367, -18.297882080078125], [-0.10830087214708328, -2.2936666011810303, -6.352202892303467, -13.064397811889648, -14.391227722167969], [-0.28931209444999695, -1.3819940090179443, -8.874677658081055, -12.464921951293945, -15.586872100830078], [0.0, -30.439023971557617, -31.3756103515625, -32.156097412109375, -32.6243896484375], [-0.006748029962182045, -5.001871109008789, -20.22138214111328, -21.23601531982422, -21.392114639282227], [-0.0004077318590134382, -7.805285930633545, -16.39065170288086, -21.541872024536133, -24.19552993774414], [0.0, -32.93658447265625, -34.185367584228516, -40.897560119628906, -42.6146354675293], [0.0, -26.068294525146484, -28.878049850463867, -31.531707763671875, -32.54634094238281], [0.0, -20.292682647705078, -24.975608825683594, -24.975608825683594, -30.126829147338867], [0.0, -33.48292541503906, -34.57560729980469, -35.746337890625, -36.44878005981445], [0.0, -24.81951332092285, -26.84878158569336, -27.47317123413086, -27.707317352294922], [-0.7401269674301147, -0.7401269674301147, -3.081590175628662, -12.603541374206543, -13.305981636047363], [0.0, -22.47804832458496, -23.88292694091797, -26.84878158569336, -27.16097640991211], [0.0, -20.760976791381836, -25.912195205688477, -27.47317123413086, -27.941463470458984], [0.0, -18.88780403137207, -21.229267120361328, -26.06829071044922, -27.0048770904541], [-0.0004078510100953281, -7.805285930633545, -16.39065170288086, -17.015043258666992, -17.327238082885742], [0.0, -23.882925033569336, -24.039024353027344, -24.039024353027344, -27.0048770904541], [-0.0005570290377363563, -7.4932403564453125, -18.10787582397461, -18.42007064819336, -18.888362884521484], [-2.3841855067985307e-07, -15.453659057617188, -21.073171615600586, -24.273170471191406, -24.42926788330078], [0.0, -23.88292694091797, -26.22439193725586, -29.03414535522461, -29.970733642578125], [0.0, -20.292682647705078, -37.15121841430664, -38.86829376220703, -39.18048858642578], [0.0, -17.170730590820312, -32.156097412109375, -33.717071533203125, -37.463417053222656], [-0.0036199060268700123, -5.6231303215026855, -24.510936737060547, -26.228010177612305, -26.540205001831055], [-0.037008389830589294, -3.3150577545166016, -16.895545959472656, -19.471155166625977, -20.173593521118164], [0.0, -21.073169708251953, -29.97072982788086, -33.092681884765625, -33.8731689453125], [0.0, -27.317073822021484, -31.843904495239258, -32.468292236328125, -32.93658447265625], [-0.01712675765156746, -4.075663089752197, -19.29517364501953, -19.841516494750977, -19.99761390686035], [-2.2813477516174316, -0.40817883610725403, -1.5008606910705566, -4.622812747955322, -8.681349754333496], [-0.024888422340154648, -4.083425045013428, -4.863912105560303, -12.590741157531738, -12.668789863586426], [-0.2583329975605011, -1.5071122646331787, -5.097356796264648, -15.555892944335938, -17.351015090942383], [0.0, -34.18536376953125, -35.27804946899414, -36.44878387451172, -36.44878387451172], [0.0, -27.78536605834961, -28.253658294677734, -29.892683029174805, -30.439023971557617], [-0.024346066638827324, -3.7706878185272217, -6.892639636993408, -15.478005409240723, -15.634102821350098], [0.0, -17.63902473449707, -20.760974884033203, -24.19512176513672, -25.1317081451416], [0.0, -17.795122146606445, -20.604877471923828, -22.47804832458496, -22.946340560913086], [-0.00011693747364915907, -9.0537748336792, -22.634262084960938, -26.77084732055664, -26.848896026611328], [-0.29288792610168457, -1.3855717182159424, -5.600205421447754, -11.531912803649902, -12.54654598236084], [-0.1204790398478508, -2.618041515350342, -3.242431163787842, -6.52047872543335, -11.82779598236084], [-0.058476097881793976, -2.8682334423065186, -16.448719024658203, -21.75603485107422, -22.224327087402344], [-0.16516892611980438, -1.8822423219680786, -15.07248592376709, -15.306632041931152, -16.711509704589844], [0.0, -28.40975570678711, -33.56097412109375, -34.80975341796875, -36.21463394165039], [0.0, -30.751218795776367, -31.063413619995117, -32.156097412109375, -33.092681884765625], [-0.9812037944793701, -0.5129077434539795, -3.634859800338745, -14.249495506286621, -17.683639526367188], [0.0, -33.56097412109375, -36.3707275390625, -38.243900299072266, -39.414634704589844], [0.0, -27.47317123413086, -29.970733642578125, -31.141464233398438, -31.219512939453125], [-0.15383701026439667, -2.027005910873413, -4.524568557739258, -10.924568176269531, -13.578226089477539], [-9.536738616588991e-07, -13.892683982849121, -23.648780822753906, -24.11707305908203, -24.11707305908203], [-1.381868839263916, -0.28918692469596863, -10.903820037841797, -15.820894241333008, -16.133089065551758], [-0.4289191961288452, -1.0533088445663452, -12.760625839233398, -12.916723251342773, -15.648429870605469], [0.0, -19.66829490661621, -19.66829490661621, -21.541465759277344, -23.25853729248047], [0.0, -17.639026641845703, -20.60487937927246, -22.478050231933594, -23.2585391998291], [-8.702239938429557e-06, -11.70732593536377, -14.517081260681152, -23.102447509765625, -23.102447509765625], [-0.0002810560108628124, -8.429549217224121, -9.678328514099121, -18.107595443725586, -18.731985092163086], [0.0, -22.946340560913086, -23.41463279724121, -23.570730209350586, -24.351219177246094], [0.0, -24.81951141357422, -27.551219940185547, -28.09756088256836, -28.487804412841797], [0.0, -26.06829071044922, -26.38048553466797, -27.160974502563477, -28.721948623657227], [0.0, -25.600000381469727, -26.53658676147461, -27.004878997802734, -28.48780632019043], [-0.0008895016508176923, -7.025278568267822, -18.264301300048828, -20.5277156829834, -21.54235076904297], [-0.0049429358914494514, -5.312258720397949, -18.892745971679688, -19.82933235168457, -20.063478469848633], [0.0, -19.82438850402832, -21.619510650634766, -27.0048770904541, -27.39512062072754]]\n"
     ]
    }
   ],
   "source": [
    "print(kd_data[0][\"405B_logprobs\"])"
   ]
  },
  {
   "cell_type": "code",
   "execution_count": null,
   "metadata": {
    "id": "A-zuNcvKojwK"
   },
   "outputs": [],
   "source": [
    "# This function tokenizes the prompts as needed and builds the input dictionary for training; the first half should be based on whatever tokenizing function\n",
    "# you are using originally for the dataset, with the correct prompts and helper functions if needed.\n",
    "\n",
    "def tokenize_soft(example):\n",
    "    prompt_text = build_prompt(example, 2, COT_FLAG)\n",
    "    reasoning_text = example[\"answer\"].split(\"#### \")[0]\n",
    "    answer = example[\"answer\"].split(\"#### \")[1]\n",
    "    full_text = prompt_text + reasoning_text + \"The answer is: \" + answer + \".\"\n",
    "\n",
    "    # Tokenize separately\n",
    "    prompt_enc = tokenizer(prompt_text, add_special_tokens=True)\n",
    "    full_enc = tokenizer(\n",
    "        full_text,\n",
    "        truncation=True,\n",
    "        padding=\"max_length\",\n",
    "        max_length=900,\n",
    "        add_special_tokens=True,\n",
    "    )\n",
    "\n",
    "    # Copy labels\n",
    "    input_ids = full_enc[\"input_ids\"]\n",
    "    labels = input_ids.copy()\n",
    "\n",
    "    # Number of prompt tokens\n",
    "    num_prompt_tokens = len(prompt_enc[\"input_ids\"])\n",
    "\n",
    "    # Mask out the prompt portion\n",
    "    for i in range(len(input_ids)):\n",
    "      if i in range(num_prompt_tokens) and i < len(labels):\n",
    "        labels[i] = -100\n",
    "      elif input_ids[i] == tokenizer.pad_token_id and i < len(labels):\n",
    "        labels[i] = -100\n",
    "        full_enc[\"attention_mask\"][i] = 0\n",
    "\n",
    "    # Put back in dictionary\n",
    "    full_enc[\"labels\"] = labels\n",
    "\n",
    "    # EVERYTHING ABOVE SHOULD BE YOUR NORMAL TOKENIZER FUNCTION; adapt for different datasets\n",
    "    # The following adds two more columns (or two more keys to the dictionary)\n",
    "\n",
    "    # Convert each of the tokens in the list of lists to token_ids\n",
    "    teacher_preds_ids = [\n",
    "    [convert_token(token, tokenizer) for token in token_list]\n",
    "    for token_list in example[\"405B_predictions\"]\n",
    "    ]\n",
    "\n",
    "    full_enc[\"teacher_predictions\"] = teacher_preds_ids\n",
    "    full_enc[\"teacher_logprobs\"] = example[\"405B_logprobs\"]\n",
    "    return full_enc"
   ]
  },
  {
   "cell_type": "markdown",
   "metadata": {
    "id": "Qolj0lZjDZl6"
   },
   "source": [
    "**Note: It is assumed that \"kd_data\" has been previously loaded as a dataset, and contains the columns used in the above function by example[\"key\"]**"
   ]
  },
  {
   "cell_type": "code",
   "execution_count": null,
   "metadata": {
    "colab": {
     "base_uri": "https://localhost:8080/",
     "height": 49,
     "referenced_widgets": [
      "7696bc4b54d94b58a233b18691eff6ce",
      "c060180c9d4e4b56a93404896bd083ac",
      "7c71aa7f48e041419704b55c0183005c",
      "fd26bb63791e45458e37e213eeb59674",
      "e03baada3f4842d89f11ba6dca53b92c",
      "0dfd212ed0154cc3be05d2ee310e1ed0",
      "ab32d343a3bf479d8bedb49d2a3530ea",
      "bb57e34063cb49788edf3b2871e53f85",
      "736f18d75d814dd3a0c3ab03d7748920",
      "f9b70c43126247ddaa52eed5bc006e6e",
      "c7021e96a6fa4392b6c88f76253acf03"
     ]
    },
    "executionInfo": {
     "elapsed": 10355,
     "status": "ok",
     "timestamp": 1741882200341,
     "user": {
      "displayName": "Lisa Liu",
      "userId": "15421387329476686382"
     },
     "user_tz": 420
    },
    "id": "gn39dWo3q8AU",
    "outputId": "d46eb9ce-7286-41fb-d623-9a41c0000bbe"
   },
   "outputs": [
    {
     "data": {
      "application/vnd.jupyter.widget-view+json": {
       "model_id": "7696bc4b54d94b58a233b18691eff6ce",
       "version_major": 2,
       "version_minor": 0
      },
      "text/plain": [
       "Map:   0%|          | 0/800 [00:00<?, ? examples/s]"
      ]
     },
     "metadata": {},
     "output_type": "display_data"
    }
   ],
   "source": [
    "distill_train = kd_data.map(tokenize_soft)\n",
    "# This builds dictionary of tensors\n",
    "distill_train.set_format(type=\"torch\", columns=[\"input_ids\", \"attention_mask\", \"labels\", \"teacher_predictions\", \"teacher_logprobs\"])"
   ]
  },
  {
   "cell_type": "code",
   "execution_count": null,
   "metadata": {
    "colab": {
     "base_uri": "https://localhost:8080/"
    },
    "executionInfo": {
     "elapsed": 13,
     "status": "ok",
     "timestamp": 1741882201173,
     "user": {
      "displayName": "Lisa Liu",
      "userId": "15421387329476686382"
     },
     "user_tz": 420
    },
    "id": "vEEbJsIRrvLz",
    "outputId": "a1ff61a2-0616-4989-d5ac-425972a18d84"
   },
   "outputs": [
    {
     "name": "stdout",
     "output_type": "stream",
     "text": [
      "[['To', 'Let', 'First', 'M', 'Step'], [' solve', ' find', ' determine', ' start', ' answer'], [' this', ' the', ' for', ' Leigh', ' these'], [' problem', ',', ' question', ' step', ' problems'], [',', ' step', '.', ' let', ':\\n\\n'], [' let', ' we', ' first', ' Let', ' lets'], [\"'s\", \"'\", \" '\", ' us', '’s'], [' break', ' start', ' follow', ' first', ' do'], [' it', ' down', ' It', ' is', ' in'], [' down', ' step', ' into', ' up', ' Down'], [' step', ' into', ':\\n\\n', ' steps', ' one'], [' by', '-by', ' By', '.by', '_by'], [' step', '-step', ' Step', ' steps', 'step'], ['.\\n\\n', ':\\n\\n', '.', ':\\n', ':'], ['M', '1', 'First', 'Step', 'Since'], ['imi', 'im', 'imo', 'umi', 'iri'], [' picked', ' has', ' found', ' started', ' initially'], [' up', ' ', '-up', ' Up', ' out'], [' ', ' \"', \" '\", ' two', ' se'], ['2', '1', '۲', ' ', '3'], [' dozen', ' dozens', '-do', ' doz', ' do'], [' se', ' (', ' sea', ' shells', ' seaw'], ['ash', 'ashes', 'ah', 'ach', 'аш'], ['ells', 'ell', 'els', 'ulls', 'alls'], ['.', ',', ' on', ' (', ' which'], [' Since', ' ', ' We', ' One', ' A'], [' ', ' a', ' there', ' one', ' dozen'], ['1', '2', '12', '１', ' dozen'], [' dozen', ' dozens', '-do', ' do', ' Do'], [' equals', ' is', ' =', ' has', ' equal'], [' ', ' to', ' (', ' of', ','], ['12', '1', ' twelve', '2', ' XII'], [',', ' se', ' items', ' shells', ' objects'], [' ', ' M', ' we', ' then', ' \\n'], ['2', ' M', ' ', '۲', ' we'], [' dozen', ' dozens', ' do', '-do', ' Do'], [' equals', ' se', ' is', ' will', ' would'], [' ', ':\\n', ':\\n\\n', ':', ' \\n'], ['2', '24', '12', '22', '25'], [' x', ' *', ' ×', ' times', ' X'], [' ', '12', ' (', ' XII', ' dozen'], ['12', '2', '1', '十二', ' XII'], [' =', ',', ' or', ' +', ' which'], [' ', ' M', ' (', '24', ' \\n'], ['24', '2', '۲۴', ' ', '12'], ['.\\n\\n', ' se', '.', ' shells', '.\\n'], ['Kyle', 'Then', ' Kyle', 'Now', 'Since'], [' found', ' finds', ' Found', 'found', ' find'], [' twice', ' Twice', 'tw', ' ', ' tw'], [' as', ' the', ' many', ' As', ' '], [' many', ' Many', 'many', ' much', ' may'], [' shells', ' se', ' shelves', ' shell', ' sh'], [' as', ' a', ',', ' at', ' As'], [' M', ' Mim', ' Mini', ' ', ' Mi'], ['imi', 'umi', 'iti', 'omi', 'iki'], [',', '.', ' did', ' found', ' picked'], [' so', ' which', ' who', ' and', ' meaning'], [' Kyle', ' he', ' we', 'Kyle', ' Kylie'], [' found', ' has', ' had', ' picked', \"'s\"], [' ', ' (', ' Kyle', ' twice', ' shells'], ['2', '24', '２', '۲۴', '3'], [' x', ' *', ' times', ' ×', ' X'], [' ', ' M', ' (', '24', ' the'], ['24', '۲۴', '2', '024', '25'], [' =', ' shells', ' se', ' (', ' +'], [' ', '48', ' (', ' Kyle', '048'], ['48', '24', '4', '048', ' '], [' se', ' shells', '.\\n\\n', ' sh', ' shell'], ['ash', 'ah', 'ashes', 'аш', 'ach'], ['ells', 'ell', 'els', 'ulls', 'sh'], ['.\\n\\n', ' and', '.', '!\\n\\n', ').\\n\\n'], ['Le', 'Now', ' Leigh', 'Then', 'Since'], ['igh', 'ight', 'IGH', 'ith', 'leigh'], [' grabbed', ' took', ' grab', ' grabbing', ' gras'], [' one', ' ', ' One', 'one', ' ONE'], ['-third', '-thirds', ' third', '_third', 'third'], [' of', ' (', ' Of', ' the', ' '], [' the', ' Kyle', 'Kyle', ' what', ' The'], [' shells', ' se', ' shelves', ' seeds', ' shell'], [' that', ' Kyle', 'Kyle', ' Kylie', ' found'], [' Kyle', 'Kyle', ' Kylie', ' Kelly', ' '], [' found', ' had', 'found', ' Found', ' founded'], ['.', ',', '!', ';', ' .'], [' Since', ' To', ' One', ' So', ' We'], [' Kyle', ' one', ' Leigh', ' Kylie', 'Kyle'], [' found', ' had', ' has', ' have', ' got'], [' ', ' (', ',', ' of', '\\n'], ['48', '048', ' ', '4', '49'], [' se', ' shells', ',', ' shell', ' seeds'], ['ash', 'ashes', 'ah', 'аш', ' ash'], ['ells', 'ell', 'els', 'alls', 'ulls'], [',', ' and', '.', ',\\n', ';'], [' Leigh', ' one', ' we', ' Leah', ' and'], [' grabbed', ' took', ' has', ' got', ' had'], [' ', ' (', ' one', ' \\n', ' ['], ['1', '48', '49', '47', ''], ['/', ' /', '-third', ' x', ''], ['3', '2', '۳', ' ', ' third'], [' x', ' of', ' *', ' ×', ' X'], [' ', ' (', '48', '\\n', ' of'], ['48', '048', ' ', '4', '49'], [' =', '.', '.\\n\\n', ' se', ','], [' ', ' (', ' \\n\\n', '048', ' \\n'], ['16', '48', '1', '18', '15'], [' se', '.\\n\\n', '.', ' shells', ' seeds'], ['ash', 'ashes', 'ah', 'аш', 'ach'], ['ells', 'ell', 'els', 'ulls', 'sh'], ['.\\n\\n', '.', ' (', '.\\n\\n\\n', '\\n\\n'], ['The', 'So', 'Therefore', 'Now', 'Le'], [' answer', 'answer', ' Leigh', ' final', ' se'], [' is', ' ist', ' ', ' Is', ','], [':', ':**', ':.', ' ', ':_'], [' ', '', ' Leigh', '  ', 'printStats'], ['16', ' ', ' XVI', ' sixteen', '18'], ['.', '', '<|eom_id|>', ' se', '<|python_tag|>'], ['', '<|eom_id|>', '<|python_tag|>', '<|start_header_id|>', ' .']]\n"
     ]
    }
   ],
   "source": [
    "print(kd_data[0][\"405B_predictions\"])"
   ]
  },
  {
   "cell_type": "code",
   "execution_count": null,
   "metadata": {
    "colab": {
     "base_uri": "https://localhost:8080/"
    },
    "collapsed": true,
    "executionInfo": {
     "elapsed": 25,
     "status": "ok",
     "timestamp": 1741885556990,
     "user": {
      "displayName": "Lisa Liu",
      "userId": "15421387329476686382"
     },
     "user_tz": 420
    },
    "id": "qJn0tyMb1PES",
    "outputId": "c9753992-3ce4-41de-90ff-7aed0540943c"
   },
   "outputs": [
    {
     "name": "stdout",
     "output_type": "stream",
     "text": [
      "tensor([[  1271,  10267,   5451,     44,   8468],\n",
      "        [ 60519,   3990, 128001,   2527,   9399],\n",
      "        [   576,   1820,   2000, 128001,  45010],\n",
      "        [ 35686,     11,   7998,   9710,  96440],\n",
      "        [    11,   9710,     13,   1169,     25],\n",
      "        [  1169,    906,   3983,  10267,  10145],\n",
      "        [   596,      6,      6,    355, 128001],\n",
      "        [  9137,   2527,  19070,   3983,   3055],\n",
      "        [   275,   2996,   2181,    285,    258],\n",
      "        [  2996,   9710,  18614,    455,   4554],\n",
      "        [  9710,  18614,     25,  25047,    606],\n",
      "        [  1729,  14656,   1383,  19544,   3795],\n",
      "        [  9710,  30308,   8468,  25047,   9710],\n",
      "        [    13,     25,     13,     25,     25],\n",
      "        [    44,     16,   5451,   8468,  12834],\n",
      "        [ 25877,    318,  11620,  25330,  21336],\n",
      "        [ 94599,   4752,  15456,  47823, 128001],\n",
      "        [   455, 128001,   5352,   2378,    412],\n",
      "        [128001,      1,      6,  20375,    325],\n",
      "        [    17,     16, 128001, 128001,     18],\n",
      "        [128001, 128001,  30659, 128001,   3055],\n",
      "        [   325,      7,  37541, 128001, 128001],\n",
      "        [  1003,  14380,   1494,    613, 128001],\n",
      "        [  6572,    616,   2053,  71523,   5700],\n",
      "        [    13,     11,    263,      7,   8370],\n",
      "        [ 12834, 128001,   1687,   4054,     32],\n",
      "        [128001,     64,  19041,    606, 128001],\n",
      "        [    16,     17,    717, 128001, 128001],\n",
      "        [128001, 128001,  30659,   3055,   5519],\n",
      "        [  7324,    285,     28,   4752,  26880],\n",
      "        [128001,    998,      7,   1073,     11],\n",
      "        [   717,     16, 128001,     17, 128001],\n",
      "        [    11,    325,   3699, 128001,  19761],\n",
      "        [128001,     44,    906,   3473, 128001],\n",
      "        [    17,     44, 128001, 128001,    906],\n",
      "        [128001, 128001,   3055,  30659,   5519],\n",
      "        [  7324,    325,    285,  14724,  41450],\n",
      "        [128001,     25,     25,     25, 128001],\n",
      "        [    17,   1187,    717,   1313,    914],\n",
      "        [    87,      9,    147,  15487,     55],\n",
      "        [128001,    717,      7, 128001, 128001],\n",
      "        [   717,     17,     16, 128001, 128001],\n",
      "        [    28,     11,    269,     10,   8370],\n",
      "        [128001,     44,      7,   1187, 128001],\n",
      "        [  1187,     17, 128001, 128001,    717],\n",
      "        [    13,    325,     13, 128001,     13],\n",
      "        [ 92280,  12487,  92280,   7184,  12834],\n",
      "        [ 15456, 128001,   6788,  15456,   3990],\n",
      "        [128001, 128001,  15930, 128001,  15930],\n",
      "        [   300,   1820,  35676,   2170, 128001],\n",
      "        [ 35676,   8607,  35676,  59178,  18864],\n",
      "        [128001,    325, 128001,  22098,    939],\n",
      "        [   300,     64,     11,    266,   2170],\n",
      "        [    44, 128001,  55313, 128001,  42987],\n",
      "        [ 25877,  25330,  12583,  22157,   7723],\n",
      "        [    11,     13,  23770,  15456,  94599],\n",
      "        [   708,   8370,  14965,    438,  57865],\n",
      "        [ 92280,    383,    906,  92280, 128001],\n",
      "        [ 15456,   4752,  32345,  94599,    596],\n",
      "        [128001,      7,  92280, 128001, 128001],\n",
      "        [    17,   1187, 128001, 128001,     18],\n",
      "        [    87,      9,  15487,    147,     55],\n",
      "        [128001,     44,      7,   1187,   1820],\n",
      "        [  1187, 128001,     17,  19592,    914],\n",
      "        [    28, 128001,    325,      7,     10],\n",
      "        [128001,   2166,      7,  92280,  23904],\n",
      "        [  2166,   1187,     19,  23904, 128001],\n",
      "        [   325, 128001,     13,    939,  22098],\n",
      "        [  1003,   1494,  14380, 128001,    613],\n",
      "        [  6572,    616,   2053,  71523,    939],\n",
      "        [    13,    438,     13,      0,    570],\n",
      "        [  2356,   7184, 128001,  12487,  12834],\n",
      "        [  1108,    492,  17186,    411,  64069],\n",
      "        [128001,  91453,  59312, 128001, 128001],\n",
      "        [   606, 128001,   4054,    606,   5338],\n",
      "        [ 30277,  45726,  32827,  80619,  32827],\n",
      "        [  1073,      7,   2173,   1820, 128001],\n",
      "        [  1820,  92280,  92280,  12840,    791],\n",
      "        [128001,    325, 128001, 128001,  22098],\n",
      "        [  9210,  92280,  92280, 128001,  15456],\n",
      "        [ 92280,  92280, 128001,  70172, 128001],\n",
      "        [ 15456,  32345,  15456,   6788, 128001],\n",
      "        [    13,     11,      0,     26,     13],\n",
      "        [ 12834,   1271,   4054,   4516,   1687],\n",
      "        [ 92280,    606, 128001, 128001,  92280],\n",
      "        [ 15456,  32345,   4752,  19553,  23196],\n",
      "        [128001,      7,     11,   1073, 128001],\n",
      "        [  2166,  23904, 128001,     19,   2491],\n",
      "        [   325, 128001,     11,  22098, 128001],\n",
      "        [  1003,  14380,   1494, 128001,   1003],\n",
      "        [  6572,    616,   2053,   5700,  71523],\n",
      "        [    11,    438,     13,     11,     26],\n",
      "        [128001,    606,    906, 128001,    438],\n",
      "        [128001,  91453,   4752,  23196,  32345],\n",
      "        [128001,      7,    606, 128001,     58],\n",
      "        [    16,   2166,   2491,   2618, 128001],\n",
      "        [    14,     14,  30277,     87, 128001],\n",
      "        [    18,     17, 128001, 128001,  32827],\n",
      "        [    87,   1073,      9,    147,     55],\n",
      "        [128001,      7,   2166, 128001,   1073],\n",
      "        [  2166,  23904, 128001,     19,   2491],\n",
      "        [    28,     13,     13,    325,     11],\n",
      "        [128001,      7, 128001,  23904, 128001],\n",
      "        [   845,   2166,     16,    972,    868],\n",
      "        [   325,     13,     13, 128001, 128001],\n",
      "        [  1003,  14380,   1494, 128001,    613],\n",
      "        [  6572,    616,   2053,  71523,    939],\n",
      "        [    13,     13,      7,     13, 128001],\n",
      "        [   791,   4516,  55915,   7184,   2356],\n",
      "        [  9399,   9399, 128001,  12085,    325],\n",
      "        [   285,    380, 128001,   3957,     11],\n",
      "        [    25,  68063,  17406, 128001,  22810],\n",
      "        [128001, 128001, 128001, 128001,  83361],\n",
      "        [   845, 128001, 128001, 128001,    972],\n",
      "        [    13, 128001, 128008,    325, 128010],\n",
      "        [128001, 128008, 128010, 128006,     13]])\n"
     ]
    }
   ],
   "source": [
    "print(distill_train[0][\"teacher_predictions\"])"
   ]
  },
  {
   "cell_type": "code",
   "execution_count": null,
   "metadata": {
    "colab": {
     "base_uri": "https://localhost:8080/"
    },
    "collapsed": true,
    "executionInfo": {
     "elapsed": 46,
     "status": "ok",
     "timestamp": 1741882214808,
     "user": {
      "displayName": "Lisa Liu",
      "userId": "15421387329476686382"
     },
     "user_tz": 420
    },
    "id": "hbCK_LMe1TcK",
    "outputId": "464a97e9-71b2-4709-ab67-40c8faa23a75"
   },
   "outputs": [
    {
     "name": "stdout",
     "output_type": "stream",
     "text": [
      "tensor([[-1.5002e-01, -2.1793e+00, -4.2086e+00, -4.5208e+00, -7.7988e+00],\n",
      "        [-1.0533e+00, -4.2894e-01, -1.0575e+01, -1.3541e+01, -1.3853e+01],\n",
      "        [-1.9056e-01, -1.7515e+00, -2.0483e+01, -2.1108e+01, -2.1498e+01],\n",
      "        [-8.9018e-02, -2.5866e+00, -4.6158e+00, -1.6791e+01, -1.7260e+01],\n",
      "        [ 0.0000e+00, -1.8732e+01, -2.7473e+01, -2.7785e+01, -2.7941e+01],\n",
      "        [-6.9315e-01, -6.9315e-01, -1.4508e+01, -1.4976e+01, -1.5054e+01],\n",
      "        [ 0.0000e+00, -3.1063e+01, -3.2312e+01, -3.2937e+01, -3.5278e+01],\n",
      "        [-5.5121e-02, -3.1771e+00, -4.5820e+00, -6.6112e+00, -8.6405e+00],\n",
      "        [ 0.0000e+00, -2.3415e+01, -2.6224e+01, -3.3249e+01, -3.3873e+01],\n",
      "        [ 0.0000e+00, -2.3415e+01, -2.8410e+01, -3.0127e+01, -3.2312e+01],\n",
      "        [-1.7127e-02, -4.0757e+00, -2.0310e+01, -2.2183e+01, -2.3276e+01],\n",
      "        [ 0.0000e+00, -1.8107e+01, -3.5434e+01, -3.9180e+01, -4.0585e+01],\n",
      "        [ 0.0000e+00, -2.3727e+01, -2.4039e+01, -2.4820e+01, -2.5132e+01],\n",
      "        [-3.7726e-01, -1.1577e+00, -9.5870e+00, -1.4348e+01, -1.5753e+01],\n",
      "        [-2.4835e+00, -4.5420e-01, -1.3908e+00, -3.4201e+00, -1.8093e+01],\n",
      "        [ 0.0000e+00, -2.2166e+01, -2.4039e+01, -2.4195e+01, -2.4351e+01],\n",
      "        [-3.1633e-04, -8.1174e+00, -1.0927e+01, -1.6703e+01, -1.8108e+01],\n",
      "        [ 0.0000e+00, -2.3259e+01, -3.3561e+01, -3.5434e+01, -3.7463e+01],\n",
      "        [ 0.0000e+00, -2.7785e+01, -3.2000e+01, -3.2000e+01, -3.3093e+01],\n",
      "        [ 0.0000e+00, -2.6068e+01, -3.0127e+01, -3.2156e+01, -3.2702e+01],\n",
      "        [ 0.0000e+00, -2.3883e+01, -2.8254e+01, -3.4341e+01, -3.4810e+01],\n",
      "        [ 0.0000e+00, -1.8732e+01, -2.3883e+01, -2.4039e+01, -2.6537e+01],\n",
      "        [ 0.0000e+00, -2.6068e+01, -2.6068e+01, -2.7317e+01, -2.9034e+01],\n",
      "        [ 0.0000e+00, -2.0137e+01, -2.5444e+01, -2.5756e+01, -2.6693e+01],\n",
      "        [-1.6655e-01, -2.0397e+00, -3.7568e+00, -1.7259e+01, -1.7728e+01],\n",
      "        [-1.8371e-01, -2.2130e+00, -3.7739e+00, -3.9300e+00, -4.7105e+00],\n",
      "        [-2.7343e-01, -1.5222e+00, -3.8637e+00, -1.1044e+01, -1.7054e+01],\n",
      "        [-2.3842e-07, -1.6234e+01, -1.6390e+01, -2.7161e+01, -2.7473e+01],\n",
      "        [ 0.0000e+00, -2.7317e+01, -2.9034e+01, -3.0907e+01, -3.2937e+01],\n",
      "        [-1.7933e+00, -2.3228e-01, -3.1981e+00, -1.1315e+01, -1.1783e+01],\n",
      "        [ 0.0000e+00, -3.2156e+01, -3.7463e+01, -4.1522e+01, -4.2459e+01],\n",
      "        [ 0.0000e+00, -2.5912e+01, -2.6380e+01, -2.6849e+01, -2.7629e+01],\n",
      "        [-1.1921e-07, -1.6078e+01, -1.6702e+01, -1.7639e+01, -2.5912e+01],\n",
      "        [-5.8852e-01, -9.0072e-01, -3.3983e+00, -5.2714e+00, -1.2296e+01],\n",
      "        [ 0.0000e+00, -1.8263e+01, -2.3102e+01, -3.0283e+01, -3.0283e+01],\n",
      "        [-2.8729e-05, -1.0459e+01, -1.7483e+01, -1.9044e+01, -2.1854e+01],\n",
      "        [-3.7548e-01, -1.4682e+00, -3.1852e+00, -3.8096e+00, -3.9657e+00],\n",
      "        [-3.8147e-06, -1.2488e+01, -2.1854e+01, -2.1854e+01, -2.2634e+01],\n",
      "        [-5.8795e-03, -5.6254e+00, -6.0937e+00, -1.8269e+01, -1.8972e+01],\n",
      "        [-1.0533e+00, -4.2893e-01, -1.1356e+01, -1.4868e+01, -1.5024e+01],\n",
      "        [ 0.0000e+00, -3.0907e+01, -3.6683e+01, -3.7463e+01, -3.8478e+01],\n",
      "        [ 0.0000e+00, -2.5444e+01, -2.6068e+01, -2.6693e+01, -2.6849e+01],\n",
      "        [-7.1526e-07, -1.4205e+01, -2.4507e+01, -2.5912e+01, -2.6693e+01],\n",
      "        [ 0.0000e+00, -3.4966e+01, -3.5278e+01, -3.6839e+01, -3.8244e+01],\n",
      "        [ 0.0000e+00, -2.2478e+01, -2.6693e+01, -2.7005e+01, -2.8566e+01],\n",
      "        [-1.7247e+00, -3.1982e-01, -2.3491e+00, -1.0310e+01, -1.2964e+01],\n",
      "        [-2.0359e-04, -9.0539e+00, -9.9904e+00, -1.0459e+01, -1.2176e+01],\n",
      "        [ 0.0000e+00, -2.9659e+01, -3.0127e+01, -3.0595e+01, -3.0907e+01],\n",
      "        [ 0.0000e+00, -2.8722e+01, -3.3093e+01, -3.5902e+01, -3.6215e+01],\n",
      "        [ 0.0000e+00, -3.8400e+01, -4.0585e+01, -4.0741e+01, -4.1522e+01],\n",
      "        [ 0.0000e+00, -3.3249e+01, -3.5590e+01, -3.8088e+01, -3.8400e+01],\n",
      "        [-9.2094e-03, -4.6921e+00, -1.8273e+01, -1.9209e+01, -2.1395e+01],\n",
      "        [ 0.0000e+00, -3.6527e+01, -3.8556e+01, -3.9961e+01, -4.0117e+01],\n",
      "        [ 0.0000e+00, -3.3405e+01, -3.7776e+01, -3.7932e+01, -3.9024e+01],\n",
      "        [ 0.0000e+00, -2.4507e+01, -2.5912e+01, -2.6380e+01, -2.6537e+01],\n",
      "        [-7.7425e-01, -6.1815e-01, -1.1233e+01, -1.5291e+01, -1.7789e+01],\n",
      "        [-1.9056e-01, -1.7515e+00, -1.3927e+01, -1.6581e+01, -1.8298e+01],\n",
      "        [-1.0830e-01, -2.2937e+00, -6.3522e+00, -1.3064e+01, -1.4391e+01],\n",
      "        [-2.8931e-01, -1.3820e+00, -8.8747e+00, -1.2465e+01, -1.5587e+01],\n",
      "        [ 0.0000e+00, -3.0439e+01, -3.1376e+01, -3.2156e+01, -3.2624e+01],\n",
      "        [-6.7480e-03, -5.0019e+00, -2.0221e+01, -2.1236e+01, -2.1392e+01],\n",
      "        [-4.0773e-04, -7.8053e+00, -1.6391e+01, -2.1542e+01, -2.4196e+01],\n",
      "        [ 0.0000e+00, -3.2937e+01, -3.4185e+01, -4.0898e+01, -4.2615e+01],\n",
      "        [ 0.0000e+00, -2.6068e+01, -2.8878e+01, -3.1532e+01, -3.2546e+01],\n",
      "        [ 0.0000e+00, -2.0293e+01, -2.4976e+01, -2.4976e+01, -3.0127e+01],\n",
      "        [ 0.0000e+00, -3.3483e+01, -3.4576e+01, -3.5746e+01, -3.6449e+01],\n",
      "        [ 0.0000e+00, -2.4820e+01, -2.6849e+01, -2.7473e+01, -2.7707e+01],\n",
      "        [-7.4013e-01, -7.4013e-01, -3.0816e+00, -1.2604e+01, -1.3306e+01],\n",
      "        [ 0.0000e+00, -2.2478e+01, -2.3883e+01, -2.6849e+01, -2.7161e+01],\n",
      "        [ 0.0000e+00, -2.0761e+01, -2.5912e+01, -2.7473e+01, -2.7941e+01],\n",
      "        [ 0.0000e+00, -1.8888e+01, -2.1229e+01, -2.6068e+01, -2.7005e+01],\n",
      "        [-4.0785e-04, -7.8053e+00, -1.6391e+01, -1.7015e+01, -1.7327e+01],\n",
      "        [ 0.0000e+00, -2.3883e+01, -2.4039e+01, -2.4039e+01, -2.7005e+01],\n",
      "        [-5.5703e-04, -7.4932e+00, -1.8108e+01, -1.8420e+01, -1.8888e+01],\n",
      "        [-2.3842e-07, -1.5454e+01, -2.1073e+01, -2.4273e+01, -2.4429e+01],\n",
      "        [ 0.0000e+00, -2.3883e+01, -2.6224e+01, -2.9034e+01, -2.9971e+01],\n",
      "        [ 0.0000e+00, -2.0293e+01, -3.7151e+01, -3.8868e+01, -3.9180e+01],\n",
      "        [ 0.0000e+00, -1.7171e+01, -3.2156e+01, -3.3717e+01, -3.7463e+01],\n",
      "        [-3.6199e-03, -5.6231e+00, -2.4511e+01, -2.6228e+01, -2.6540e+01],\n",
      "        [-3.7008e-02, -3.3151e+00, -1.6896e+01, -1.9471e+01, -2.0174e+01],\n",
      "        [ 0.0000e+00, -2.1073e+01, -2.9971e+01, -3.3093e+01, -3.3873e+01],\n",
      "        [ 0.0000e+00, -2.7317e+01, -3.1844e+01, -3.2468e+01, -3.2937e+01],\n",
      "        [-1.7127e-02, -4.0757e+00, -1.9295e+01, -1.9842e+01, -1.9998e+01],\n",
      "        [-2.2813e+00, -4.0818e-01, -1.5009e+00, -4.6228e+00, -8.6813e+00],\n",
      "        [-2.4888e-02, -4.0834e+00, -4.8639e+00, -1.2591e+01, -1.2669e+01],\n",
      "        [-2.5833e-01, -1.5071e+00, -5.0974e+00, -1.5556e+01, -1.7351e+01],\n",
      "        [ 0.0000e+00, -3.4185e+01, -3.5278e+01, -3.6449e+01, -3.6449e+01],\n",
      "        [ 0.0000e+00, -2.7785e+01, -2.8254e+01, -2.9893e+01, -3.0439e+01],\n",
      "        [-2.4346e-02, -3.7707e+00, -6.8926e+00, -1.5478e+01, -1.5634e+01],\n",
      "        [ 0.0000e+00, -1.7639e+01, -2.0761e+01, -2.4195e+01, -2.5132e+01],\n",
      "        [ 0.0000e+00, -1.7795e+01, -2.0605e+01, -2.2478e+01, -2.2946e+01],\n",
      "        [-1.1694e-04, -9.0538e+00, -2.2634e+01, -2.6771e+01, -2.6849e+01],\n",
      "        [-2.9289e-01, -1.3856e+00, -5.6002e+00, -1.1532e+01, -1.2547e+01],\n",
      "        [-1.2048e-01, -2.6180e+00, -3.2424e+00, -6.5205e+00, -1.1828e+01],\n",
      "        [-5.8476e-02, -2.8682e+00, -1.6449e+01, -2.1756e+01, -2.2224e+01],\n",
      "        [-1.6517e-01, -1.8822e+00, -1.5072e+01, -1.5307e+01, -1.6712e+01],\n",
      "        [ 0.0000e+00, -2.8410e+01, -3.3561e+01, -3.4810e+01, -3.6215e+01],\n",
      "        [ 0.0000e+00, -3.0751e+01, -3.1063e+01, -3.2156e+01, -3.3093e+01],\n",
      "        [-9.8120e-01, -5.1291e-01, -3.6349e+00, -1.4249e+01, -1.7684e+01],\n",
      "        [ 0.0000e+00, -3.3561e+01, -3.6371e+01, -3.8244e+01, -3.9415e+01],\n",
      "        [ 0.0000e+00, -2.7473e+01, -2.9971e+01, -3.1141e+01, -3.1220e+01],\n",
      "        [-1.5384e-01, -2.0270e+00, -4.5246e+00, -1.0925e+01, -1.3578e+01],\n",
      "        [-9.5367e-07, -1.3893e+01, -2.3649e+01, -2.4117e+01, -2.4117e+01],\n",
      "        [-1.3819e+00, -2.8919e-01, -1.0904e+01, -1.5821e+01, -1.6133e+01],\n",
      "        [-4.2892e-01, -1.0533e+00, -1.2761e+01, -1.2917e+01, -1.5648e+01],\n",
      "        [ 0.0000e+00, -1.9668e+01, -1.9668e+01, -2.1541e+01, -2.3259e+01],\n",
      "        [ 0.0000e+00, -1.7639e+01, -2.0605e+01, -2.2478e+01, -2.3259e+01],\n",
      "        [-8.7022e-06, -1.1707e+01, -1.4517e+01, -2.3102e+01, -2.3102e+01],\n",
      "        [-2.8106e-04, -8.4295e+00, -9.6783e+00, -1.8108e+01, -1.8732e+01],\n",
      "        [ 0.0000e+00, -2.2946e+01, -2.3415e+01, -2.3571e+01, -2.4351e+01],\n",
      "        [ 0.0000e+00, -2.4820e+01, -2.7551e+01, -2.8098e+01, -2.8488e+01],\n",
      "        [ 0.0000e+00, -2.6068e+01, -2.6380e+01, -2.7161e+01, -2.8722e+01],\n",
      "        [ 0.0000e+00, -2.5600e+01, -2.6537e+01, -2.7005e+01, -2.8488e+01],\n",
      "        [-8.8950e-04, -7.0253e+00, -1.8264e+01, -2.0528e+01, -2.1542e+01],\n",
      "        [-4.9429e-03, -5.3123e+00, -1.8893e+01, -1.9829e+01, -2.0063e+01],\n",
      "        [ 0.0000e+00, -1.9824e+01, -2.1620e+01, -2.7005e+01, -2.7395e+01]])\n"
     ]
    }
   ],
   "source": [
    "print(distill_train[0][\"teacher_logprobs\"])"
   ]
  },
  {
   "cell_type": "markdown",
   "metadata": {
    "id": "HN8m4vYIFjSV"
   },
   "source": [
    "**The following defines the white-box KD training instance with hyperparameters alpha and beta. The value alpha determines the ratio of forward KLD (vs. reverse KLD) and the value beta determines the ratio of ground truth loss (vs. total KLD).**"
   ]
  },
  {
   "cell_type": "code",
   "execution_count": null,
   "metadata": {
    "id": "3nrMKce9lmhM"
   },
   "outputs": [],
   "source": [
    "import torch\n",
    "import torch.nn.functional as F\n",
    "from transformers import Trainer\n",
    "\n",
    "# def recursive_convert_to_float(obj):\n",
    "#     if isinstance(obj, list):\n",
    "#         return [recursive_convert_to_float(x) for x in obj]\n",
    "#     return float(obj)\n",
    "\n",
    "# Helper function to compute teacher probability distribution from teacher_logprobs.\n",
    "def compute_teacher_distribution(teacher_logprobs):\n",
    "    # If teacher_logprobs is a list, convert it to a tensor.\n",
    "    # if isinstance(teacher_logprobs, list):\n",
    "    #     teacher_logprobs = recursive_convert_to_float(teacher_logprobs)\n",
    "    #     teacher_logprobs = torch.tensor(teacher_logprobs, dtype=torch.float)\n",
    "    # Convert negative log probs to probs (p = exp(-nlogp)), then normalize over the top-k tokens. (shape: [B, S, 5])\n",
    "    teacher_probs = torch.exp(-teacher_logprobs)\n",
    "    teacher_probs = teacher_probs / teacher_probs.sum(dim=-1, keepdim=True)\n",
    "    return teacher_probs\n",
    "\n",
    "class DistillationTrainer(Trainer):\n",
    "    def __init__(self, *args, alpha=0.5, beta=0.5, **kwargs):\n",
    "        \"\"\"\n",
    "        alpha: weight for the distillation (KL) loss.\n",
    "        beta: weight for the ground truth (CE) loss.\n",
    "        \"\"\"\n",
    "        super().__init__(*args, **kwargs)\n",
    "        self.alpha = alpha  # weight for forward vs. reverse KL loss\n",
    "        self.beta = beta    # weight for the ground-truth CE loss vs KL\n",
    "\n",
    "    def compute_loss(self, model, inputs, return_outputs=False, **kwargs):\n",
    "        # Extract teacher predictions and logprobs from the inputs and remove them from the dict.\n",
    "        teacher_preds = inputs.pop(\"teacher_predictions\")  # expected shape: [B, seq_length, top_k]\n",
    "        teacher_logprobs = inputs.pop(\"teacher_logprobs\")   # expected shape: [B, seq_length, top_k]\n",
    "\n",
    "        # model_inputs = {key: inputs[key] for key in [\"input_ids\", \"attention_mask\", \"labels\"] if key in inputs}\n",
    "        outputs = model(**inputs)\n",
    "        logits = outputs.logits  # shape: [B, seq_length, vocab_size]\n",
    "\n",
    "        # 1. Compute cross-entropy loss with the ground truth.\n",
    "        labels = inputs.get(\"labels\")\n",
    "        loss_ce = F.cross_entropy(\n",
    "            logits.view(-1, logits.size(-1)),\n",
    "            labels.view(-1),\n",
    "            ignore_index=-100\n",
    "        )\n",
    "\n",
    "        # 2. Compute the distillation loss on the teacher’s token predictions.\n",
    "        # Convert teacher_logprobs into a probability distribution.\n",
    "        teacher_probs = compute_teacher_distribution(teacher_logprobs)  # shape: [B, seq_length, top_k]\n",
    "\n",
    "        # Gather the student logits for the teacher's top-k tokens.\n",
    "        # teacher_preds should contain the token indices corresponding to the top-k teacher predictions.\n",
    "        student_logits_top = torch.gather(logits, dim=-1, index=teacher_preds)\n",
    "        student_probs_top = F.softmax(student_logits_top, dim=-1)\n",
    "\n",
    "        # Compute forward KL: KL(teacher || student) = Σ teacher_probs * (log(teacher_probs) - log(student_probs_top))\n",
    "        forward_kl = (teacher_probs * (torch.log(teacher_probs + 1e-8) - torch.log(student_probs_top + 1e-8))).sum(dim=-1).mean()\n",
    "\n",
    "        # Compute reverse KL: KL(student || teacher) = Σ student_probs_top * (log(student_probs_top) - log(teacher_probs))\n",
    "        reverse_kl = (student_probs_top * (torch.log(student_probs_top + 1e-8) - torch.log(teacher_probs + 1e-8))).sum(dim=-1).mean()\n",
    "\n",
    "        # Combine the two KL terms.\n",
    "        distill_loss = self.alpha * forward_kl + (1 - self.alpha) * reverse_kl\n",
    "\n",
    "        # Combine the losses.\n",
    "        loss = (1 - self.beta) * distill_loss + self.beta * loss_ce\n",
    "\n",
    "        if return_outputs:\n",
    "            return loss, outputs\n",
    "        return loss\n"
   ]
  },
  {
   "cell_type": "markdown",
   "metadata": {
    "id": "3dCv7HwtF8ux"
   },
   "source": [
    "**We should run the following experiments: \\\n",
    "(alpha, beta) = (0.5, 0.5) which is the default \\\n",
    "(alpha, beta) = (0, 0.5) which is fully reverse KLD (mode-seeking) \\\n",
    "(alpha, beta) = (1, 0.5) which is fully foward KLD (mode-covering). \\\n",
    "If time permits, we can explore other options, such as decreasing beta and asymetrical combinations of KLD.**"
   ]
  },
  {
   "cell_type": "code",
   "execution_count": null,
   "metadata": {
    "id": "lUdb2cf9uUQk"
   },
   "outputs": [],
   "source": [
    "alpha = 0.5  # Weight for forward KL; (1-alpha) for reverse KL loss\n",
    "beta = 0.5  # Weight for the ground truth (CE) loss; (1-beta) for total KL loss\n",
    "\n",
    "output_dir = output_dir = f\"./gsm8k_alpha={alpha}_beta={beta}\" # saves in a different dir for different params"
   ]
  },
  {
   "cell_type": "code",
   "execution_count": null,
   "metadata": {
    "colab": {
     "base_uri": "https://localhost:8080/",
     "height": 402
    },
    "executionInfo": {
     "elapsed": 4277,
     "status": "error",
     "timestamp": 1741885638893,
     "user": {
      "displayName": "Lisa Liu",
      "userId": "15421387329476686382"
     },
     "user_tz": 420
    },
    "id": "omf5HUBanxwD",
    "outputId": "d455abe2-36f3-4218-ed6c-2b360171b416"
   },
   "outputs": [
    {
     "name": "stderr",
     "output_type": "stream",
     "text": [
      "<ipython-input-104-a508342b57b8>:27: FutureWarning: `tokenizer` is deprecated and will be removed in version 5.0.0 for `DistillationTrainer.__init__`. Use `processing_class` instead.\n",
      "  super().__init__(*args, **kwargs)\n"
     ]
    },
    {
     "ename": "AssertionError",
     "evalue": "No inf checks were recorded for this optimizer.",
     "output_type": "error",
     "traceback": [
      "\u001b[0;31m---------------------------------------------------------------------------\u001b[0m",
      "\u001b[0;31mAssertionError\u001b[0m                            Traceback (most recent call last)",
      "\u001b[0;32m<ipython-input-106-42ed0a157572>\u001b[0m in \u001b[0;36m<cell line: 0>\u001b[0;34m()\u001b[0m\n\u001b[1;32m     33\u001b[0m \u001b[0;34m\u001b[0m\u001b[0m\n\u001b[1;32m     34\u001b[0m \u001b[0;31m# Start training.\u001b[0m\u001b[0;34m\u001b[0m\u001b[0;34m\u001b[0m\u001b[0m\n\u001b[0;32m---> 35\u001b[0;31m \u001b[0mtrainer\u001b[0m\u001b[0;34m.\u001b[0m\u001b[0mtrain\u001b[0m\u001b[0;34m(\u001b[0m\u001b[0;34m)\u001b[0m\u001b[0;34m\u001b[0m\u001b[0;34m\u001b[0m\u001b[0m\n\u001b[0m\u001b[1;32m     36\u001b[0m \u001b[0mtrainer\u001b[0m\u001b[0;34m.\u001b[0m\u001b[0msave_model\u001b[0m\u001b[0;34m(\u001b[0m\u001b[0moutput_dir\u001b[0m\u001b[0;34m)\u001b[0m\u001b[0;34m\u001b[0m\u001b[0;34m\u001b[0m\u001b[0m\n",
      "\u001b[0;32m/usr/local/lib/python3.11/dist-packages/transformers/trainer.py\u001b[0m in \u001b[0;36mtrain\u001b[0;34m(self, resume_from_checkpoint, trial, ignore_keys_for_eval, **kwargs)\u001b[0m\n\u001b[1;32m   2169\u001b[0m                 \u001b[0mhf_hub_utils\u001b[0m\u001b[0;34m.\u001b[0m\u001b[0menable_progress_bars\u001b[0m\u001b[0;34m(\u001b[0m\u001b[0;34m)\u001b[0m\u001b[0;34m\u001b[0m\u001b[0;34m\u001b[0m\u001b[0m\n\u001b[1;32m   2170\u001b[0m         \u001b[0;32melse\u001b[0m\u001b[0;34m:\u001b[0m\u001b[0;34m\u001b[0m\u001b[0;34m\u001b[0m\u001b[0m\n\u001b[0;32m-> 2171\u001b[0;31m             return inner_training_loop(\n\u001b[0m\u001b[1;32m   2172\u001b[0m                 \u001b[0margs\u001b[0m\u001b[0;34m=\u001b[0m\u001b[0margs\u001b[0m\u001b[0;34m,\u001b[0m\u001b[0;34m\u001b[0m\u001b[0;34m\u001b[0m\u001b[0m\n\u001b[1;32m   2173\u001b[0m                 \u001b[0mresume_from_checkpoint\u001b[0m\u001b[0;34m=\u001b[0m\u001b[0mresume_from_checkpoint\u001b[0m\u001b[0;34m,\u001b[0m\u001b[0;34m\u001b[0m\u001b[0;34m\u001b[0m\u001b[0m\n",
      "\u001b[0;32m/usr/local/lib/python3.11/dist-packages/transformers/trainer.py\u001b[0m in \u001b[0;36m_inner_training_loop\u001b[0;34m(self, batch_size, args, resume_from_checkpoint, trial, ignore_keys_for_eval)\u001b[0m\n\u001b[1;32m   2582\u001b[0m                         \u001b[0mself\u001b[0m\u001b[0;34m.\u001b[0m\u001b[0mcontrol\u001b[0m \u001b[0;34m=\u001b[0m \u001b[0mself\u001b[0m\u001b[0;34m.\u001b[0m\u001b[0mcallback_handler\u001b[0m\u001b[0;34m.\u001b[0m\u001b[0mon_pre_optimizer_step\u001b[0m\u001b[0;34m(\u001b[0m\u001b[0margs\u001b[0m\u001b[0;34m,\u001b[0m \u001b[0mself\u001b[0m\u001b[0;34m.\u001b[0m\u001b[0mstate\u001b[0m\u001b[0;34m,\u001b[0m \u001b[0mself\u001b[0m\u001b[0;34m.\u001b[0m\u001b[0mcontrol\u001b[0m\u001b[0;34m)\u001b[0m\u001b[0;34m\u001b[0m\u001b[0;34m\u001b[0m\u001b[0m\n\u001b[1;32m   2583\u001b[0m \u001b[0;34m\u001b[0m\u001b[0m\n\u001b[0;32m-> 2584\u001b[0;31m                         \u001b[0mself\u001b[0m\u001b[0;34m.\u001b[0m\u001b[0moptimizer\u001b[0m\u001b[0;34m.\u001b[0m\u001b[0mstep\u001b[0m\u001b[0;34m(\u001b[0m\u001b[0;34m)\u001b[0m\u001b[0;34m\u001b[0m\u001b[0;34m\u001b[0m\u001b[0m\n\u001b[0m\u001b[1;32m   2585\u001b[0m \u001b[0;34m\u001b[0m\u001b[0m\n\u001b[1;32m   2586\u001b[0m                         \u001b[0mself\u001b[0m\u001b[0;34m.\u001b[0m\u001b[0mcontrol\u001b[0m \u001b[0;34m=\u001b[0m \u001b[0mself\u001b[0m\u001b[0;34m.\u001b[0m\u001b[0mcallback_handler\u001b[0m\u001b[0;34m.\u001b[0m\u001b[0mon_optimizer_step\u001b[0m\u001b[0;34m(\u001b[0m\u001b[0margs\u001b[0m\u001b[0;34m,\u001b[0m \u001b[0mself\u001b[0m\u001b[0;34m.\u001b[0m\u001b[0mstate\u001b[0m\u001b[0;34m,\u001b[0m \u001b[0mself\u001b[0m\u001b[0;34m.\u001b[0m\u001b[0mcontrol\u001b[0m\u001b[0;34m)\u001b[0m\u001b[0;34m\u001b[0m\u001b[0;34m\u001b[0m\u001b[0m\n",
      "\u001b[0;32m/usr/local/lib/python3.11/dist-packages/accelerate/optimizer.py\u001b[0m in \u001b[0;36mstep\u001b[0;34m(self, closure)\u001b[0m\n\u001b[1;32m    163\u001b[0m                 \u001b[0mself\u001b[0m\u001b[0;34m.\u001b[0m\u001b[0moptimizer\u001b[0m\u001b[0;34m.\u001b[0m\u001b[0mstep\u001b[0m \u001b[0;34m=\u001b[0m \u001b[0mself\u001b[0m\u001b[0;34m.\u001b[0m\u001b[0m_optimizer_patched_step_method\u001b[0m\u001b[0;34m\u001b[0m\u001b[0;34m\u001b[0m\u001b[0m\n\u001b[1;32m    164\u001b[0m \u001b[0;34m\u001b[0m\u001b[0m\n\u001b[0;32m--> 165\u001b[0;31m                 \u001b[0mself\u001b[0m\u001b[0;34m.\u001b[0m\u001b[0mscaler\u001b[0m\u001b[0;34m.\u001b[0m\u001b[0mstep\u001b[0m\u001b[0;34m(\u001b[0m\u001b[0mself\u001b[0m\u001b[0;34m.\u001b[0m\u001b[0moptimizer\u001b[0m\u001b[0;34m,\u001b[0m \u001b[0mclosure\u001b[0m\u001b[0;34m)\u001b[0m\u001b[0;34m\u001b[0m\u001b[0;34m\u001b[0m\u001b[0m\n\u001b[0m\u001b[1;32m    166\u001b[0m                 \u001b[0mself\u001b[0m\u001b[0;34m.\u001b[0m\u001b[0mscaler\u001b[0m\u001b[0;34m.\u001b[0m\u001b[0mupdate\u001b[0m\u001b[0;34m(\u001b[0m\u001b[0;34m)\u001b[0m\u001b[0;34m\u001b[0m\u001b[0;34m\u001b[0m\u001b[0m\n\u001b[1;32m    167\u001b[0m \u001b[0;34m\u001b[0m\u001b[0m\n",
      "\u001b[0;32m/usr/local/lib/python3.11/dist-packages/torch/amp/grad_scaler.py\u001b[0m in \u001b[0;36mstep\u001b[0;34m(self, optimizer, *args, **kwargs)\u001b[0m\n\u001b[1;32m    452\u001b[0m \u001b[0;34m\u001b[0m\u001b[0m\n\u001b[1;32m    453\u001b[0m         assert (\n\u001b[0;32m--> 454\u001b[0;31m             \u001b[0mlen\u001b[0m\u001b[0;34m(\u001b[0m\u001b[0moptimizer_state\u001b[0m\u001b[0;34m[\u001b[0m\u001b[0;34m\"found_inf_per_device\"\u001b[0m\u001b[0;34m]\u001b[0m\u001b[0;34m)\u001b[0m \u001b[0;34m>\u001b[0m \u001b[0;36m0\u001b[0m\u001b[0;34m\u001b[0m\u001b[0;34m\u001b[0m\u001b[0m\n\u001b[0m\u001b[1;32m    455\u001b[0m         ), \"No inf checks were recorded for this optimizer.\"\n\u001b[1;32m    456\u001b[0m \u001b[0;34m\u001b[0m\u001b[0m\n",
      "\u001b[0;31mAssertionError\u001b[0m: No inf checks were recorded for this optimizer."
     ]
    }
   ],
   "source": [
    "from transformers import Trainer, TrainingArguments, DataCollatorWithPadding\n",
    "\n",
    "# Data collator for dynamic padding\n",
    "data_collator = DataCollatorWithPadding(tokenizer=tokenizer, return_tensors=\"pt\")\n",
    "\n",
    "# Set up training arguments.\n",
    "training_args = TrainingArguments(\n",
    "    output_dir=output_dir,\n",
    "    per_device_train_batch_size=1, # Increasing batch size might cuase problems\n",
    "    gradient_accumulation_steps=16,\n",
    "    num_train_epochs=5,\n",
    "    logging_steps=5, # adjust as needed\n",
    "    save_steps=50, # adjust as needed\n",
    "    learning_rate=1e-4,\n",
    "    weight_decay=0.01,\n",
    "    fp16=False,                     # needs to be turned off!\n",
    "    gradient_checkpointing=True,\n",
    "    logging_dir=\"./logs\",\n",
    "    # optim=\"adamw_torch\",\n",
    "    warmup_steps=20,  #This should be around 5-10% of total steps\n",
    "    remove_unused_columns=False,  # to include additional columns\n",
    "    report_to=[\"wandb\"]\n",
    ")\n",
    "\n",
    "# Instantiate the custom distillation trainer.\n",
    "trainer = DistillationTrainer(\n",
    "    model=lora_model,\n",
    "    args=training_args,\n",
    "    train_dataset=distill_train,  # prepared dataset here\n",
    "    tokenizer=tokenizer,\n",
    "    data_collator=data_collator,\n",
    ")\n",
    "\n",
    "# Start training.\n",
    "trainer.train()\n",
    "trainer.save_model(output_dir)"
   ]
  },
  {
   "cell_type": "markdown",
   "metadata": {
    "id": "gAWiJOQg7RFT"
   },
   "source": [
    "# **Rank Optimization**"
   ]
  },
  {
   "cell_type": "code",
   "execution_count": null,
   "metadata": {
    "id": "nj9Q2cR97XfN"
   },
   "outputs": [],
   "source": [
    "import torch\n",
    "import torch.nn.functional as F\n",
    "from transformers import Trainer, TrainingArguments, AutoModelForCausalLM, AutoTokenizer\n",
    "\n",
    "# Hyperparameters for ranking distillation; larger means stricter ordering\n",
    "RANKING_MARGIN = 0.8  # Desired margin between scores for preferred vs. less-preferred tokens\n",
    "LAM = 0.6 # ratio of CE Loss w true label\n",
    "\n",
    "def compute_ranking_loss(student_logits_selected, margin=RANKING_MARGIN):\n",
    "    \"\"\"\n",
    "    Compute a pairwise ranking loss for a tensor of student logits that have been gathered\n",
    "    for the teacher's top-K tokens.\n",
    "\n",
    "    Args:\n",
    "        student_logits_selected (torch.Tensor): shape [B, S, K] where B=batch size, S=sequence length,\n",
    "                                                  K=number of teacher-ranked tokens (e.g., 5).\n",
    "        margin (float): The margin to enforce between logits for tokens ranked higher vs. lower.\n",
    "\n",
    "    Returns:\n",
    "        torch.Tensor: Scalar ranking loss.\n",
    "    \"\"\"\n",
    "    B, S, K = student_logits_selected.shape\n",
    "    loss = 0.0\n",
    "    count = 0\n",
    "    # For each pair of positions in the teacher's ranked list:\n",
    "    # Teacher implies that token at position i should have a higher logit than token at position j if i < j.\n",
    "    for i in range(K):\n",
    "        for j in range(i+1, K):\n",
    "            # Difference between the logit for the token ranked i and the one ranked j.\n",
    "            diff = student_logits_selected[..., i] - student_logits_selected[..., j]  # shape: [B, S]\n",
    "            # We want diff >= margin. If not, incur a hinge loss.\n",
    "            pair_loss = F.relu(margin - diff)  # shape: [B, S]\n",
    "            loss += pair_loss.mean()  # average loss over batch and sequence for this pair\n",
    "            count += 1\n",
    "\n",
    "    return loss / count if count > 0 else loss\n",
    "\n",
    "class RankingDistillationTrainer(Trainer):\n",
    "    def compute_loss(self, model, inputs, return_outputs=False, **kargs):\n",
    "        # Extract teacher's ranked token indices.\n",
    "        # Expected shape: [B, S, K]\n",
    "        teacher_top_indices = inputs.pop(\"teacher_predictions\")\n",
    "        inputs.pop(\"teacher_logprobs\")\n",
    "\n",
    "        # Forward pass: compute the student model's logits.\n",
    "        outputs = model(**inputs)\n",
    "        student_logits = outputs.logits  # shape: [B, S, V] where V is the vocabulary size\n",
    "\n",
    "        # Compute standard cross entropy loss.\n",
    "        # Here, we flatten batch and sequence dimensions.\n",
    "        labels = inputs.get(\"labels\")\n",
    "        ce_loss = F.cross_entropy(\n",
    "            student_logits.view(-1, student_logits.size(-1)),\n",
    "            labels.view(-1),\n",
    "            ignore_index=-100  # Adjust if you're using a different padding/ignore index.\n",
    "        )\n",
    "\n",
    "        # Gather student logits for the teacher's top tokens.\n",
    "        # teacher_top_indices is used to index the vocabulary dimension.\n",
    "        student_logits_selected = torch.gather(student_logits, dim=-1, index=teacher_top_indices)\n",
    "        # student_logits_selected has shape [B, S, K]\n",
    "        # Compute the ranking loss.\n",
    "        ranking_loss = compute_ranking_loss(student_logits_selected, margin=RANKING_MARGIN)\n",
    "\n",
    "        # Compute the total loss.\n",
    "        loss = LAM * ce_loss + (1-LAM) * ranking_loss\n",
    "\n",
    "        return (loss, outputs) if return_outputs else loss"
   ]
  },
  {
   "cell_type": "code",
   "execution_count": null,
   "metadata": {
    "id": "UutNrBqXPzW3"
   },
   "outputs": [],
   "source": [
    "output_dir = f\"./gesm8k_rank_margin={RANKING_MARGIN}_lam={LAM}\""
   ]
  },
  {
   "cell_type": "code",
   "execution_count": null,
   "metadata": {
    "colab": {
     "base_uri": "https://localhost:8080/",
     "height": 1000
    },
    "collapsed": true,
    "executionInfo": {
     "elapsed": 1365317,
     "status": "ok",
     "timestamp": 1741887707848,
     "user": {
      "displayName": "Lisa Liu",
      "userId": "15421387329476686382"
     },
     "user_tz": 420
    },
    "id": "seeIWUHUPuSc",
    "outputId": "2ff375ca-805e-4819-afe9-af8af2d2db11"
   },
   "outputs": [
    {
     "name": "stderr",
     "output_type": "stream",
     "text": [
      "<ipython-input-108-cac5a28c33fb>:26: FutureWarning: `tokenizer` is deprecated and will be removed in version 5.0.0 for `RankingDistillationTrainer.__init__`. Use `processing_class` instead.\n",
      "  trainer = RankingDistillationTrainer(\n"
     ]
    },
    {
     "data": {
      "text/html": [
       "\n",
       "    <div>\n",
       "      \n",
       "      <progress value='250' max='250' style='width:300px; height:20px; vertical-align: middle;'></progress>\n",
       "      [250/250 22:24, Epoch 5/5]\n",
       "    </div>\n",
       "    <table border=\"1\" class=\"dataframe\">\n",
       "  <thead>\n",
       " <tr style=\"text-align: left;\">\n",
       "      <th>Step</th>\n",
       "      <th>Training Loss</th>\n",
       "    </tr>\n",
       "  </thead>\n",
       "  <tbody>\n",
       "    <tr>\n",
       "      <td>5</td>\n",
       "      <td>4.762700</td>\n",
       "    </tr>\n",
       "    <tr>\n",
       "      <td>10</td>\n",
       "      <td>4.579900</td>\n",
       "    </tr>\n",
       "    <tr>\n",
       "      <td>15</td>\n",
       "      <td>4.487000</td>\n",
       "    </tr>\n",
       "    <tr>\n",
       "      <td>20</td>\n",
       "      <td>4.388400</td>\n",
       "    </tr>\n",
       "    <tr>\n",
       "      <td>25</td>\n",
       "      <td>4.371100</td>\n",
       "    </tr>\n",
       "    <tr>\n",
       "      <td>30</td>\n",
       "      <td>4.347800</td>\n",
       "    </tr>\n",
       "    <tr>\n",
       "      <td>35</td>\n",
       "      <td>4.326300</td>\n",
       "    </tr>\n",
       "    <tr>\n",
       "      <td>40</td>\n",
       "      <td>4.287000</td>\n",
       "    </tr>\n",
       "    <tr>\n",
       "      <td>45</td>\n",
       "      <td>4.322800</td>\n",
       "    </tr>\n",
       "    <tr>\n",
       "      <td>50</td>\n",
       "      <td>4.290400</td>\n",
       "    </tr>\n",
       "    <tr>\n",
       "      <td>55</td>\n",
       "      <td>4.306200</td>\n",
       "    </tr>\n",
       "    <tr>\n",
       "      <td>60</td>\n",
       "      <td>4.248400</td>\n",
       "    </tr>\n",
       "    <tr>\n",
       "      <td>65</td>\n",
       "      <td>4.286900</td>\n",
       "    </tr>\n",
       "    <tr>\n",
       "      <td>70</td>\n",
       "      <td>4.249900</td>\n",
       "    </tr>\n",
       "    <tr>\n",
       "      <td>75</td>\n",
       "      <td>4.213900</td>\n",
       "    </tr>\n",
       "    <tr>\n",
       "      <td>80</td>\n",
       "      <td>4.224700</td>\n",
       "    </tr>\n",
       "    <tr>\n",
       "      <td>85</td>\n",
       "      <td>4.266900</td>\n",
       "    </tr>\n",
       "    <tr>\n",
       "      <td>90</td>\n",
       "      <td>4.209200</td>\n",
       "    </tr>\n",
       "    <tr>\n",
       "      <td>95</td>\n",
       "      <td>4.203900</td>\n",
       "    </tr>\n",
       "    <tr>\n",
       "      <td>100</td>\n",
       "      <td>4.231700</td>\n",
       "    </tr>\n",
       "    <tr>\n",
       "      <td>105</td>\n",
       "      <td>4.240500</td>\n",
       "    </tr>\n",
       "    <tr>\n",
       "      <td>110</td>\n",
       "      <td>4.241400</td>\n",
       "    </tr>\n",
       "    <tr>\n",
       "      <td>115</td>\n",
       "      <td>4.171100</td>\n",
       "    </tr>\n",
       "    <tr>\n",
       "      <td>120</td>\n",
       "      <td>4.195700</td>\n",
       "    </tr>\n",
       "    <tr>\n",
       "      <td>125</td>\n",
       "      <td>4.191600</td>\n",
       "    </tr>\n",
       "    <tr>\n",
       "      <td>130</td>\n",
       "      <td>4.159700</td>\n",
       "    </tr>\n",
       "    <tr>\n",
       "      <td>135</td>\n",
       "      <td>4.234300</td>\n",
       "    </tr>\n",
       "    <tr>\n",
       "      <td>140</td>\n",
       "      <td>4.172300</td>\n",
       "    </tr>\n",
       "    <tr>\n",
       "      <td>145</td>\n",
       "      <td>4.206500</td>\n",
       "    </tr>\n",
       "    <tr>\n",
       "      <td>150</td>\n",
       "      <td>4.114000</td>\n",
       "    </tr>\n",
       "    <tr>\n",
       "      <td>155</td>\n",
       "      <td>4.148600</td>\n",
       "    </tr>\n",
       "    <tr>\n",
       "      <td>160</td>\n",
       "      <td>4.171200</td>\n",
       "    </tr>\n",
       "    <tr>\n",
       "      <td>165</td>\n",
       "      <td>4.155200</td>\n",
       "    </tr>\n",
       "    <tr>\n",
       "      <td>170</td>\n",
       "      <td>4.115500</td>\n",
       "    </tr>\n",
       "    <tr>\n",
       "      <td>175</td>\n",
       "      <td>4.173000</td>\n",
       "    </tr>\n",
       "    <tr>\n",
       "      <td>180</td>\n",
       "      <td>4.145800</td>\n",
       "    </tr>\n",
       "    <tr>\n",
       "      <td>185</td>\n",
       "      <td>4.166700</td>\n",
       "    </tr>\n",
       "    <tr>\n",
       "      <td>190</td>\n",
       "      <td>4.183700</td>\n",
       "    </tr>\n",
       "    <tr>\n",
       "      <td>195</td>\n",
       "      <td>4.122600</td>\n",
       "    </tr>\n",
       "    <tr>\n",
       "      <td>200</td>\n",
       "      <td>4.193900</td>\n",
       "    </tr>\n",
       "    <tr>\n",
       "      <td>205</td>\n",
       "      <td>4.135700</td>\n",
       "    </tr>\n",
       "    <tr>\n",
       "      <td>210</td>\n",
       "      <td>4.093500</td>\n",
       "    </tr>\n",
       "    <tr>\n",
       "      <td>215</td>\n",
       "      <td>4.173300</td>\n",
       "    </tr>\n",
       "    <tr>\n",
       "      <td>220</td>\n",
       "      <td>4.127700</td>\n",
       "    </tr>\n",
       "    <tr>\n",
       "      <td>225</td>\n",
       "      <td>4.100600</td>\n",
       "    </tr>\n",
       "    <tr>\n",
       "      <td>230</td>\n",
       "      <td>4.118600</td>\n",
       "    </tr>\n",
       "    <tr>\n",
       "      <td>235</td>\n",
       "      <td>4.159600</td>\n",
       "    </tr>\n",
       "    <tr>\n",
       "      <td>240</td>\n",
       "      <td>4.155300</td>\n",
       "    </tr>\n",
       "    <tr>\n",
       "      <td>245</td>\n",
       "      <td>4.128800</td>\n",
       "    </tr>\n",
       "    <tr>\n",
       "      <td>250</td>\n",
       "      <td>4.126600</td>\n",
       "    </tr>\n",
       "  </tbody>\n",
       "</table><p>"
      ],
      "text/plain": [
       "<IPython.core.display.HTML object>"
      ]
     },
     "metadata": {},
     "output_type": "display_data"
    },
    {
     "name": "stderr",
     "output_type": "stream",
     "text": [
      "/usr/local/lib/python3.11/dist-packages/peft/utils/save_and_load.py:260: UserWarning: Setting `save_embedding_layers` to `True` as the embedding layer has been resized during finetuning.\n",
      "  warnings.warn(\n",
      "/usr/local/lib/python3.11/dist-packages/peft/utils/save_and_load.py:260: UserWarning: Setting `save_embedding_layers` to `True` as the embedding layer has been resized during finetuning.\n",
      "  warnings.warn(\n",
      "/usr/local/lib/python3.11/dist-packages/peft/utils/save_and_load.py:260: UserWarning: Setting `save_embedding_layers` to `True` as the embedding layer has been resized during finetuning.\n",
      "  warnings.warn(\n",
      "/usr/local/lib/python3.11/dist-packages/peft/utils/save_and_load.py:260: UserWarning: Setting `save_embedding_layers` to `True` as the embedding layer has been resized during finetuning.\n",
      "  warnings.warn(\n",
      "/usr/local/lib/python3.11/dist-packages/peft/utils/save_and_load.py:260: UserWarning: Setting `save_embedding_layers` to `True` as the embedding layer has been resized during finetuning.\n",
      "  warnings.warn(\n",
      "/usr/local/lib/python3.11/dist-packages/peft/utils/save_and_load.py:260: UserWarning: Setting `save_embedding_layers` to `True` as the embedding layer has been resized during finetuning.\n",
      "  warnings.warn(\n"
     ]
    }
   ],
   "source": [
    "from transformers import Trainer, TrainingArguments, DataCollatorWithPadding\n",
    "\n",
    "# Data collator for dynamic padding\n",
    "data_collator = DataCollatorWithPadding(tokenizer=tokenizer, return_tensors=\"pt\")\n",
    "\n",
    "# Set up training arguments.\n",
    "training_args = TrainingArguments(\n",
    "    output_dir=output_dir,\n",
    "    per_device_train_batch_size=1, # Increasing batch size might cuase problems\n",
    "    gradient_accumulation_steps=16,\n",
    "    num_train_epochs=3,\n",
    "    logging_steps=5, # adjust as needed\n",
    "    save_steps=50, # adjust as needed\n",
    "    learning_rate=2e-4,\n",
    "    weight_decay=0.01,\n",
    "    fp16=False,                     # needs to be turned off!\n",
    "    gradient_checkpointing=True,\n",
    "    logging_dir=\"./logs\",\n",
    "    # optim=\"adamw_torch\",\n",
    "    warmup_steps=20,  #This should be around 5-10% of total steps\n",
    "    remove_unused_columns=False,  # to include additional columns\n",
    "    report_to=[\"wandb\"]\n",
    ")\n",
    "\n",
    "# Instantiate the custom distillation trainer.\n",
    "trainer = RankingDistillationTrainer(\n",
    "    model=model,\n",
    "    args=training_args,\n",
    "    train_dataset=distill_train,  # prepared dataset here\n",
    "    tokenizer=tokenizer,\n",
    "    data_collator=data_collator,\n",
    ")\n",
    "\n",
    "# Start training.\n",
    "trainer.train()\n",
    "trainer.save_model(output_dir)"
   ]
  },
  {
   "cell_type": "code",
   "execution_count": null,
   "metadata": {
    "id": "YbzQTYiD2Ow0"
   },
   "outputs": [],
   "source": [
    "import torch\n",
    "import torch.nn.functional as F\n",
    "from transformers import AutoModelForCausalLM, AutoTokenizer\n",
    "from torch.optim import Adam\n",
    "\n",
    "inputs = distill_train[0]\n",
    "labels = inputs[\"labels\"]\n",
    "\n",
    "# Define an optimizer\n",
    "optimizer = Adam(model.parameters(), lr=1e-4)\n",
    "\n",
    "# Ensure model is in training mode\n",
    "lora_model.train()\n",
    "\n",
    "# --- Forward Pass and Loss Computation ---\n",
    "# Perform a forward pass; the model returns logits.\n",
    "outputs = lora_model(**inputs, labels=labels)\n",
    "loss = outputs.loss\n",
    "\n",
    "print(\"Loss before backward:\", loss.item())\n",
    "\n",
    "# --- Backward Pass: Compute Gradients ---\n",
    "optimizer.zero_grad()\n",
    "loss.backward()\n",
    "\n",
    "# --- 1. Inspect Gradients: Check each parameter's .grad attribute ---\n",
    "print(\"\\nChecking gradients for each parameter:\")\n",
    "for name, param in model.named_parameters():\n",
    "    if param.requires_grad:\n",
    "        if param.grad is None:\n",
    "            print(f\"Parameter '{name}' has NO gradient!\")\n",
    "        else:\n",
    "            grad_norm = param.grad.norm().item()\n",
    "            print(f\"Parameter '{name}' gradient norm: {grad_norm:.4f}\")\n",
    "\n",
    "# --- 2. Ensure that all model parameters have requires_grad=True ---\n",
    "print(\"\\nVerifying requires_grad for each parameter:\")\n",
    "for name, param in model.named_parameters():\n",
    "    print(f\"Parameter '{name}' requires_grad: {param.requires_grad}\")\n",
    "\n",
    "# --- 3. Verify Parameter Updates ---\n",
    "# Save a copy of current parameters\n",
    "old_params = {name: param.clone() for name, param in model.named_parameters() if param.requires_grad}\n",
    "\n",
    "# Perform an optimizer step to update parameters\n",
    "optimizer.step()\n",
    "\n",
    "print(\"\\nVerifying parameter updates:\")\n",
    "for name, param in model.named_parameters():\n",
    "    if param.requires_grad:\n",
    "        # Check if the parameter has changed\n",
    "        if torch.equal(param, old_params[name]):\n",
    "            print(f\"Parameter '{name}' did NOT update!\")\n",
    "        else:\n",
    "            print(f\"Parameter '{name}' updated.\")\n",
    "\n"
   ]
  },
  {
   "cell_type": "markdown",
   "metadata": {
    "id": "f9Y3LCOqLiX8"
   },
   "source": [
    "# **Full Fine Tuning:**"
   ]
  },
  {
   "cell_type": "code",
   "execution_count": null,
   "metadata": {
    "colab": {
     "base_uri": "https://localhost:8080/"
    },
    "executionInfo": {
     "elapsed": 12,
     "status": "ok",
     "timestamp": 1741663415127,
     "user": {
      "displayName": "Lisa Liu",
      "userId": "15421387329476686382"
     },
     "user_tz": 420
    },
    "id": "zWOu9G7RONi3",
    "outputId": "48e3cc99-7dc7-4a17-dcb3-cdd1e59cb271"
   },
   "outputs": [
    {
     "name": "stdout",
     "output_type": "stream",
     "text": [
      "{'question': 'Natalia sold clips to 48 of her friends in April, and then she sold half as many clips in May. How many clips did Natalia sell altogether in April and May?', 'answer': 'Natalia sold 48/2 = <<48/2=24>>24 clips in May.\\nNatalia sold 48+24 = <<48+24=72>>72 clips altogether in April and May.\\n#### 72'}\n"
     ]
    }
   ],
   "source": [
    "print(gsm8k_train[0])"
   ]
  },
  {
   "cell_type": "markdown",
   "metadata": {
    "id": "w7efeRIPCdJm"
   },
   "source": [
    "**The 2 in build_prompt means we're using 2-shot examples. Can be changed to up to 8. Do not put 0.**"
   ]
  },
  {
   "cell_type": "code",
   "execution_count": null,
   "metadata": {
    "id": "Ez6nZ9s5Zomc"
   },
   "outputs": [],
   "source": [
    "def tokenize_fn(example):\n",
    "    prompt_text = build_prompt(example, 2, COT_FLAG)\n",
    "    reasoning_text = example[\"answer\"].split(\"#### \")[0]\n",
    "    answer = example[\"answer\"].split(\"#### \")[1]\n",
    "    full_text = prompt_text + reasoning_text + \"The answer is: \" + answer + \".\"\n",
    "\n",
    "    # Tokenize separately\n",
    "    prompt_enc = tokenizer(prompt_text, add_special_tokens=True)\n",
    "    full_enc = tokenizer(\n",
    "        full_text,\n",
    "        truncation=True,\n",
    "        padding=\"max_length\",\n",
    "        max_length=512,\n",
    "        add_special_tokens=True,\n",
    "    )\n",
    "\n",
    "    # Copy labels\n",
    "    input_ids = full_enc[\"input_ids\"]\n",
    "    labels = input_ids.copy()\n",
    "\n",
    "    # Number of prompt tokens\n",
    "    num_prompt_tokens = len(prompt_enc[\"input_ids\"])\n",
    "\n",
    "    # Mask out the prompt portion\n",
    "    for i in range(len(input_ids)):\n",
    "      if i in range(num_prompt_tokens) and i < len(labels):\n",
    "        labels[i] = -100\n",
    "      elif input_ids[i] == tokenizer.pad_token_id and i < len(labels):\n",
    "        labels[i] = -100\n",
    "        full_enc[\"attention_mask\"][i] = 0\n",
    "\n",
    "    # Put back in dictionary\n",
    "    full_enc[\"labels\"] = labels\n",
    "    return full_enc\n"
   ]
  },
  {
   "cell_type": "markdown",
   "metadata": {
    "id": "DDZXUEKP8Fdf"
   },
   "source": [
    "**Run this for ground truth labels and finetuning**"
   ]
  },
  {
   "cell_type": "code",
   "execution_count": null,
   "metadata": {
    "colab": {
     "base_uri": "https://localhost:8080/",
     "height": 49,
     "referenced_widgets": [
      "ab1e50fee24e4ea6bb00d7897f9fcc26",
      "7c3cee8fc9264addaa5ba6492ceeef9b",
      "6b84e7a63eca4f8ab0f93efebc15be25",
      "bdf0875d7394430d8c91e78bccd369f2",
      "76c8701d7da542aeac6c583307898e58",
      "85d7b589ebba44d69c59021897e88bcc",
      "61f3145bcf3c4f729633aee236634db9",
      "c6118e87cbd441a2801f97fae90dbb47",
      "e07c576d7e1b494c91da25ace40a1d52",
      "e058556c0f36431687e44be87b93e1d3",
      "0075a675bc204580b20f6a3a63f1d4a3"
     ]
    },
    "executionInfo": {
     "elapsed": 3215,
     "status": "ok",
     "timestamp": 1741892234958,
     "user": {
      "displayName": "Lisa Liu",
      "userId": "15421387329476686382"
     },
     "user_tz": 420
    },
    "id": "ml6DAcLTaGB6",
    "outputId": "b94104b2-de8d-4e0b-9b9b-8c3af505102b"
   },
   "outputs": [
    {
     "data": {
      "application/vnd.jupyter.widget-view+json": {
       "model_id": "ab1e50fee24e4ea6bb00d7897f9fcc26",
       "version_major": 2,
       "version_minor": 0
      },
      "text/plain": [
       "Map:   0%|          | 0/800 [00:00<?, ? examples/s]"
      ]
     },
     "metadata": {},
     "output_type": "display_data"
    }
   ],
   "source": [
    "train_dataset = kd_data.map(tokenize_fn)\n",
    "train_dataset.set_format(type=\"torch\", columns=[\"input_ids\", \"attention_mask\", \"labels\"])"
   ]
  },
  {
   "cell_type": "code",
   "execution_count": null,
   "metadata": {
    "id": "drSNygKYf2Zc"
   },
   "outputs": [],
   "source": [
    "# Activate this for further train eval split.\n",
    "# split_dataset = train_dataset.train_test_split(test_size=0.1, seed=42)\n",
    "# train_dataset = split_dataset[\"train\"]\n",
    "# eval_dataset = split_dataset[\"test\"]"
   ]
  },
  {
   "cell_type": "code",
   "execution_count": null,
   "metadata": {
    "colab": {
     "base_uri": "https://localhost:8080/"
    },
    "executionInfo": {
     "elapsed": 16,
     "status": "ok",
     "timestamp": 1741664117944,
     "user": {
      "displayName": "Lisa Liu",
      "userId": "15421387329476686382"
     },
     "user_tz": 420
    },
    "id": "nQNAB8FIp3Qz",
    "outputId": "5fdcb773-b2f2-4775-e4f5-0f3ac00b175e"
   },
   "outputs": [
    {
     "name": "stdout",
     "output_type": "stream",
     "text": [
      "{'input_ids': tensor([128000,     48,     25,  ..., 128256, 128256, 128256]), 'attention_mask': tensor([1, 1, 1,  ..., 0, 0, 0]), 'labels': tensor([-100, -100, -100,  ..., -100, -100, -100])}\n"
     ]
    }
   ],
   "source": [
    "print(train_dataset[0])"
   ]
  },
  {
   "cell_type": "code",
   "execution_count": null,
   "metadata": {
    "colab": {
     "base_uri": "https://localhost:8080/"
    },
    "executionInfo": {
     "elapsed": 20,
     "status": "ok",
     "timestamp": 1741892240097,
     "user": {
      "displayName": "Lisa Liu",
      "userId": "15421387329476686382"
     },
     "user_tz": 420
    },
    "id": "tBS0cS5gczPD",
    "outputId": "dbe7ee2d-cf41-4cce-f936-5b51905bd2e0"
   },
   "outputs": [
    {
     "name": "stdout",
     "output_type": "stream",
     "text": [
      "Q: Leah had 32 chocolates and her sister had 42. If they ate 35, how many pieces do they have left in total?\n",
      "A: Originally, Leah had 32 chocolates. Her sister had 42. So in total they had 32 + 42 = 74. After eating 35, they had 74 - 35 = 39. The answer is:  39.\n",
      "\n",
      "Q: Shawn has five toys. For Christmas, he got two toys each from his mom and dad. How many toys does he have now?\n",
      "A: Shawn started with 5 toys. If he got 2 toys each from his mom and dad, then that is 4 more toys. 5 + 4 = 9. The answer is:  9.\n",
      "\n",
      "Q: Emma's bank account has $100 in it. Each day of the week, she spends $8. At the end of the week, she goes to the bank and asks for as many $5 bills as her account can give her. She leaves the rest in the account. How many dollars remain in the account?\n",
      "A: She spend $56 because 7 x 8 = <<7*8=56>>56\n",
      "She has $44 left in the bank because 100 - 56 = <<100-56=44>>44\n",
      "She can get 8 five dollar bills because 44 / 5 = <<44/5=8.8>>8.8\n",
      "This is equal to $40 because 8 x 5 = <<8*5=40>>40\n",
      "She has $4 left in the account because 44 - 40 = <<44-40=4>>4\n",
      "The answer is: 4.\n"
     ]
    }
   ],
   "source": [
    "print(tokenizer.decode(train_dataset[3][\"input_ids\"], skip_special_tokens=True))"
   ]
  },
  {
   "cell_type": "markdown",
   "metadata": {
    "id": "gG5KVDJLCvcn"
   },
   "source": [
    "**Finetuning**"
   ]
  },
  {
   "cell_type": "code",
   "execution_count": null,
   "metadata": {
    "colab": {
     "base_uri": "https://localhost:8080/"
    },
    "collapsed": true,
    "executionInfo": {
     "elapsed": 28,
     "status": "ok",
     "timestamp": 1741892260047,
     "user": {
      "displayName": "Lisa Liu",
      "userId": "15421387329476686382"
     },
     "user_tz": 420
    },
    "id": "67eK7zyJcyi7",
    "outputId": "87e1c29b-0f18-46be-e5d1-364981f2055a"
   },
   "outputs": [
    {
     "name": "stdout",
     "output_type": "stream",
     "text": [
      "tensor([128000,     48,     25,   2684,    527,    220,    868,  12690,    304,\n",
      "           279,  10707,    588,     13,  41234,   7487,    690,   6136,  12690,\n",
      "           304,    279,  10707,    588,   3432,     13,   4740,    814,    527,\n",
      "          2884,     11,   1070,    690,    387,    220,   1691,  12690,     13,\n",
      "          2650,   1690,  12690,   1550,    279,  10707,    588,   7487,   6136,\n",
      "          3432,   5380,     32,     25,   2684,    527,    220,    868,  12690,\n",
      "         13517,     13,   5112,   1070,   1051,    220,   1691,  12690,   1306,\n",
      "          1063,    810,   1051,  39441,     13,   2100,   1070,   2011,    617,\n",
      "          1027,    220,   1691,    482,    220,    868,    284,    220,     21,\n",
      "            13,    578,   4320,    374,     25,    220,    220,     21,    382,\n",
      "            48,     25,   2684,   1051,  11888,  19002,    304,    279,   3622,\n",
      "          3130,     13,  21594,    810,  19002,   1051,  10487,   1855,   1938,\n",
      "            11,    505,  94299,    311,    270,   7329,     13,   2650,   1690,\n",
      "         19002,    527,   1457,    304,    279,   3622,   3130,   5380,     32,\n",
      "            25,   2684,   1051,  13517,    220,     24,  19002,     13,   1789,\n",
      "          1855,    315,    220,     19,   2919,     11,    220,     20,    810,\n",
      "         19002,   1051,   3779,     13,   2100,    220,     20,    353,    220,\n",
      "            19,    284,    220,    508,  19002,   1051,   3779,     13,    220,\n",
      "            24,    489,    220,    508,    374,    220,   1682,     13,    578,\n",
      "          4320,    374,     25,    220,    220,   1682,    382,     48,     25,\n",
      "         50905,    596,  15438,   3691,   8199,    374,   6273,    311,    220,\n",
      "          1399,      4,    315,   1077,   3838,  19160,   8199,   1418,   1077,\n",
      "          4641,   4121,   8199,    374,    220,    605,      4,    315,   1077,\n",
      "          3691,   8199,     13,   1442,    279,   2860,   8199,    315,   3838,\n",
      "         19160,    323,   3691,   8199,    374,    400,   8273,     11,   1268,\n",
      "          1790,    374,  50905,    596,   2860,  15438,   8199,    311,   2343,\n",
      "           682,   1884,  18512,   5380,     32,     25,   6914,    865,    387,\n",
      "         50905,    596,   3838,  19160,   8199,    627,    791,   2860,   8199,\n",
      "           369,   3838,    323,   3691,  19160,    374,  15609,    555,    279,\n",
      "         24524,    865,    489,    320,   1399,     87,     14,   1041,      8,\n",
      "           284,    220,   8273,    627,    791,  24524,   9221,    220,   1041,\n",
      "            87,    489,    220,   1399,     87,    284,    220,   8273,    410,\n",
      "          1306,  85292,   1855,   4751,    555,    220,   1041,    311,    636,\n",
      "          9463,    315,    279,  19983,    627,   1383,  35271,   1093,   3878,\n",
      "            11,    279,  24524,   9221,    220,   6330,     87,    284,    220,\n",
      "          8273,    410,    627,  45600,     11,    279,    907,    315,    865,\n",
      "           374,    220,   8273,    410,     14,   6330,    284,   1134,   8273,\n",
      "           410,     14,   6330,     28,   3965,   2511,   3965,    902,  11105,\n",
      "           279,   3838,  19160,   8199,    627,   4516,     11,  50905,    596,\n",
      "          3691,   8199,    374,    400,   8273,    482,    400,   3965,    284,\n",
      "           400,   2501,   8273,     12,   3965,     28,   1954,   2511,   1954,\n",
      "           627,  21364,   4641,   4121,   8199,    374,    400,   1954,    865,\n",
      "           220,    605,     14,   1041,    284,    400,   2501,   1954,      9,\n",
      "           605,     14,   1041,     28,     24,   2511,     24,    627,  55915,\n",
      "            11,  50905,    596,  15438,   8199,    369,    682,   1884,  18512,\n",
      "           374,    400,   8273,    320,   7830,    323,   3691,      8,    489,\n",
      "           400,     24,    320,   4949,      8,    284,    400,   2501,   8273,\n",
      "            10,     24,     28,  14735,   2511,  14735,    627,    791,   4320,\n",
      "           374,     25,    220,  14735,     13, 128256, 128256, 128256, 128256,\n",
      "        128256, 128256, 128256, 128256, 128256, 128256, 128256, 128256, 128256,\n",
      "        128256, 128256, 128256, 128256, 128256, 128256, 128256, 128256, 128256,\n",
      "        128256, 128256, 128256, 128256, 128256, 128256, 128256, 128256, 128256,\n",
      "        128256, 128256, 128256, 128256, 128256, 128256, 128256, 128256, 128256,\n",
      "        128256, 128256, 128256, 128256, 128256, 128256, 128256, 128256, 128256,\n",
      "        128256, 128256, 128256, 128256, 128256, 128256, 128256, 128256, 128256,\n",
      "        128256, 128256, 128256, 128256, 128256, 128256, 128256, 128256, 128256,\n",
      "        128256, 128256, 128256, 128256, 128256, 128256, 128256, 128256])\n",
      "Max token id: tensor(128256)\n",
      "Min token id: tensor(4)\n",
      "Vocab size: 128000\n"
     ]
    }
   ],
   "source": [
    "sample = train_dataset[random.randint(0, 800)]\n",
    "print(sample[\"input_ids\"])\n",
    "print(\"Max token id:\", max(sample[\"input_ids\"]))\n",
    "print(\"Min token id:\", min(sample[\"input_ids\"]))\n",
    "print(\"Vocab size:\", tokenizer.vocab_size)\n"
   ]
  },
  {
   "cell_type": "markdown",
   "metadata": {
    "id": "hxZZZpY-C7dD"
   },
   "source": [
    "**Remember to change ouptut_dir and save path in all fields.**"
   ]
  },
  {
   "cell_type": "code",
   "execution_count": null,
   "metadata": {
    "id": "06C_zSTs8qUU"
   },
   "outputs": [],
   "source": [
    "output_dir = \"./gsm8k_ft800\""
   ]
  },
  {
   "cell_type": "code",
   "execution_count": null,
   "metadata": {
    "colab": {
     "base_uri": "https://localhost:8080/",
     "height": 1000
    },
    "collapsed": true,
    "executionInfo": {
     "elapsed": 320273,
     "status": "ok",
     "timestamp": 1741892639908,
     "user": {
      "displayName": "Lisa Liu",
      "userId": "15421387329476686382"
     },
     "user_tz": 420
    },
    "id": "WcbYfzl8X02a",
    "outputId": "d782f477-5ccb-420c-b1e6-bc4ff7caf4e5"
   },
   "outputs": [
    {
     "data": {
      "text/html": [
       "\n",
       "    <div>\n",
       "      \n",
       "      <progress value='48' max='48' style='width:300px; height:20px; vertical-align: middle;'></progress>\n",
       "      [48/48 04:58, Epoch 2/3]\n",
       "    </div>\n",
       "    <table border=\"1\" class=\"dataframe\">\n",
       "  <thead>\n",
       " <tr style=\"text-align: left;\">\n",
       "      <th>Step</th>\n",
       "      <th>Training Loss</th>\n",
       "    </tr>\n",
       "  </thead>\n",
       "  <tbody>\n",
       "    <tr>\n",
       "      <td>1</td>\n",
       "      <td>20.700700</td>\n",
       "    </tr>\n",
       "    <tr>\n",
       "      <td>2</td>\n",
       "      <td>20.699300</td>\n",
       "    </tr>\n",
       "    <tr>\n",
       "      <td>3</td>\n",
       "      <td>19.449500</td>\n",
       "    </tr>\n",
       "    <tr>\n",
       "      <td>4</td>\n",
       "      <td>16.833800</td>\n",
       "    </tr>\n",
       "    <tr>\n",
       "      <td>5</td>\n",
       "      <td>14.002400</td>\n",
       "    </tr>\n",
       "    <tr>\n",
       "      <td>6</td>\n",
       "      <td>11.353700</td>\n",
       "    </tr>\n",
       "    <tr>\n",
       "      <td>7</td>\n",
       "      <td>9.106600</td>\n",
       "    </tr>\n",
       "    <tr>\n",
       "      <td>8</td>\n",
       "      <td>8.781000</td>\n",
       "    </tr>\n",
       "    <tr>\n",
       "      <td>9</td>\n",
       "      <td>8.463400</td>\n",
       "    </tr>\n",
       "    <tr>\n",
       "      <td>10</td>\n",
       "      <td>8.061800</td>\n",
       "    </tr>\n",
       "    <tr>\n",
       "      <td>11</td>\n",
       "      <td>7.680100</td>\n",
       "    </tr>\n",
       "    <tr>\n",
       "      <td>12</td>\n",
       "      <td>7.210100</td>\n",
       "    </tr>\n",
       "    <tr>\n",
       "      <td>13</td>\n",
       "      <td>6.873600</td>\n",
       "    </tr>\n",
       "    <tr>\n",
       "      <td>14</td>\n",
       "      <td>6.562900</td>\n",
       "    </tr>\n",
       "    <tr>\n",
       "      <td>15</td>\n",
       "      <td>6.322000</td>\n",
       "    </tr>\n",
       "    <tr>\n",
       "      <td>16</td>\n",
       "      <td>6.173700</td>\n",
       "    </tr>\n",
       "    <tr>\n",
       "      <td>17</td>\n",
       "      <td>5.695800</td>\n",
       "    </tr>\n",
       "    <tr>\n",
       "      <td>18</td>\n",
       "      <td>5.391700</td>\n",
       "    </tr>\n",
       "    <tr>\n",
       "      <td>19</td>\n",
       "      <td>4.877300</td>\n",
       "    </tr>\n",
       "    <tr>\n",
       "      <td>20</td>\n",
       "      <td>4.420400</td>\n",
       "    </tr>\n",
       "    <tr>\n",
       "      <td>21</td>\n",
       "      <td>3.999400</td>\n",
       "    </tr>\n",
       "    <tr>\n",
       "      <td>22</td>\n",
       "      <td>3.705900</td>\n",
       "    </tr>\n",
       "    <tr>\n",
       "      <td>23</td>\n",
       "      <td>3.455400</td>\n",
       "    </tr>\n",
       "    <tr>\n",
       "      <td>24</td>\n",
       "      <td>3.217300</td>\n",
       "    </tr>\n",
       "    <tr>\n",
       "      <td>25</td>\n",
       "      <td>3.025800</td>\n",
       "    </tr>\n",
       "    <tr>\n",
       "      <td>26</td>\n",
       "      <td>3.025600</td>\n",
       "    </tr>\n",
       "    <tr>\n",
       "      <td>27</td>\n",
       "      <td>2.756800</td>\n",
       "    </tr>\n",
       "    <tr>\n",
       "      <td>28</td>\n",
       "      <td>2.599000</td>\n",
       "    </tr>\n",
       "    <tr>\n",
       "      <td>29</td>\n",
       "      <td>2.671400</td>\n",
       "    </tr>\n",
       "    <tr>\n",
       "      <td>30</td>\n",
       "      <td>2.459500</td>\n",
       "    </tr>\n",
       "    <tr>\n",
       "      <td>31</td>\n",
       "      <td>2.557200</td>\n",
       "    </tr>\n",
       "    <tr>\n",
       "      <td>32</td>\n",
       "      <td>2.445300</td>\n",
       "    </tr>\n",
       "    <tr>\n",
       "      <td>33</td>\n",
       "      <td>2.328000</td>\n",
       "    </tr>\n",
       "    <tr>\n",
       "      <td>34</td>\n",
       "      <td>2.244400</td>\n",
       "    </tr>\n",
       "    <tr>\n",
       "      <td>35</td>\n",
       "      <td>2.266100</td>\n",
       "    </tr>\n",
       "    <tr>\n",
       "      <td>36</td>\n",
       "      <td>2.160000</td>\n",
       "    </tr>\n",
       "    <tr>\n",
       "      <td>37</td>\n",
       "      <td>2.114800</td>\n",
       "    </tr>\n",
       "    <tr>\n",
       "      <td>38</td>\n",
       "      <td>2.067400</td>\n",
       "    </tr>\n",
       "    <tr>\n",
       "      <td>39</td>\n",
       "      <td>2.005000</td>\n",
       "    </tr>\n",
       "    <tr>\n",
       "      <td>40</td>\n",
       "      <td>2.039700</td>\n",
       "    </tr>\n",
       "    <tr>\n",
       "      <td>41</td>\n",
       "      <td>1.826300</td>\n",
       "    </tr>\n",
       "    <tr>\n",
       "      <td>42</td>\n",
       "      <td>1.928800</td>\n",
       "    </tr>\n",
       "    <tr>\n",
       "      <td>43</td>\n",
       "      <td>1.844000</td>\n",
       "    </tr>\n",
       "    <tr>\n",
       "      <td>44</td>\n",
       "      <td>1.826000</td>\n",
       "    </tr>\n",
       "    <tr>\n",
       "      <td>45</td>\n",
       "      <td>1.886200</td>\n",
       "    </tr>\n",
       "    <tr>\n",
       "      <td>46</td>\n",
       "      <td>1.798900</td>\n",
       "    </tr>\n",
       "    <tr>\n",
       "      <td>47</td>\n",
       "      <td>1.748000</td>\n",
       "    </tr>\n",
       "    <tr>\n",
       "      <td>48</td>\n",
       "      <td>1.753900</td>\n",
       "    </tr>\n",
       "  </tbody>\n",
       "</table><p>"
      ],
      "text/plain": [
       "<IPython.core.display.HTML object>"
      ]
     },
     "metadata": {},
     "output_type": "display_data"
    },
    {
     "name": "stderr",
     "output_type": "stream",
     "text": [
      "/usr/local/lib/python3.11/dist-packages/peft/utils/save_and_load.py:260: UserWarning: Setting `save_embedding_layers` to `True` as the embedding layer has been resized during finetuning.\n",
      "  warnings.warn(\n",
      "/usr/local/lib/python3.11/dist-packages/peft/utils/save_and_load.py:260: UserWarning: Setting `save_embedding_layers` to `True` as the embedding layer has been resized during finetuning.\n",
      "  warnings.warn(\n",
      "/usr/local/lib/python3.11/dist-packages/peft/utils/save_and_load.py:260: UserWarning: Setting `save_embedding_layers` to `True` as the embedding layer has been resized during finetuning.\n",
      "  warnings.warn(\n"
     ]
    }
   ],
   "source": [
    "from transformers import Trainer, TrainingArguments, DataCollatorWithPadding\n",
    "\n",
    "# Data collator for dynamic padding\n",
    "# data_collator = DataCollatorWithPadding(tokenizer=tokenizer, return_tensors=\"pt\")\n",
    "\n",
    "training_args = TrainingArguments(\n",
    "    output_dir=output_dir,\n",
    "    per_device_train_batch_size=3,  # start small to avoid OOM\n",
    "    gradient_accumulation_steps=16,  # effective batch size = 4\n",
    "    num_train_epochs=3,            # set higher if you have the compute\n",
    "    learning_rate=1e-4,            # LoRA can often use a slightly higher LR\n",
    "    logging_steps=1,\n",
    "    save_steps=40,\n",
    "    fp16=True,                     # if on GPU that supports half precision\n",
    "    gradient_checkpointing=True,\n",
    "    logging_dir=\"./logs\",\n",
    "    optim=\"adamw_torch\",\n",
    "    weight_decay=0.01, # do 0.005 or 0.001?\n",
    "    warmup_steps=5\n",
    ")\n",
    "\n",
    "trainer = Trainer(\n",
    "    model=lora_model,\n",
    "    args=training_args,\n",
    "    train_dataset=train_dataset,\n",
    "    # eval_dataset=eval_dataset,\n",
    "    # data_collator=data_collator\n",
    ")\n",
    "\n",
    "trainer.train()\n",
    "trainer.save_model(output_dir)"
   ]
  },
  {
   "cell_type": "markdown",
   "metadata": {
    "id": "pfe9eCnq8zkf"
   },
   "source": [
    "# **Eval**"
   ]
  },
  {
   "cell_type": "markdown",
   "metadata": {
    "id": "siDVwYVm9BOb"
   },
   "source": [
    "**Load Lora Model**"
   ]
  },
  {
   "cell_type": "code",
   "execution_count": null,
   "metadata": {
    "id": "oZGDd8eG83t1"
   },
   "outputs": [],
   "source": [
    "eval_path = output_dir"
   ]
  },
  {
   "cell_type": "code",
   "execution_count": null,
   "metadata": {
    "colab": {
     "base_uri": "https://localhost:8080/"
    },
    "executionInfo": {
     "elapsed": 5,
     "status": "ok",
     "timestamp": 1741922373350,
     "user": {
      "displayName": "Lisa Liu",
      "userId": "15421387329476686382"
     },
     "user_tz": 420
    },
    "id": "-EqP94IHmbps",
    "outputId": "742edada-a314-4b15-d90b-5fac74177725"
   },
   "outputs": [
    {
     "name": "stdout",
     "output_type": "stream",
     "text": [
      "./gsm8k_ft800\n"
     ]
    }
   ],
   "source": [
    "print(eval_path)"
   ]
  },
  {
   "cell_type": "code",
   "execution_count": null,
   "metadata": {
    "colab": {
     "base_uri": "https://localhost:8080/"
    },
    "executionInfo": {
     "elapsed": 60740,
     "status": "ok",
     "timestamp": 1741922435746,
     "user": {
      "displayName": "Lisa Liu",
      "userId": "15421387329476686382"
     },
     "user_tz": 420
    },
    "id": "F9NU27KNLImX",
    "outputId": "3453c648-b139-46ec-eb0f-7d4251f52fce"
   },
   "outputs": [
    {
     "name": "stderr",
     "output_type": "stream",
     "text": [
      "Device set to use cuda:0\n"
     ]
    }
   ],
   "source": [
    "from operator import ge\n",
    "from transformers import pipeline\n",
    "from peft import PeftModel\n",
    "\n",
    "# Replace \"./fine_tuned_model\" with the path to your fine-tuned model\n",
    "adapted_model = PeftModel.from_pretrained(model, eval_path)\n",
    "merged_model = adapted_model.merge_and_unload()\n",
    "gen_pipe = pipeline(\"text-generation\", model=merged_model, tokenizer=tokenizer)"
   ]
  },
  {
   "cell_type": "code",
   "execution_count": 16,
   "metadata": {
    "executionInfo": {
     "elapsed": 12,
     "status": "ok",
     "timestamp": 1741941930912,
     "user": {
      "displayName": "Lisa Liu",
      "userId": "15421387329476686382"
     },
     "user_tz": 420
    },
    "id": "GfcY_dz-Kuv6"
   },
   "outputs": [],
   "source": [
    "def clean_answer(model_pred, n_shot):\n",
    "    model_pred = model_pred.lower()\n",
    "    preds = model_pred.split(ANSWER_TRIGGER.lower())\n",
    "    answer_flag = True if len(preds) > n_shot + 1 else False\n",
    "    if answer_flag:\n",
    "        # Pick first answer with flag\n",
    "        pred = preds[n_shot + 1]\n",
    "    else:\n",
    "        # Pick last number without flag\n",
    "        pred = preds[-1]\n",
    "\n",
    "    pred = pred.replace(\",\", \"\")\n",
    "    pred = [s for s in re.findall(r\"-?\\d+\\.?\\d*\", pred)]\n",
    "\n",
    "    if len(pred) == 0:\n",
    "        return INVALID_ANS\n",
    "\n",
    "    if answer_flag:\n",
    "        # choose the first element in list\n",
    "        pred = pred[0]\n",
    "    else:\n",
    "        # choose the last element in list\n",
    "        pred = pred[-1]\n",
    "\n",
    "    # (For arithmetic tasks) if a word ends with period, it will be omitted ...\n",
    "    if pred[-1] == \".\":\n",
    "        pred = pred[:-1]\n",
    "\n",
    "    return pred"
   ]
  },
  {
   "cell_type": "code",
   "execution_count": 17,
   "metadata": {
    "executionInfo": {
     "elapsed": 2,
     "status": "ok",
     "timestamp": 1741941930915,
     "user": {
      "displayName": "Lisa Liu",
      "userId": "15421387329476686382"
     },
     "user_tz": 420
    },
    "id": "P-5XkoHQKy5T"
   },
   "outputs": [],
   "source": [
    "def extract_answer_from_output(completion):\n",
    "    match = ANS_RE.search(completion)\n",
    "    if match:\n",
    "        match_str = match.group(1).strip()\n",
    "        match_str = match_str.replace(\",\", \"\")\n",
    "        return match_str\n",
    "    else:\n",
    "        return INVALID_ANS"
   ]
  },
  {
   "cell_type": "code",
   "execution_count": null,
   "metadata": {
    "colab": {
     "base_uri": "https://localhost:8080/"
    },
    "executionInfo": {
     "elapsed": 9330,
     "status": "ok",
     "timestamp": 1741922454759,
     "user": {
      "displayName": "Lisa Liu",
      "userId": "15421387329476686382"
     },
     "user_tz": 420
    },
    "id": "DVZoib3RDBkx",
    "outputId": "6e4042ce-8f35-42c3-d970-c58903454b64"
   },
   "outputs": [
    {
     "name": "stdout",
     "output_type": "stream",
     "text": [
      "Q: Shawn has five toys. For Christmas, he got two toys each from his mom and dad. How many toys does he have now?\n",
      "A: Shawn started with 5 toys. If he got 2 toys each from his mom and dad, then that is 4 more toys. 5 + 4 = 9. The answer is:  9.\n",
      "\n",
      "Q: There were nine computers in the server room. Five more computers were installed each day, from monday to thursday. How many computers are now in the server room?\n",
      "A: There were originally 9 computers. For each of 4 days, 5 more computers were added. So 5 * 4 = 20 computers were added. 9 + 20 is 29. The answer is:  29.\n",
      "\n",
      "Q: Carla is downloading a 200 GB file. Normally she can download 2 GB/minute, but 40% of the way through the download, Windows forces a restart to install updates, which takes 20 minutes. Then Carla has to restart the download from the beginning. How load does it take to download the file?\n",
      "A: 200 GB is 200,000,000 MB. 2 GB / minute is 2,000,000,000 B / minute. 40% of the way through the download is 80,000,000 B. 80,000,000 B + 20 minutes is 160,000,000 B. Total is 160,000,000 + 200,000,000 = 360,000,000 B. Answer is 360,000,000 B.\n",
      "\n",
      "Q: A 400 GB hard disk drive can be formatted in 15 hours. It takes 3 hours to format. How long will it take to format the whole drive?\n",
      "A: 400 GB = 400,000,000,000 B. 3 hours = 180,000,000,000 B. 3 hours is 3/15 of the whole drive. 3/15 = 0.2. The answer is 0.2 of the whole drive is formatted in 3 hours.\n",
      "\n",
      "Q: A 20 kg box is moving with a constant acceleration. The acceleration is 2 m/s^2. How much time is required for the box to reach 5 m/s?\n",
      "A: A = 2 m/s^\n"
     ]
    }
   ],
   "source": [
    "# example test\n",
    "question = gsm8k_test[7][\"question\"]\n",
    "demo = create_demo_text(2, COT_FLAG)\n",
    "prompt = demo + \"Q: \" + question + \"\\n\" + \"A: \"\n",
    "outputs = gen_pipe(prompt, max_new_tokens=256, top_p=0.95, temperature=0.8)\n",
    "print(outputs[0][\"generated_text\"])"
   ]
  },
  {
   "cell_type": "markdown",
   "metadata": {
    "id": "IBWg_juUl4Ha"
   },
   "source": [
    "**EVAL**"
   ]
  },
  {
   "cell_type": "code",
   "execution_count": 6,
   "metadata": {
    "executionInfo": {
     "elapsed": 4,
     "status": "ok",
     "timestamp": 1741936747347,
     "user": {
      "displayName": "Lisa Liu",
      "userId": "15421387329476686382"
     },
     "user_tz": 420
    },
    "id": "SYDJ_IH73b-V"
   },
   "outputs": [],
   "source": [
    "test_dataset = gsm8k_test.shuffle(seed=42).select(range(200))"
   ]
  },
  {
   "cell_type": "code",
   "execution_count": null,
   "metadata": {
    "colab": {
     "base_uri": "https://localhost:8080/"
    },
    "executionInfo": {
     "elapsed": 8670,
     "status": "ok",
     "timestamp": 1741922495736,
     "user": {
      "displayName": "Lisa Liu",
      "userId": "15421387329476686382"
     },
     "user_tz": 420
    },
    "id": "o03ukQqsnETO",
    "outputId": "3dfaede7-6c07-484b-95ae-f0276b6f6d10"
   },
   "outputs": [
    {
     "name": "stderr",
     "output_type": "stream",
     "text": [
      "Setting `pad_token_id` to `eos_token_id`:128001 for open-end generation.\n"
     ]
    }
   ],
   "source": [
    "input_text = build_prompt(test_dataset[0], 2, COT_FLAG)\n",
    "generate_kwargs = dict(max_new_tokens=256, top_p=0.95, temperature=0.8)\n",
    "merged_model.eval()\n",
    "model_completion = generate(merged_model, tokenizer, input_text, generate_kwargs)"
   ]
  },
  {
   "cell_type": "code",
   "execution_count": null,
   "metadata": {
    "colab": {
     "base_uri": "https://localhost:8080/"
    },
    "executionInfo": {
     "elapsed": 7,
     "status": "ok",
     "timestamp": 1741890175812,
     "user": {
      "displayName": "Lisa Liu",
      "userId": "15421387329476686382"
     },
     "user_tz": 420
    },
    "id": "CJS18o14voXu",
    "outputId": "b7801cba-075a-4a43-c24b-66dc4d4d69fb"
   },
   "outputs": [
    {
     "name": "stdout",
     "output_type": "stream",
     "text": [
      "                                                                                                                                                                                                                                                                \n"
     ]
    }
   ],
   "source": [
    "print(model_completion)"
   ]
  },
  {
   "cell_type": "code",
   "execution_count": 18,
   "metadata": {
    "executionInfo": {
     "elapsed": 15,
     "status": "ok",
     "timestamp": 1741941930931,
     "user": {
      "displayName": "Lisa Liu",
      "userId": "15421387329476686382"
     },
     "user_tz": 420
    },
    "id": "T0BpHKX8oSFK"
   },
   "outputs": [],
   "source": [
    "def generate(model, tokenizer, input_text, generate_kwargs):\n",
    "    input_text = tokenizer(\n",
    "        input_text,\n",
    "        padding=False,\n",
    "        add_special_tokens=True,\n",
    "        return_tensors=\"pt\",\n",
    "    )\n",
    "    input_ids = input_text.input_ids.cuda()\n",
    "    attention_mask = input_text.attention_mask.cuda()\n",
    "\n",
    "    output_ids = model.generate(\n",
    "        input_ids=input_ids, attention_mask=attention_mask, **generate_kwargs\n",
    "    )\n",
    "    response = []\n",
    "    for i in range(output_ids.shape[0]):\n",
    "        response.append(\n",
    "            tokenizer.decode(\n",
    "                output_ids[i][input_ids.shape[1] :],\n",
    "                skip_special_tokens=True,\n",
    "                ignore_tokenization_space=True,\n",
    "            )\n",
    "        )\n",
    "\n",
    "    if len(response) > 1:\n",
    "        return response\n",
    "    return response[0]"
   ]
  },
  {
   "cell_type": "code",
   "execution_count": 23,
   "metadata": {
    "colab": {
     "base_uri": "https://localhost:8080/",
     "height": 233
    },
    "collapsed": true,
    "executionInfo": {
     "elapsed": 25,
     "status": "error",
     "timestamp": 1741942073410,
     "user": {
      "displayName": "Lisa Liu",
      "userId": "15421387329476686382"
     },
     "user_tz": 420
    },
    "id": "J_1yz45UlH4z",
    "outputId": "1cc5864c-3163-4210-aa00-6e5945f77522"
   },
   "outputs": [
    {
     "name": "stderr",
     "output_type": "stream",
     "text": [
      "  0%|          | 0/200 [00:00<?, ?it/s]\n"
     ]
    },
    {
     "ename": "NameError",
     "evalue": "name 'model' is not defined",
     "output_type": "error",
     "traceback": [
      "\u001b[0;31m---------------------------------------------------------------------------\u001b[0m",
      "\u001b[0;31mNameError\u001b[0m                                 Traceback (most recent call last)",
      "\u001b[0;32m<ipython-input-23-378eccb60436>\u001b[0m in \u001b[0;36m<cell line: 0>\u001b[0;34m()\u001b[0m\n\u001b[1;32m      5\u001b[0m   \u001b[0minput_text\u001b[0m \u001b[0;34m=\u001b[0m \u001b[0mbuild_prompt\u001b[0m\u001b[0;34m(\u001b[0m\u001b[0msample\u001b[0m\u001b[0;34m,\u001b[0m \u001b[0;36m2\u001b[0m\u001b[0;34m,\u001b[0m \u001b[0mCOT_FLAG\u001b[0m\u001b[0;34m)\u001b[0m\u001b[0;34m\u001b[0m\u001b[0;34m\u001b[0m\u001b[0m\n\u001b[1;32m      6\u001b[0m   \u001b[0mgenerate_kwargs\u001b[0m \u001b[0;34m=\u001b[0m \u001b[0mdict\u001b[0m\u001b[0;34m(\u001b[0m\u001b[0mmax_new_tokens\u001b[0m\u001b[0;34m=\u001b[0m\u001b[0;36m256\u001b[0m\u001b[0;34m,\u001b[0m \u001b[0mtop_p\u001b[0m\u001b[0;34m=\u001b[0m\u001b[0;36m0.95\u001b[0m\u001b[0;34m,\u001b[0m \u001b[0mtemperature\u001b[0m\u001b[0;34m=\u001b[0m\u001b[0;36m0.8\u001b[0m\u001b[0;34m)\u001b[0m\u001b[0;34m\u001b[0m\u001b[0;34m\u001b[0m\u001b[0m\n\u001b[0;32m----> 7\u001b[0;31m   \u001b[0mmodel_completion\u001b[0m \u001b[0;34m=\u001b[0m \u001b[0mgenerate\u001b[0m\u001b[0;34m(\u001b[0m\u001b[0mmodel\u001b[0m\u001b[0;34m,\u001b[0m \u001b[0mtokenizer\u001b[0m\u001b[0;34m,\u001b[0m \u001b[0minput_text\u001b[0m\u001b[0;34m,\u001b[0m \u001b[0mgenerate_kwargs\u001b[0m\u001b[0;34m)\u001b[0m\u001b[0;34m\u001b[0m\u001b[0;34m\u001b[0m\u001b[0m\n\u001b[0m\u001b[1;32m      8\u001b[0m   \u001b[0;31m# model_completion = sample[\"405B_answer\"]\u001b[0m\u001b[0;34m\u001b[0m\u001b[0;34m\u001b[0m\u001b[0m\n\u001b[1;32m      9\u001b[0m   \u001b[0mmodel_answer\u001b[0m \u001b[0;34m=\u001b[0m \u001b[0mclean_answer\u001b[0m\u001b[0;34m(\u001b[0m\u001b[0mmodel_completion\u001b[0m\u001b[0;34m,\u001b[0m \u001b[0;36m2\u001b[0m\u001b[0;34m)\u001b[0m\u001b[0;34m\u001b[0m\u001b[0;34m\u001b[0m\u001b[0m\n",
      "\u001b[0;31mNameError\u001b[0m: name 'model' is not defined"
     ]
    }
   ],
   "source": [
    "answers = []\n",
    "scores = []\n",
    "\n",
    "for sample in tqdm(test_dataset):\n",
    "  input_text = build_prompt(sample, 2, COT_FLAG)\n",
    "  generate_kwargs = dict(max_new_tokens=256, top_p=0.95, temperature=0.8)\n",
    "  model_completion = generate(model, tokenizer, input_text, generate_kwargs)\n",
    "  # model_completion = sample[\"405B_answer\"]\n",
    "  model_answer = clean_answer(model_completion, 2)\n",
    "  answers.append(model_answer)\n",
    "\n",
    "  true_answer = extract_answer_from_output(sample[\"answer\"])\n",
    "  assert true_answer != INVALID_ANS\n",
    "\n",
    "  if (model_answer == true_answer):\n",
    "    scores.append(1)\n",
    "  else:\n",
    "    scores.append(0)"
   ]
  },
  {
   "cell_type": "code",
   "execution_count": null,
   "metadata": {
    "id": "eK9St6nd3CV_"
   },
   "outputs": [],
   "source": [
    "import pandas as pd\n",
    "\n",
    "# Create a DataFrame with each list as a column\n",
    "df = pd.DataFrame({\n",
    "    \"answers\": answers,\n",
    "    \"correctness\": scores\n",
    "})\n",
    "\n",
    "save_path = eval_path + \"/eval_results.csv\"\n",
    "\n",
    "# Save the DataFrame to a new CSV file without the index column\n",
    "df.to_csv(save_path, index=False)"
   ]
  },
  {
   "cell_type": "code",
   "execution_count": 22,
   "metadata": {
    "colab": {
     "base_uri": "https://localhost:8080/"
    },
    "executionInfo": {
     "elapsed": 5,
     "status": "ok",
     "timestamp": 1741941996906,
     "user": {
      "displayName": "Lisa Liu",
      "userId": "15421387329476686382"
     },
     "user_tz": 420
    },
    "id": "1C5frLUGRne5",
    "outputId": "978932a1-7b8a-4239-f393-6a882d68cbb4"
   },
   "outputs": [
    {
     "name": "stdout",
     "output_type": "stream",
     "text": [
      "Model type: 405B, Num of total question: 200, Correct num: 176, Accuracy: 0.88.\n"
     ]
    }
   ],
   "source": [
    "print(\n",
    "    f\"Model type: 405B, \"\n",
    "    f\"Num of total question: {len(scores)}, \"\n",
    "    f\"Correct num: {sum(scores)}, \"\n",
    "    f\"Accuracy: {float(sum(scores))/len(scores)}.\"\n",
    ")"
   ]
  }
 ],
 "metadata": {
  "accelerator": "GPU",
  "colab": {
   "authorship_tag": "ABX9TyOu/sVqWuQ9b+VGVMNvRkMi",
   "gpuType": "A100",
   "machine_shape": "hm",
   "mount_file_id": "1v_WW_gaHh_TsK4RMpOrJMKmkj3qRiO0x",
   "provenance": []
  },
  "kernelspec": {
   "display_name": "Python 3",
   "name": "python3"
  },
  "language_info": {
   "name": "python"
  },
  "widgets": {
   "application/vnd.jupyter.widget-state+json": {
    "0075a675bc204580b20f6a3a63f1d4a3": {
     "model_module": "@jupyter-widgets/controls",
     "model_module_version": "1.5.0",
     "model_name": "DescriptionStyleModel",
     "state": {
      "_model_module": "@jupyter-widgets/controls",
      "_model_module_version": "1.5.0",
      "_model_name": "DescriptionStyleModel",
      "_view_count": null,
      "_view_module": "@jupyter-widgets/base",
      "_view_module_version": "1.2.0",
      "_view_name": "StyleView",
      "description_width": ""
     }
    },
    "01843846dd3b44ee9a1d7e547d65254d": {
     "model_module": "@jupyter-widgets/controls",
     "model_module_version": "1.5.0",
     "model_name": "FloatProgressModel",
     "state": {
      "_dom_classes": [],
      "_model_module": "@jupyter-widgets/controls",
      "_model_module_version": "1.5.0",
      "_model_name": "FloatProgressModel",
      "_view_count": null,
      "_view_module": "@jupyter-widgets/controls",
      "_view_module_version": "1.5.0",
      "_view_name": "ProgressView",
      "bar_style": "success",
      "description": "",
      "description_tooltip": null,
      "layout": "IPY_MODEL_af4be4846cff4eff9aa5efc1857bc79c",
      "max": 2,
      "min": 0,
      "orientation": "horizontal",
      "style": "IPY_MODEL_113d17504ef74736aa3d4a3c9f541603",
      "value": 2
     }
    },
    "02da85fcf468475982c238d655e66b0b": {
     "model_module": "@jupyter-widgets/controls",
     "model_module_version": "1.5.0",
     "model_name": "DescriptionStyleModel",
     "state": {
      "_model_module": "@jupyter-widgets/controls",
      "_model_module_version": "1.5.0",
      "_model_name": "DescriptionStyleModel",
      "_view_count": null,
      "_view_module": "@jupyter-widgets/base",
      "_view_module_version": "1.2.0",
      "_view_name": "StyleView",
      "description_width": ""
     }
    },
    "0399413ca037478c88b94d1befb9a2ce": {
     "model_module": "@jupyter-widgets/controls",
     "model_module_version": "1.5.0",
     "model_name": "DescriptionStyleModel",
     "state": {
      "_model_module": "@jupyter-widgets/controls",
      "_model_module_version": "1.5.0",
      "_model_name": "DescriptionStyleModel",
      "_view_count": null,
      "_view_module": "@jupyter-widgets/base",
      "_view_module_version": "1.2.0",
      "_view_name": "StyleView",
      "description_width": ""
     }
    },
    "05244b6241d34846a8828e6b4075a0bf": {
     "model_module": "@jupyter-widgets/controls",
     "model_module_version": "1.5.0",
     "model_name": "FloatProgressModel",
     "state": {
      "_dom_classes": [],
      "_model_module": "@jupyter-widgets/controls",
      "_model_module_version": "1.5.0",
      "_model_name": "FloatProgressModel",
      "_view_count": null,
      "_view_module": "@jupyter-widgets/controls",
      "_view_module_version": "1.5.0",
      "_view_name": "ProgressView",
      "bar_style": "success",
      "description": "",
      "description_tooltip": null,
      "layout": "IPY_MODEL_c8f918c4e1534f6c8a4d234248e4f254",
      "max": 200,
      "min": 0,
      "orientation": "horizontal",
      "style": "IPY_MODEL_7fb49d6292bb4f2d937cc1f24170cb4e",
      "value": 200
     }
    },
    "0540fd75aa5b443aa52c61808b6cf2a0": {
     "model_module": "@jupyter-widgets/controls",
     "model_module_version": "1.5.0",
     "model_name": "FloatProgressModel",
     "state": {
      "_dom_classes": [],
      "_model_module": "@jupyter-widgets/controls",
      "_model_module_version": "1.5.0",
      "_model_name": "FloatProgressModel",
      "_view_count": null,
      "_view_module": "@jupyter-widgets/controls",
      "_view_module_version": "1.5.0",
      "_view_name": "ProgressView",
      "bar_style": "success",
      "description": "",
      "description_tooltip": null,
      "layout": "IPY_MODEL_673eddb4e8a84206a7930ddd0e7b993b",
      "max": 1459729952,
      "min": 0,
      "orientation": "horizontal",
      "style": "IPY_MODEL_f70583f151324821a2e1eb7da94d3f6f",
      "value": 1459729952
     }
    },
    "08de0ac1dae84f249d7a8bce5bd1d185": {
     "model_module": "@jupyter-widgets/base",
     "model_module_version": "1.2.0",
     "model_name": "LayoutModel",
     "state": {
      "_model_module": "@jupyter-widgets/base",
      "_model_module_version": "1.2.0",
      "_model_name": "LayoutModel",
      "_view_count": null,
      "_view_module": "@jupyter-widgets/base",
      "_view_module_version": "1.2.0",
      "_view_name": "LayoutView",
      "align_content": null,
      "align_items": null,
      "align_self": null,
      "border": null,
      "bottom": null,
      "display": null,
      "flex": null,
      "flex_flow": null,
      "grid_area": null,
      "grid_auto_columns": null,
      "grid_auto_flow": null,
      "grid_auto_rows": null,
      "grid_column": null,
      "grid_gap": null,
      "grid_row": null,
      "grid_template_areas": null,
      "grid_template_columns": null,
      "grid_template_rows": null,
      "height": null,
      "justify_content": null,
      "justify_items": null,
      "left": null,
      "margin": null,
      "max_height": null,
      "max_width": null,
      "min_height": null,
      "min_width": null,
      "object_fit": null,
      "object_position": null,
      "order": null,
      "overflow": null,
      "overflow_x": null,
      "overflow_y": null,
      "padding": null,
      "right": null,
      "top": null,
      "visibility": null,
      "width": null
     }
    },
    "0ab71caaa43a487cbfc97c53e6e660ff": {
     "model_module": "@jupyter-widgets/controls",
     "model_module_version": "1.5.0",
     "model_name": "DescriptionStyleModel",
     "state": {
      "_model_module": "@jupyter-widgets/controls",
      "_model_module_version": "1.5.0",
      "_model_name": "DescriptionStyleModel",
      "_view_count": null,
      "_view_module": "@jupyter-widgets/base",
      "_view_module_version": "1.2.0",
      "_view_name": "StyleView",
      "description_width": ""
     }
    },
    "0d204d07e2544d88ab84fb898fc50d35": {
     "model_module": "@jupyter-widgets/controls",
     "model_module_version": "1.5.0",
     "model_name": "ProgressStyleModel",
     "state": {
      "_model_module": "@jupyter-widgets/controls",
      "_model_module_version": "1.5.0",
      "_model_name": "ProgressStyleModel",
      "_view_count": null,
      "_view_module": "@jupyter-widgets/base",
      "_view_module_version": "1.2.0",
      "_view_name": "StyleView",
      "bar_color": null,
      "description_width": ""
     }
    },
    "0dfd212ed0154cc3be05d2ee310e1ed0": {
     "model_module": "@jupyter-widgets/base",
     "model_module_version": "1.2.0",
     "model_name": "LayoutModel",
     "state": {
      "_model_module": "@jupyter-widgets/base",
      "_model_module_version": "1.2.0",
      "_model_name": "LayoutModel",
      "_view_count": null,
      "_view_module": "@jupyter-widgets/base",
      "_view_module_version": "1.2.0",
      "_view_name": "LayoutView",
      "align_content": null,
      "align_items": null,
      "align_self": null,
      "border": null,
      "bottom": null,
      "display": null,
      "flex": null,
      "flex_flow": null,
      "grid_area": null,
      "grid_auto_columns": null,
      "grid_auto_flow": null,
      "grid_auto_rows": null,
      "grid_column": null,
      "grid_gap": null,
      "grid_row": null,
      "grid_template_areas": null,
      "grid_template_columns": null,
      "grid_template_rows": null,
      "height": null,
      "justify_content": null,
      "justify_items": null,
      "left": null,
      "margin": null,
      "max_height": null,
      "max_width": null,
      "min_height": null,
      "min_width": null,
      "object_fit": null,
      "object_position": null,
      "order": null,
      "overflow": null,
      "overflow_x": null,
      "overflow_y": null,
      "padding": null,
      "right": null,
      "top": null,
      "visibility": null,
      "width": null
     }
    },
    "0e23398dd571458193c0967c09b5ccae": {
     "model_module": "@jupyter-widgets/base",
     "model_module_version": "1.2.0",
     "model_name": "LayoutModel",
     "state": {
      "_model_module": "@jupyter-widgets/base",
      "_model_module_version": "1.2.0",
      "_model_name": "LayoutModel",
      "_view_count": null,
      "_view_module": "@jupyter-widgets/base",
      "_view_module_version": "1.2.0",
      "_view_name": "LayoutView",
      "align_content": null,
      "align_items": null,
      "align_self": null,
      "border": null,
      "bottom": null,
      "display": null,
      "flex": null,
      "flex_flow": null,
      "grid_area": null,
      "grid_auto_columns": null,
      "grid_auto_flow": null,
      "grid_auto_rows": null,
      "grid_column": null,
      "grid_gap": null,
      "grid_row": null,
      "grid_template_areas": null,
      "grid_template_columns": null,
      "grid_template_rows": null,
      "height": null,
      "justify_content": null,
      "justify_items": null,
      "left": null,
      "margin": null,
      "max_height": null,
      "max_width": null,
      "min_height": null,
      "min_width": null,
      "object_fit": null,
      "object_position": null,
      "order": null,
      "overflow": null,
      "overflow_x": null,
      "overflow_y": null,
      "padding": null,
      "right": null,
      "top": null,
      "visibility": null,
      "width": null
     }
    },
    "0ea87191bbc0419090adc81cb921d96b": {
     "model_module": "@jupyter-widgets/controls",
     "model_module_version": "1.5.0",
     "model_name": "HTMLModel",
     "state": {
      "_dom_classes": [],
      "_model_module": "@jupyter-widgets/controls",
      "_model_module_version": "1.5.0",
      "_model_name": "HTMLModel",
      "_view_count": null,
      "_view_module": "@jupyter-widgets/controls",
      "_view_module_version": "1.5.0",
      "_view_name": "HTMLView",
      "description": "",
      "description_tooltip": null,
      "layout": "IPY_MODEL_726f5af839774008950bcf0e5ceb527d",
      "placeholder": "​",
      "style": "IPY_MODEL_4a85b560f071473cac6312fa3e172c81",
      "value": " 200/200 [00:00&lt;00:00, 13155.09 examples/s]"
     }
    },
    "1100bda6484d4e0bb8360eb45a92b4ee": {
     "model_module": "@jupyter-widgets/controls",
     "model_module_version": "1.5.0",
     "model_name": "HTMLModel",
     "state": {
      "_dom_classes": [],
      "_model_module": "@jupyter-widgets/controls",
      "_model_module_version": "1.5.0",
      "_model_name": "HTMLModel",
      "_view_count": null,
      "_view_module": "@jupyter-widgets/controls",
      "_view_module_version": "1.5.0",
      "_view_name": "HTMLView",
      "description": "",
      "description_tooltip": null,
      "layout": "IPY_MODEL_9e020b968b414837aced846baa82777a",
      "placeholder": "​",
      "style": "IPY_MODEL_acef9894f54a46c0b384ca65d5095cea",
      "value": " 200/200 [00:00&lt;00:00, 12496.06 examples/s]"
     }
    },
    "113d17504ef74736aa3d4a3c9f541603": {
     "model_module": "@jupyter-widgets/controls",
     "model_module_version": "1.5.0",
     "model_name": "ProgressStyleModel",
     "state": {
      "_model_module": "@jupyter-widgets/controls",
      "_model_module_version": "1.5.0",
      "_model_name": "ProgressStyleModel",
      "_view_count": null,
      "_view_module": "@jupyter-widgets/base",
      "_view_module_version": "1.2.0",
      "_view_name": "StyleView",
      "bar_color": null,
      "description_width": ""
     }
    },
    "132ce07ebc9843d48402aa89c1322043": {
     "model_module": "@jupyter-widgets/controls",
     "model_module_version": "1.5.0",
     "model_name": "FloatProgressModel",
     "state": {
      "_dom_classes": [],
      "_model_module": "@jupyter-widgets/controls",
      "_model_module_version": "1.5.0",
      "_model_name": "FloatProgressModel",
      "_view_count": null,
      "_view_module": "@jupyter-widgets/controls",
      "_view_module_version": "1.5.0",
      "_view_name": "ProgressView",
      "bar_style": "success",
      "description": "",
      "description_tooltip": null,
      "layout": "IPY_MODEL_9cf9c7f8216c476682bb889d05804d3c",
      "max": 2,
      "min": 0,
      "orientation": "horizontal",
      "style": "IPY_MODEL_569cf2f8581f40759c736558691ba7d8",
      "value": 2
     }
    },
    "18177d6c54f94922a3521ca16ed0b3c9": {
     "model_module": "@jupyter-widgets/base",
     "model_module_version": "1.2.0",
     "model_name": "LayoutModel",
     "state": {
      "_model_module": "@jupyter-widgets/base",
      "_model_module_version": "1.2.0",
      "_model_name": "LayoutModel",
      "_view_count": null,
      "_view_module": "@jupyter-widgets/base",
      "_view_module_version": "1.2.0",
      "_view_name": "LayoutView",
      "align_content": null,
      "align_items": null,
      "align_self": null,
      "border": null,
      "bottom": null,
      "display": null,
      "flex": null,
      "flex_flow": null,
      "grid_area": null,
      "grid_auto_columns": null,
      "grid_auto_flow": null,
      "grid_auto_rows": null,
      "grid_column": null,
      "grid_gap": null,
      "grid_row": null,
      "grid_template_areas": null,
      "grid_template_columns": null,
      "grid_template_rows": null,
      "height": null,
      "justify_content": null,
      "justify_items": null,
      "left": null,
      "margin": null,
      "max_height": null,
      "max_width": null,
      "min_height": null,
      "min_width": null,
      "object_fit": null,
      "object_position": null,
      "order": null,
      "overflow": null,
      "overflow_x": null,
      "overflow_y": null,
      "padding": null,
      "right": null,
      "top": null,
      "visibility": null,
      "width": null
     }
    },
    "19cd3e1dedca4b9785d7787c57af3c9b": {
     "model_module": "@jupyter-widgets/controls",
     "model_module_version": "1.5.0",
     "model_name": "HTMLModel",
     "state": {
      "_dom_classes": [],
      "_model_module": "@jupyter-widgets/controls",
      "_model_module_version": "1.5.0",
      "_model_name": "HTMLModel",
      "_view_count": null,
      "_view_module": "@jupyter-widgets/controls",
      "_view_module_version": "1.5.0",
      "_view_name": "HTMLView",
      "description": "",
      "description_tooltip": null,
      "layout": "IPY_MODEL_69c2dd90993d420eaa96eb1be9aaa532",
      "placeholder": "​",
      "style": "IPY_MODEL_c1a87ad7f30642f286bff047f528cfd5",
      "value": " 2/2 [00:05&lt;00:00,  2.77s/it]"
     }
    },
    "1e5af488109646d1894e72a9606324d3": {
     "model_module": "@jupyter-widgets/base",
     "model_module_version": "1.2.0",
     "model_name": "LayoutModel",
     "state": {
      "_model_module": "@jupyter-widgets/base",
      "_model_module_version": "1.2.0",
      "_model_name": "LayoutModel",
      "_view_count": null,
      "_view_module": "@jupyter-widgets/base",
      "_view_module_version": "1.2.0",
      "_view_name": "LayoutView",
      "align_content": null,
      "align_items": null,
      "align_self": null,
      "border": null,
      "bottom": null,
      "display": null,
      "flex": null,
      "flex_flow": null,
      "grid_area": null,
      "grid_auto_columns": null,
      "grid_auto_flow": null,
      "grid_auto_rows": null,
      "grid_column": null,
      "grid_gap": null,
      "grid_row": null,
      "grid_template_areas": null,
      "grid_template_columns": null,
      "grid_template_rows": null,
      "height": null,
      "justify_content": null,
      "justify_items": null,
      "left": null,
      "margin": null,
      "max_height": null,
      "max_width": null,
      "min_height": null,
      "min_width": null,
      "object_fit": null,
      "object_position": null,
      "order": null,
      "overflow": null,
      "overflow_x": null,
      "overflow_y": null,
      "padding": null,
      "right": null,
      "top": null,
      "visibility": null,
      "width": null
     }
    },
    "1ec3e4d272344463b57d89140c61f76e": {
     "model_module": "@jupyter-widgets/controls",
     "model_module_version": "1.5.0",
     "model_name": "DescriptionStyleModel",
     "state": {
      "_model_module": "@jupyter-widgets/controls",
      "_model_module_version": "1.5.0",
      "_model_name": "DescriptionStyleModel",
      "_view_count": null,
      "_view_module": "@jupyter-widgets/base",
      "_view_module_version": "1.2.0",
      "_view_name": "StyleView",
      "description_width": ""
     }
    },
    "20829d87f05a4db19741af6fba83fd94": {
     "model_module": "@jupyter-widgets/controls",
     "model_module_version": "1.5.0",
     "model_name": "HBoxModel",
     "state": {
      "_dom_classes": [],
      "_model_module": "@jupyter-widgets/controls",
      "_model_module_version": "1.5.0",
      "_model_name": "HBoxModel",
      "_view_count": null,
      "_view_module": "@jupyter-widgets/controls",
      "_view_module_version": "1.5.0",
      "_view_name": "HBoxView",
      "box_style": "",
      "children": [
       "IPY_MODEL_dbad5b911e6b453cb2741ba07e652282",
       "IPY_MODEL_132ce07ebc9843d48402aa89c1322043",
       "IPY_MODEL_19cd3e1dedca4b9785d7787c57af3c9b"
      ],
      "layout": "IPY_MODEL_8e6fdb9befdd48e28cc11d1016e00bc4"
     }
    },
    "2331bdb39dd64555801fd6c9d71de83f": {
     "model_module": "@jupyter-widgets/base",
     "model_module_version": "1.2.0",
     "model_name": "LayoutModel",
     "state": {
      "_model_module": "@jupyter-widgets/base",
      "_model_module_version": "1.2.0",
      "_model_name": "LayoutModel",
      "_view_count": null,
      "_view_module": "@jupyter-widgets/base",
      "_view_module_version": "1.2.0",
      "_view_name": "LayoutView",
      "align_content": null,
      "align_items": null,
      "align_self": null,
      "border": null,
      "bottom": null,
      "display": null,
      "flex": null,
      "flex_flow": null,
      "grid_area": null,
      "grid_auto_columns": null,
      "grid_auto_flow": null,
      "grid_auto_rows": null,
      "grid_column": null,
      "grid_gap": null,
      "grid_row": null,
      "grid_template_areas": null,
      "grid_template_columns": null,
      "grid_template_rows": null,
      "height": null,
      "justify_content": null,
      "justify_items": null,
      "left": null,
      "margin": null,
      "max_height": null,
      "max_width": null,
      "min_height": null,
      "min_width": null,
      "object_fit": null,
      "object_position": null,
      "order": null,
      "overflow": null,
      "overflow_x": null,
      "overflow_y": null,
      "padding": null,
      "right": null,
      "top": null,
      "visibility": null,
      "width": null
     }
    },
    "23f8324c34eb4befbe58c73b09c7cec4": {
     "model_module": "@jupyter-widgets/controls",
     "model_module_version": "1.5.0",
     "model_name": "FloatProgressModel",
     "state": {
      "_dom_classes": [],
      "_model_module": "@jupyter-widgets/controls",
      "_model_module_version": "1.5.0",
      "_model_name": "FloatProgressModel",
      "_view_count": null,
      "_view_module": "@jupyter-widgets/controls",
      "_view_module_version": "1.5.0",
      "_view_name": "ProgressView",
      "bar_style": "success",
      "description": "",
      "description_tooltip": null,
      "layout": "IPY_MODEL_b8bd5ff6da91478a8141560b9c9eb558",
      "max": 4965799096,
      "min": 0,
      "orientation": "horizontal",
      "style": "IPY_MODEL_b08d5c3058284ba4a2b1d38519a3c55b",
      "value": 4965799096
     }
    },
    "25cec9c446614fefb8f756f1d1c19384": {
     "model_module": "@jupyter-widgets/base",
     "model_module_version": "1.2.0",
     "model_name": "LayoutModel",
     "state": {
      "_model_module": "@jupyter-widgets/base",
      "_model_module_version": "1.2.0",
      "_model_name": "LayoutModel",
      "_view_count": null,
      "_view_module": "@jupyter-widgets/base",
      "_view_module_version": "1.2.0",
      "_view_name": "LayoutView",
      "align_content": null,
      "align_items": null,
      "align_self": null,
      "border": null,
      "bottom": null,
      "display": null,
      "flex": null,
      "flex_flow": null,
      "grid_area": null,
      "grid_auto_columns": null,
      "grid_auto_flow": null,
      "grid_auto_rows": null,
      "grid_column": null,
      "grid_gap": null,
      "grid_row": null,
      "grid_template_areas": null,
      "grid_template_columns": null,
      "grid_template_rows": null,
      "height": null,
      "justify_content": null,
      "justify_items": null,
      "left": null,
      "margin": null,
      "max_height": null,
      "max_width": null,
      "min_height": null,
      "min_width": null,
      "object_fit": null,
      "object_position": null,
      "order": null,
      "overflow": null,
      "overflow_x": null,
      "overflow_y": null,
      "padding": null,
      "right": null,
      "top": null,
      "visibility": null,
      "width": null
     }
    },
    "301a88a135964692a8c2e81347ca09d1": {
     "model_module": "@jupyter-widgets/controls",
     "model_module_version": "1.5.0",
     "model_name": "HBoxModel",
     "state": {
      "_dom_classes": [],
      "_model_module": "@jupyter-widgets/controls",
      "_model_module_version": "1.5.0",
      "_model_name": "HBoxModel",
      "_view_count": null,
      "_view_module": "@jupyter-widgets/controls",
      "_view_module_version": "1.5.0",
      "_view_name": "HBoxView",
      "box_style": "",
      "children": [
       "IPY_MODEL_90d45c10dbd94c7c9d3e57e652084813",
       "IPY_MODEL_23f8324c34eb4befbe58c73b09c7cec4",
       "IPY_MODEL_3ecabff2b2f04210ac7196bdee676461"
      ],
      "layout": "IPY_MODEL_f62fa036d76e4d4faa4d3ca51cb6f7ef"
     }
    },
    "30b7f3a022284e81a843bb22fc083bc7": {
     "model_module": "@jupyter-widgets/controls",
     "model_module_version": "1.5.0",
     "model_name": "DescriptionStyleModel",
     "state": {
      "_model_module": "@jupyter-widgets/controls",
      "_model_module_version": "1.5.0",
      "_model_name": "DescriptionStyleModel",
      "_view_count": null,
      "_view_module": "@jupyter-widgets/base",
      "_view_module_version": "1.2.0",
      "_view_name": "StyleView",
      "description_width": ""
     }
    },
    "322dd52548ef4174bf59dbd0190226ef": {
     "model_module": "@jupyter-widgets/controls",
     "model_module_version": "1.5.0",
     "model_name": "ProgressStyleModel",
     "state": {
      "_model_module": "@jupyter-widgets/controls",
      "_model_module_version": "1.5.0",
      "_model_name": "ProgressStyleModel",
      "_view_count": null,
      "_view_module": "@jupyter-widgets/base",
      "_view_module_version": "1.2.0",
      "_view_name": "StyleView",
      "bar_color": null,
      "description_width": ""
     }
    },
    "336408aec75446f281a73e6c52e5d182": {
     "model_module": "@jupyter-widgets/controls",
     "model_module_version": "1.5.0",
     "model_name": "DescriptionStyleModel",
     "state": {
      "_model_module": "@jupyter-widgets/controls",
      "_model_module_version": "1.5.0",
      "_model_name": "DescriptionStyleModel",
      "_view_count": null,
      "_view_module": "@jupyter-widgets/base",
      "_view_module_version": "1.2.0",
      "_view_name": "StyleView",
      "description_width": ""
     }
    },
    "342665b10d3b4968b59e00ff27c18ebc": {
     "model_module": "@jupyter-widgets/controls",
     "model_module_version": "1.5.0",
     "model_name": "HTMLModel",
     "state": {
      "_dom_classes": [],
      "_model_module": "@jupyter-widgets/controls",
      "_model_module_version": "1.5.0",
      "_model_name": "HTMLModel",
      "_view_count": null,
      "_view_module": "@jupyter-widgets/controls",
      "_view_module_version": "1.5.0",
      "_view_name": "HTMLView",
      "description": "",
      "description_tooltip": null,
      "layout": "IPY_MODEL_e71f04ac1ab4472da03543f662fb8491",
      "placeholder": "​",
      "style": "IPY_MODEL_0399413ca037478c88b94d1befb9a2ce",
      "value": "Downloading shards: 100%"
     }
    },
    "356aff1a7e854cb28ec52f26ea963c7d": {
     "model_module": "@jupyter-widgets/base",
     "model_module_version": "1.2.0",
     "model_name": "LayoutModel",
     "state": {
      "_model_module": "@jupyter-widgets/base",
      "_model_module_version": "1.2.0",
      "_model_name": "LayoutModel",
      "_view_count": null,
      "_view_module": "@jupyter-widgets/base",
      "_view_module_version": "1.2.0",
      "_view_name": "LayoutView",
      "align_content": null,
      "align_items": null,
      "align_self": null,
      "border": null,
      "bottom": null,
      "display": null,
      "flex": null,
      "flex_flow": null,
      "grid_area": null,
      "grid_auto_columns": null,
      "grid_auto_flow": null,
      "grid_auto_rows": null,
      "grid_column": null,
      "grid_gap": null,
      "grid_row": null,
      "grid_template_areas": null,
      "grid_template_columns": null,
      "grid_template_rows": null,
      "height": null,
      "justify_content": null,
      "justify_items": null,
      "left": null,
      "margin": null,
      "max_height": null,
      "max_width": null,
      "min_height": null,
      "min_width": null,
      "object_fit": null,
      "object_position": null,
      "order": null,
      "overflow": null,
      "overflow_x": null,
      "overflow_y": null,
      "padding": null,
      "right": null,
      "top": null,
      "visibility": null,
      "width": null
     }
    },
    "37467446dfa247f2948f4a49f1e96d58": {
     "model_module": "@jupyter-widgets/controls",
     "model_module_version": "1.5.0",
     "model_name": "FloatProgressModel",
     "state": {
      "_dom_classes": [],
      "_model_module": "@jupyter-widgets/controls",
      "_model_module_version": "1.5.0",
      "_model_name": "FloatProgressModel",
      "_view_count": null,
      "_view_module": "@jupyter-widgets/controls",
      "_view_module_version": "1.5.0",
      "_view_name": "ProgressView",
      "bar_style": "success",
      "description": "",
      "description_tooltip": null,
      "layout": "IPY_MODEL_d07d571b52154894b8134c89830d8c8c",
      "max": 200,
      "min": 0,
      "orientation": "horizontal",
      "style": "IPY_MODEL_b30d02c54a464e5b82ebe2d3a1b01918",
      "value": 200
     }
    },
    "38391aadfa974bd2b6d7e0cce288e88c": {
     "model_module": "@jupyter-widgets/base",
     "model_module_version": "1.2.0",
     "model_name": "LayoutModel",
     "state": {
      "_model_module": "@jupyter-widgets/base",
      "_model_module_version": "1.2.0",
      "_model_name": "LayoutModel",
      "_view_count": null,
      "_view_module": "@jupyter-widgets/base",
      "_view_module_version": "1.2.0",
      "_view_name": "LayoutView",
      "align_content": null,
      "align_items": null,
      "align_self": null,
      "border": null,
      "bottom": null,
      "display": null,
      "flex": null,
      "flex_flow": null,
      "grid_area": null,
      "grid_auto_columns": null,
      "grid_auto_flow": null,
      "grid_auto_rows": null,
      "grid_column": null,
      "grid_gap": null,
      "grid_row": null,
      "grid_template_areas": null,
      "grid_template_columns": null,
      "grid_template_rows": null,
      "height": null,
      "justify_content": null,
      "justify_items": null,
      "left": null,
      "margin": null,
      "max_height": null,
      "max_width": null,
      "min_height": null,
      "min_width": null,
      "object_fit": null,
      "object_position": null,
      "order": null,
      "overflow": null,
      "overflow_x": null,
      "overflow_y": null,
      "padding": null,
      "right": null,
      "top": null,
      "visibility": null,
      "width": null
     }
    },
    "3a8c273a2c2d4b32a9fc90c7224af320": {
     "model_module": "@jupyter-widgets/base",
     "model_module_version": "1.2.0",
     "model_name": "LayoutModel",
     "state": {
      "_model_module": "@jupyter-widgets/base",
      "_model_module_version": "1.2.0",
      "_model_name": "LayoutModel",
      "_view_count": null,
      "_view_module": "@jupyter-widgets/base",
      "_view_module_version": "1.2.0",
      "_view_name": "LayoutView",
      "align_content": null,
      "align_items": null,
      "align_self": null,
      "border": null,
      "bottom": null,
      "display": null,
      "flex": null,
      "flex_flow": null,
      "grid_area": null,
      "grid_auto_columns": null,
      "grid_auto_flow": null,
      "grid_auto_rows": null,
      "grid_column": null,
      "grid_gap": null,
      "grid_row": null,
      "grid_template_areas": null,
      "grid_template_columns": null,
      "grid_template_rows": null,
      "height": null,
      "justify_content": null,
      "justify_items": null,
      "left": null,
      "margin": null,
      "max_height": null,
      "max_width": null,
      "min_height": null,
      "min_width": null,
      "object_fit": null,
      "object_position": null,
      "order": null,
      "overflow": null,
      "overflow_x": null,
      "overflow_y": null,
      "padding": null,
      "right": null,
      "top": null,
      "visibility": null,
      "width": null
     }
    },
    "3c5e4ba6af0749a79e6b10b75dac5711": {
     "model_module": "@jupyter-widgets/controls",
     "model_module_version": "1.5.0",
     "model_name": "FloatProgressModel",
     "state": {
      "_dom_classes": [],
      "_model_module": "@jupyter-widgets/controls",
      "_model_module_version": "1.5.0",
      "_model_name": "FloatProgressModel",
      "_view_count": null,
      "_view_module": "@jupyter-widgets/controls",
      "_view_module_version": "1.5.0",
      "_view_name": "ProgressView",
      "bar_style": "success",
      "description": "",
      "description_tooltip": null,
      "layout": "IPY_MODEL_559389cd78b74baf99e0bcf342fd2cf2",
      "max": 400,
      "min": 0,
      "orientation": "horizontal",
      "style": "IPY_MODEL_3ff3387915834da6bd2b7a83718f1a74",
      "value": 400
     }
    },
    "3ecabff2b2f04210ac7196bdee676461": {
     "model_module": "@jupyter-widgets/controls",
     "model_module_version": "1.5.0",
     "model_name": "HTMLModel",
     "state": {
      "_dom_classes": [],
      "_model_module": "@jupyter-widgets/controls",
      "_model_module_version": "1.5.0",
      "_model_name": "HTMLModel",
      "_view_count": null,
      "_view_module": "@jupyter-widgets/controls",
      "_view_module_version": "1.5.0",
      "_view_name": "HTMLView",
      "description": "",
      "description_tooltip": null,
      "layout": "IPY_MODEL_4dd25de507c44c20a9480aaf1abdeab4",
      "placeholder": "​",
      "style": "IPY_MODEL_cff57e804d8e4a3bbe7d598d7550d885",
      "value": " 4.97G/4.97G [00:20&lt;00:00, 176MB/s]"
     }
    },
    "3ff3387915834da6bd2b7a83718f1a74": {
     "model_module": "@jupyter-widgets/controls",
     "model_module_version": "1.5.0",
     "model_name": "ProgressStyleModel",
     "state": {
      "_model_module": "@jupyter-widgets/controls",
      "_model_module_version": "1.5.0",
      "_model_name": "ProgressStyleModel",
      "_view_count": null,
      "_view_module": "@jupyter-widgets/base",
      "_view_module_version": "1.2.0",
      "_view_name": "StyleView",
      "bar_color": null,
      "description_width": ""
     }
    },
    "40e669a783f3405d95438d42d242c400": {
     "model_module": "@jupyter-widgets/controls",
     "model_module_version": "1.5.0",
     "model_name": "HBoxModel",
     "state": {
      "_dom_classes": [],
      "_model_module": "@jupyter-widgets/controls",
      "_model_module_version": "1.5.0",
      "_model_name": "HBoxModel",
      "_view_count": null,
      "_view_module": "@jupyter-widgets/controls",
      "_view_module_version": "1.5.0",
      "_view_name": "HBoxView",
      "box_style": "",
      "children": [
       "IPY_MODEL_442c9da3ffde4eb68f5c918fdd9067a9",
       "IPY_MODEL_05244b6241d34846a8828e6b4075a0bf",
       "IPY_MODEL_a5338bce1efb43a8ae3bcd2b970433d0"
      ],
      "layout": "IPY_MODEL_894c7a44b16c42afb26237b5ebedfa78"
     }
    },
    "442c9da3ffde4eb68f5c918fdd9067a9": {
     "model_module": "@jupyter-widgets/controls",
     "model_module_version": "1.5.0",
     "model_name": "HTMLModel",
     "state": {
      "_dom_classes": [],
      "_model_module": "@jupyter-widgets/controls",
      "_model_module_version": "1.5.0",
      "_model_name": "HTMLModel",
      "_view_count": null,
      "_view_module": "@jupyter-widgets/controls",
      "_view_module_version": "1.5.0",
      "_view_name": "HTMLView",
      "description": "",
      "description_tooltip": null,
      "layout": "IPY_MODEL_9dbe62671fd04d0bac213798e76dfa3c",
      "placeholder": "​",
      "style": "IPY_MODEL_e3a413fef8d2402bbe99fe40c083945c",
      "value": "Map: 100%"
     }
    },
    "477ad38a93bf43e0b1ce1d11b82a3edb": {
     "model_module": "@jupyter-widgets/base",
     "model_module_version": "1.2.0",
     "model_name": "LayoutModel",
     "state": {
      "_model_module": "@jupyter-widgets/base",
      "_model_module_version": "1.2.0",
      "_model_name": "LayoutModel",
      "_view_count": null,
      "_view_module": "@jupyter-widgets/base",
      "_view_module_version": "1.2.0",
      "_view_name": "LayoutView",
      "align_content": null,
      "align_items": null,
      "align_self": null,
      "border": null,
      "bottom": null,
      "display": null,
      "flex": null,
      "flex_flow": null,
      "grid_area": null,
      "grid_auto_columns": null,
      "grid_auto_flow": null,
      "grid_auto_rows": null,
      "grid_column": null,
      "grid_gap": null,
      "grid_row": null,
      "grid_template_areas": null,
      "grid_template_columns": null,
      "grid_template_rows": null,
      "height": null,
      "justify_content": null,
      "justify_items": null,
      "left": null,
      "margin": null,
      "max_height": null,
      "max_width": null,
      "min_height": null,
      "min_width": null,
      "object_fit": null,
      "object_position": null,
      "order": null,
      "overflow": null,
      "overflow_x": null,
      "overflow_y": null,
      "padding": null,
      "right": null,
      "top": null,
      "visibility": null,
      "width": null
     }
    },
    "48727485ac41480e917d45c0245bd410": {
     "model_module": "@jupyter-widgets/controls",
     "model_module_version": "1.5.0",
     "model_name": "FloatProgressModel",
     "state": {
      "_dom_classes": [],
      "_model_module": "@jupyter-widgets/controls",
      "_model_module_version": "1.5.0",
      "_model_name": "FloatProgressModel",
      "_view_count": null,
      "_view_module": "@jupyter-widgets/controls",
      "_view_module_version": "1.5.0",
      "_view_name": "ProgressView",
      "bar_style": "success",
      "description": "",
      "description_tooltip": null,
      "layout": "IPY_MODEL_ddf8db292d5845849246931a7eb37542",
      "max": 800,
      "min": 0,
      "orientation": "horizontal",
      "style": "IPY_MODEL_bd93881409c54fd2a74f7ba06ab50b0e",
      "value": 800
     }
    },
    "4a85b560f071473cac6312fa3e172c81": {
     "model_module": "@jupyter-widgets/controls",
     "model_module_version": "1.5.0",
     "model_name": "DescriptionStyleModel",
     "state": {
      "_model_module": "@jupyter-widgets/controls",
      "_model_module_version": "1.5.0",
      "_model_name": "DescriptionStyleModel",
      "_view_count": null,
      "_view_module": "@jupyter-widgets/base",
      "_view_module_version": "1.2.0",
      "_view_name": "StyleView",
      "description_width": ""
     }
    },
    "4aa8d02b8a084518a89f4101f2681b2f": {
     "model_module": "@jupyter-widgets/controls",
     "model_module_version": "1.5.0",
     "model_name": "HTMLModel",
     "state": {
      "_dom_classes": [],
      "_model_module": "@jupyter-widgets/controls",
      "_model_module_version": "1.5.0",
      "_model_name": "HTMLModel",
      "_view_count": null,
      "_view_module": "@jupyter-widgets/controls",
      "_view_module_version": "1.5.0",
      "_view_name": "HTMLView",
      "description": "",
      "description_tooltip": null,
      "layout": "IPY_MODEL_477ad38a93bf43e0b1ce1d11b82a3edb",
      "placeholder": "​",
      "style": "IPY_MODEL_7dbf60df0acb4292836dd9a11d961f8c",
      "value": "generation_config.json: 100%"
     }
    },
    "4bfa6ad8da4845739d2cec79c886cd65": {
     "model_module": "@jupyter-widgets/controls",
     "model_module_version": "1.5.0",
     "model_name": "HBoxModel",
     "state": {
      "_dom_classes": [],
      "_model_module": "@jupyter-widgets/controls",
      "_model_module_version": "1.5.0",
      "_model_name": "HBoxModel",
      "_view_count": null,
      "_view_module": "@jupyter-widgets/controls",
      "_view_module_version": "1.5.0",
      "_view_name": "HBoxView",
      "box_style": "",
      "children": [
       "IPY_MODEL_cb6caaacf136470dbd9648a5fbf40410",
       "IPY_MODEL_ebfa371f79a040be8634e4bdcb7501a6",
       "IPY_MODEL_68de79e0c8e3412b9668217593e5d68e"
      ],
      "layout": "IPY_MODEL_6ed609c155d8480cbb5e7760faef6da9"
     }
    },
    "4c6cbf9b0d964e8e922a65cad11dc0af": {
     "model_module": "@jupyter-widgets/controls",
     "model_module_version": "1.5.0",
     "model_name": "HBoxModel",
     "state": {
      "_dom_classes": [],
      "_model_module": "@jupyter-widgets/controls",
      "_model_module_version": "1.5.0",
      "_model_name": "HBoxModel",
      "_view_count": null,
      "_view_module": "@jupyter-widgets/controls",
      "_view_module_version": "1.5.0",
      "_view_name": "HBoxView",
      "box_style": "",
      "children": [
       "IPY_MODEL_342665b10d3b4968b59e00ff27c18ebc",
       "IPY_MODEL_01843846dd3b44ee9a1d7e547d65254d",
       "IPY_MODEL_994eee6be94a47f9b882324a263980ef"
      ],
      "layout": "IPY_MODEL_3a8c273a2c2d4b32a9fc90c7224af320"
     }
    },
    "4dd25de507c44c20a9480aaf1abdeab4": {
     "model_module": "@jupyter-widgets/base",
     "model_module_version": "1.2.0",
     "model_name": "LayoutModel",
     "state": {
      "_model_module": "@jupyter-widgets/base",
      "_model_module_version": "1.2.0",
      "_model_name": "LayoutModel",
      "_view_count": null,
      "_view_module": "@jupyter-widgets/base",
      "_view_module_version": "1.2.0",
      "_view_name": "LayoutView",
      "align_content": null,
      "align_items": null,
      "align_self": null,
      "border": null,
      "bottom": null,
      "display": null,
      "flex": null,
      "flex_flow": null,
      "grid_area": null,
      "grid_auto_columns": null,
      "grid_auto_flow": null,
      "grid_auto_rows": null,
      "grid_column": null,
      "grid_gap": null,
      "grid_row": null,
      "grid_template_areas": null,
      "grid_template_columns": null,
      "grid_template_rows": null,
      "height": null,
      "justify_content": null,
      "justify_items": null,
      "left": null,
      "margin": null,
      "max_height": null,
      "max_width": null,
      "min_height": null,
      "min_width": null,
      "object_fit": null,
      "object_position": null,
      "order": null,
      "overflow": null,
      "overflow_x": null,
      "overflow_y": null,
      "padding": null,
      "right": null,
      "top": null,
      "visibility": null,
      "width": null
     }
    },
    "4f290e38b5cb4719b67a86f2e5b0ea01": {
     "model_module": "@jupyter-widgets/controls",
     "model_module_version": "1.5.0",
     "model_name": "DescriptionStyleModel",
     "state": {
      "_model_module": "@jupyter-widgets/controls",
      "_model_module_version": "1.5.0",
      "_model_name": "DescriptionStyleModel",
      "_view_count": null,
      "_view_module": "@jupyter-widgets/base",
      "_view_module_version": "1.2.0",
      "_view_name": "StyleView",
      "description_width": ""
     }
    },
    "4f8fedb585b1465c80dedab922a0ce5d": {
     "model_module": "@jupyter-widgets/controls",
     "model_module_version": "1.5.0",
     "model_name": "HTMLModel",
     "state": {
      "_dom_classes": [],
      "_model_module": "@jupyter-widgets/controls",
      "_model_module_version": "1.5.0",
      "_model_name": "HTMLModel",
      "_view_count": null,
      "_view_module": "@jupyter-widgets/controls",
      "_view_module_version": "1.5.0",
      "_view_name": "HTMLView",
      "description": "",
      "description_tooltip": null,
      "layout": "IPY_MODEL_c80ce6a414884df0b13f66942469d85a",
      "placeholder": "​",
      "style": "IPY_MODEL_6e533f95cce546f19581b8486cf77ecb",
      "value": "Saving the dataset (1/1 shards): 100%"
     }
    },
    "5152dcdd2537442b9be4aef86a814603": {
     "model_module": "@jupyter-widgets/controls",
     "model_module_version": "1.5.0",
     "model_name": "DescriptionStyleModel",
     "state": {
      "_model_module": "@jupyter-widgets/controls",
      "_model_module_version": "1.5.0",
      "_model_name": "DescriptionStyleModel",
      "_view_count": null,
      "_view_module": "@jupyter-widgets/base",
      "_view_module_version": "1.2.0",
      "_view_name": "StyleView",
      "description_width": ""
     }
    },
    "51b4bc79263d429fa8c327498030c5cd": {
     "model_module": "@jupyter-widgets/controls",
     "model_module_version": "1.5.0",
     "model_name": "HTMLModel",
     "state": {
      "_dom_classes": [],
      "_model_module": "@jupyter-widgets/controls",
      "_model_module_version": "1.5.0",
      "_model_name": "HTMLModel",
      "_view_count": null,
      "_view_module": "@jupyter-widgets/controls",
      "_view_module_version": "1.5.0",
      "_view_name": "HTMLView",
      "description": "",
      "description_tooltip": null,
      "layout": "IPY_MODEL_2331bdb39dd64555801fd6c9d71de83f",
      "placeholder": "​",
      "style": "IPY_MODEL_0ab71caaa43a487cbfc97c53e6e660ff",
      "value": "Saving the dataset (1/1 shards): 100%"
     }
    },
    "53df3d894c684f019fd37fc935813dcd": {
     "model_module": "@jupyter-widgets/base",
     "model_module_version": "1.2.0",
     "model_name": "LayoutModel",
     "state": {
      "_model_module": "@jupyter-widgets/base",
      "_model_module_version": "1.2.0",
      "_model_name": "LayoutModel",
      "_view_count": null,
      "_view_module": "@jupyter-widgets/base",
      "_view_module_version": "1.2.0",
      "_view_name": "LayoutView",
      "align_content": null,
      "align_items": null,
      "align_self": null,
      "border": null,
      "bottom": null,
      "display": null,
      "flex": null,
      "flex_flow": null,
      "grid_area": null,
      "grid_auto_columns": null,
      "grid_auto_flow": null,
      "grid_auto_rows": null,
      "grid_column": null,
      "grid_gap": null,
      "grid_row": null,
      "grid_template_areas": null,
      "grid_template_columns": null,
      "grid_template_rows": null,
      "height": null,
      "justify_content": null,
      "justify_items": null,
      "left": null,
      "margin": null,
      "max_height": null,
      "max_width": null,
      "min_height": null,
      "min_width": null,
      "object_fit": null,
      "object_position": null,
      "order": null,
      "overflow": null,
      "overflow_x": null,
      "overflow_y": null,
      "padding": null,
      "right": null,
      "top": null,
      "visibility": null,
      "width": null
     }
    },
    "554c563741b643d3acda936e8c9b24c7": {
     "model_module": "@jupyter-widgets/base",
     "model_module_version": "1.2.0",
     "model_name": "LayoutModel",
     "state": {
      "_model_module": "@jupyter-widgets/base",
      "_model_module_version": "1.2.0",
      "_model_name": "LayoutModel",
      "_view_count": null,
      "_view_module": "@jupyter-widgets/base",
      "_view_module_version": "1.2.0",
      "_view_name": "LayoutView",
      "align_content": null,
      "align_items": null,
      "align_self": null,
      "border": null,
      "bottom": null,
      "display": null,
      "flex": null,
      "flex_flow": null,
      "grid_area": null,
      "grid_auto_columns": null,
      "grid_auto_flow": null,
      "grid_auto_rows": null,
      "grid_column": null,
      "grid_gap": null,
      "grid_row": null,
      "grid_template_areas": null,
      "grid_template_columns": null,
      "grid_template_rows": null,
      "height": null,
      "justify_content": null,
      "justify_items": null,
      "left": null,
      "margin": null,
      "max_height": null,
      "max_width": null,
      "min_height": null,
      "min_width": null,
      "object_fit": null,
      "object_position": null,
      "order": null,
      "overflow": null,
      "overflow_x": null,
      "overflow_y": null,
      "padding": null,
      "right": null,
      "top": null,
      "visibility": null,
      "width": null
     }
    },
    "559389cd78b74baf99e0bcf342fd2cf2": {
     "model_module": "@jupyter-widgets/base",
     "model_module_version": "1.2.0",
     "model_name": "LayoutModel",
     "state": {
      "_model_module": "@jupyter-widgets/base",
      "_model_module_version": "1.2.0",
      "_model_name": "LayoutModel",
      "_view_count": null,
      "_view_module": "@jupyter-widgets/base",
      "_view_module_version": "1.2.0",
      "_view_name": "LayoutView",
      "align_content": null,
      "align_items": null,
      "align_self": null,
      "border": null,
      "bottom": null,
      "display": null,
      "flex": null,
      "flex_flow": null,
      "grid_area": null,
      "grid_auto_columns": null,
      "grid_auto_flow": null,
      "grid_auto_rows": null,
      "grid_column": null,
      "grid_gap": null,
      "grid_row": null,
      "grid_template_areas": null,
      "grid_template_columns": null,
      "grid_template_rows": null,
      "height": null,
      "justify_content": null,
      "justify_items": null,
      "left": null,
      "margin": null,
      "max_height": null,
      "max_width": null,
      "min_height": null,
      "min_width": null,
      "object_fit": null,
      "object_position": null,
      "order": null,
      "overflow": null,
      "overflow_x": null,
      "overflow_y": null,
      "padding": null,
      "right": null,
      "top": null,
      "visibility": null,
      "width": null
     }
    },
    "569cf2f8581f40759c736558691ba7d8": {
     "model_module": "@jupyter-widgets/controls",
     "model_module_version": "1.5.0",
     "model_name": "ProgressStyleModel",
     "state": {
      "_model_module": "@jupyter-widgets/controls",
      "_model_module_version": "1.5.0",
      "_model_name": "ProgressStyleModel",
      "_view_count": null,
      "_view_module": "@jupyter-widgets/base",
      "_view_module_version": "1.2.0",
      "_view_name": "StyleView",
      "bar_color": null,
      "description_width": ""
     }
    },
    "5e85a4dc51a6459f822be96b0c2c1eb7": {
     "model_module": "@jupyter-widgets/controls",
     "model_module_version": "1.5.0",
     "model_name": "DescriptionStyleModel",
     "state": {
      "_model_module": "@jupyter-widgets/controls",
      "_model_module_version": "1.5.0",
      "_model_name": "DescriptionStyleModel",
      "_view_count": null,
      "_view_module": "@jupyter-widgets/base",
      "_view_module_version": "1.2.0",
      "_view_name": "StyleView",
      "description_width": ""
     }
    },
    "5e866663c73541ea93184e5486381dc4": {
     "model_module": "@jupyter-widgets/controls",
     "model_module_version": "1.5.0",
     "model_name": "HTMLModel",
     "state": {
      "_dom_classes": [],
      "_model_module": "@jupyter-widgets/controls",
      "_model_module_version": "1.5.0",
      "_model_name": "HTMLModel",
      "_view_count": null,
      "_view_module": "@jupyter-widgets/controls",
      "_view_module_version": "1.5.0",
      "_view_name": "HTMLView",
      "description": "",
      "description_tooltip": null,
      "layout": "IPY_MODEL_c4d1d9ccb41d40d9a7725c9b57d286ff",
      "placeholder": "​",
      "style": "IPY_MODEL_5152dcdd2537442b9be4aef86a814603",
      "value": " 400/400 [2:30:54&lt;00:00, 25.38s/ examples]"
     }
    },
    "5f87df0d6ad0429fba3fd041a59b6c59": {
     "model_module": "@jupyter-widgets/base",
     "model_module_version": "1.2.0",
     "model_name": "LayoutModel",
     "state": {
      "_model_module": "@jupyter-widgets/base",
      "_model_module_version": "1.2.0",
      "_model_name": "LayoutModel",
      "_view_count": null,
      "_view_module": "@jupyter-widgets/base",
      "_view_module_version": "1.2.0",
      "_view_name": "LayoutView",
      "align_content": null,
      "align_items": null,
      "align_self": null,
      "border": null,
      "bottom": null,
      "display": null,
      "flex": null,
      "flex_flow": null,
      "grid_area": null,
      "grid_auto_columns": null,
      "grid_auto_flow": null,
      "grid_auto_rows": null,
      "grid_column": null,
      "grid_gap": null,
      "grid_row": null,
      "grid_template_areas": null,
      "grid_template_columns": null,
      "grid_template_rows": null,
      "height": null,
      "justify_content": null,
      "justify_items": null,
      "left": null,
      "margin": null,
      "max_height": null,
      "max_width": null,
      "min_height": null,
      "min_width": null,
      "object_fit": null,
      "object_position": null,
      "order": null,
      "overflow": null,
      "overflow_x": null,
      "overflow_y": null,
      "padding": null,
      "right": null,
      "top": null,
      "visibility": null,
      "width": null
     }
    },
    "61f3145bcf3c4f729633aee236634db9": {
     "model_module": "@jupyter-widgets/controls",
     "model_module_version": "1.5.0",
     "model_name": "DescriptionStyleModel",
     "state": {
      "_model_module": "@jupyter-widgets/controls",
      "_model_module_version": "1.5.0",
      "_model_name": "DescriptionStyleModel",
      "_view_count": null,
      "_view_module": "@jupyter-widgets/base",
      "_view_module_version": "1.2.0",
      "_view_name": "StyleView",
      "description_width": ""
     }
    },
    "62511c090dbb4980a0ac57035e0ea6b4": {
     "model_module": "@jupyter-widgets/controls",
     "model_module_version": "1.5.0",
     "model_name": "FloatProgressModel",
     "state": {
      "_dom_classes": [],
      "_model_module": "@jupyter-widgets/controls",
      "_model_module_version": "1.5.0",
      "_model_name": "FloatProgressModel",
      "_view_count": null,
      "_view_module": "@jupyter-widgets/controls",
      "_view_module_version": "1.5.0",
      "_view_name": "ProgressView",
      "bar_style": "success",
      "description": "",
      "description_tooltip": null,
      "layout": "IPY_MODEL_18177d6c54f94922a3521ca16ed0b3c9",
      "max": 400,
      "min": 0,
      "orientation": "horizontal",
      "style": "IPY_MODEL_322dd52548ef4174bf59dbd0190226ef",
      "value": 400
     }
    },
    "64f42233cdde442193908bb5fdd39a06": {
     "model_module": "@jupyter-widgets/controls",
     "model_module_version": "1.5.0",
     "model_name": "DescriptionStyleModel",
     "state": {
      "_model_module": "@jupyter-widgets/controls",
      "_model_module_version": "1.5.0",
      "_model_name": "DescriptionStyleModel",
      "_view_count": null,
      "_view_module": "@jupyter-widgets/base",
      "_view_module_version": "1.2.0",
      "_view_name": "StyleView",
      "description_width": ""
     }
    },
    "673eddb4e8a84206a7930ddd0e7b993b": {
     "model_module": "@jupyter-widgets/base",
     "model_module_version": "1.2.0",
     "model_name": "LayoutModel",
     "state": {
      "_model_module": "@jupyter-widgets/base",
      "_model_module_version": "1.2.0",
      "_model_name": "LayoutModel",
      "_view_count": null,
      "_view_module": "@jupyter-widgets/base",
      "_view_module_version": "1.2.0",
      "_view_name": "LayoutView",
      "align_content": null,
      "align_items": null,
      "align_self": null,
      "border": null,
      "bottom": null,
      "display": null,
      "flex": null,
      "flex_flow": null,
      "grid_area": null,
      "grid_auto_columns": null,
      "grid_auto_flow": null,
      "grid_auto_rows": null,
      "grid_column": null,
      "grid_gap": null,
      "grid_row": null,
      "grid_template_areas": null,
      "grid_template_columns": null,
      "grid_template_rows": null,
      "height": null,
      "justify_content": null,
      "justify_items": null,
      "left": null,
      "margin": null,
      "max_height": null,
      "max_width": null,
      "min_height": null,
      "min_width": null,
      "object_fit": null,
      "object_position": null,
      "order": null,
      "overflow": null,
      "overflow_x": null,
      "overflow_y": null,
      "padding": null,
      "right": null,
      "top": null,
      "visibility": null,
      "width": null
     }
    },
    "6836420355614d6681464f09f59804d1": {
     "model_module": "@jupyter-widgets/base",
     "model_module_version": "1.2.0",
     "model_name": "LayoutModel",
     "state": {
      "_model_module": "@jupyter-widgets/base",
      "_model_module_version": "1.2.0",
      "_model_name": "LayoutModel",
      "_view_count": null,
      "_view_module": "@jupyter-widgets/base",
      "_view_module_version": "1.2.0",
      "_view_name": "LayoutView",
      "align_content": null,
      "align_items": null,
      "align_self": null,
      "border": null,
      "bottom": null,
      "display": null,
      "flex": null,
      "flex_flow": null,
      "grid_area": null,
      "grid_auto_columns": null,
      "grid_auto_flow": null,
      "grid_auto_rows": null,
      "grid_column": null,
      "grid_gap": null,
      "grid_row": null,
      "grid_template_areas": null,
      "grid_template_columns": null,
      "grid_template_rows": null,
      "height": null,
      "justify_content": null,
      "justify_items": null,
      "left": null,
      "margin": null,
      "max_height": null,
      "max_width": null,
      "min_height": null,
      "min_width": null,
      "object_fit": null,
      "object_position": null,
      "order": null,
      "overflow": null,
      "overflow_x": null,
      "overflow_y": null,
      "padding": null,
      "right": null,
      "top": null,
      "visibility": null,
      "width": null
     }
    },
    "68de79e0c8e3412b9668217593e5d68e": {
     "model_module": "@jupyter-widgets/controls",
     "model_module_version": "1.5.0",
     "model_name": "HTMLModel",
     "state": {
      "_dom_classes": [],
      "_model_module": "@jupyter-widgets/controls",
      "_model_module_version": "1.5.0",
      "_model_name": "HTMLModel",
      "_view_count": null,
      "_view_module": "@jupyter-widgets/controls",
      "_view_module_version": "1.5.0",
      "_view_name": "HTMLView",
      "description": "",
      "description_tooltip": null,
      "layout": "IPY_MODEL_f674f270e47340ecbc214aeec75aea8c",
      "placeholder": "​",
      "style": "IPY_MODEL_996377b48cd94cfd90f3411156c8b7fe",
      "value": " 800/800 [00:04&lt;00:00, 185.84 examples/s]"
     }
    },
    "6943cd5d3b11493398ad7d2d9b8b6b24": {
     "model_module": "@jupyter-widgets/controls",
     "model_module_version": "1.5.0",
     "model_name": "HTMLModel",
     "state": {
      "_dom_classes": [],
      "_model_module": "@jupyter-widgets/controls",
      "_model_module_version": "1.5.0",
      "_model_name": "HTMLModel",
      "_view_count": null,
      "_view_module": "@jupyter-widgets/controls",
      "_view_module_version": "1.5.0",
      "_view_name": "HTMLView",
      "description": "",
      "description_tooltip": null,
      "layout": "IPY_MODEL_d466a5aef79f4c50af199d8a56a69d9c",
      "placeholder": "​",
      "style": "IPY_MODEL_30b7f3a022284e81a843bb22fc083bc7",
      "value": " 400/400 [00:00&lt;00:00, 11800.90 examples/s]"
     }
    },
    "69c2dd90993d420eaa96eb1be9aaa532": {
     "model_module": "@jupyter-widgets/base",
     "model_module_version": "1.2.0",
     "model_name": "LayoutModel",
     "state": {
      "_model_module": "@jupyter-widgets/base",
      "_model_module_version": "1.2.0",
      "_model_name": "LayoutModel",
      "_view_count": null,
      "_view_module": "@jupyter-widgets/base",
      "_view_module_version": "1.2.0",
      "_view_name": "LayoutView",
      "align_content": null,
      "align_items": null,
      "align_self": null,
      "border": null,
      "bottom": null,
      "display": null,
      "flex": null,
      "flex_flow": null,
      "grid_area": null,
      "grid_auto_columns": null,
      "grid_auto_flow": null,
      "grid_auto_rows": null,
      "grid_column": null,
      "grid_gap": null,
      "grid_row": null,
      "grid_template_areas": null,
      "grid_template_columns": null,
      "grid_template_rows": null,
      "height": null,
      "justify_content": null,
      "justify_items": null,
      "left": null,
      "margin": null,
      "max_height": null,
      "max_width": null,
      "min_height": null,
      "min_width": null,
      "object_fit": null,
      "object_position": null,
      "order": null,
      "overflow": null,
      "overflow_x": null,
      "overflow_y": null,
      "padding": null,
      "right": null,
      "top": null,
      "visibility": null,
      "width": null
     }
    },
    "6b84e7a63eca4f8ab0f93efebc15be25": {
     "model_module": "@jupyter-widgets/controls",
     "model_module_version": "1.5.0",
     "model_name": "FloatProgressModel",
     "state": {
      "_dom_classes": [],
      "_model_module": "@jupyter-widgets/controls",
      "_model_module_version": "1.5.0",
      "_model_name": "FloatProgressModel",
      "_view_count": null,
      "_view_module": "@jupyter-widgets/controls",
      "_view_module_version": "1.5.0",
      "_view_name": "ProgressView",
      "bar_style": "success",
      "description": "",
      "description_tooltip": null,
      "layout": "IPY_MODEL_c6118e87cbd441a2801f97fae90dbb47",
      "max": 800,
      "min": 0,
      "orientation": "horizontal",
      "style": "IPY_MODEL_e07c576d7e1b494c91da25ace40a1d52",
      "value": 800
     }
    },
    "6e533f95cce546f19581b8486cf77ecb": {
     "model_module": "@jupyter-widgets/controls",
     "model_module_version": "1.5.0",
     "model_name": "DescriptionStyleModel",
     "state": {
      "_model_module": "@jupyter-widgets/controls",
      "_model_module_version": "1.5.0",
      "_model_name": "DescriptionStyleModel",
      "_view_count": null,
      "_view_module": "@jupyter-widgets/base",
      "_view_module_version": "1.2.0",
      "_view_name": "StyleView",
      "description_width": ""
     }
    },
    "6ed609c155d8480cbb5e7760faef6da9": {
     "model_module": "@jupyter-widgets/base",
     "model_module_version": "1.2.0",
     "model_name": "LayoutModel",
     "state": {
      "_model_module": "@jupyter-widgets/base",
      "_model_module_version": "1.2.0",
      "_model_name": "LayoutModel",
      "_view_count": null,
      "_view_module": "@jupyter-widgets/base",
      "_view_module_version": "1.2.0",
      "_view_name": "LayoutView",
      "align_content": null,
      "align_items": null,
      "align_self": null,
      "border": null,
      "bottom": null,
      "display": null,
      "flex": null,
      "flex_flow": null,
      "grid_area": null,
      "grid_auto_columns": null,
      "grid_auto_flow": null,
      "grid_auto_rows": null,
      "grid_column": null,
      "grid_gap": null,
      "grid_row": null,
      "grid_template_areas": null,
      "grid_template_columns": null,
      "grid_template_rows": null,
      "height": null,
      "justify_content": null,
      "justify_items": null,
      "left": null,
      "margin": null,
      "max_height": null,
      "max_width": null,
      "min_height": null,
      "min_width": null,
      "object_fit": null,
      "object_position": null,
      "order": null,
      "overflow": null,
      "overflow_x": null,
      "overflow_y": null,
      "padding": null,
      "right": null,
      "top": null,
      "visibility": null,
      "width": null
     }
    },
    "7084b95bd64d4ece93c641d155de06b5": {
     "model_module": "@jupyter-widgets/controls",
     "model_module_version": "1.5.0",
     "model_name": "HTMLModel",
     "state": {
      "_dom_classes": [],
      "_model_module": "@jupyter-widgets/controls",
      "_model_module_version": "1.5.0",
      "_model_name": "HTMLModel",
      "_view_count": null,
      "_view_module": "@jupyter-widgets/controls",
      "_view_module_version": "1.5.0",
      "_view_name": "HTMLView",
      "description": "",
      "description_tooltip": null,
      "layout": "IPY_MODEL_9b7c7ed4a56846fdb12d64071ea10220",
      "placeholder": "​",
      "style": "IPY_MODEL_caace855f80b463ba34925beca8eb438",
      "value": " 185/185 [00:00&lt;00:00, 24.0kB/s]"
     }
    },
    "7128909b439d45abac969cab297b501f": {
     "model_module": "@jupyter-widgets/controls",
     "model_module_version": "1.5.0",
     "model_name": "FloatProgressModel",
     "state": {
      "_dom_classes": [],
      "_model_module": "@jupyter-widgets/controls",
      "_model_module_version": "1.5.0",
      "_model_name": "FloatProgressModel",
      "_view_count": null,
      "_view_module": "@jupyter-widgets/controls",
      "_view_module_version": "1.5.0",
      "_view_name": "ProgressView",
      "bar_style": "success",
      "description": "",
      "description_tooltip": null,
      "layout": "IPY_MODEL_d7a3ded73fec4db9b1675a3b75a640b1",
      "max": 200,
      "min": 0,
      "orientation": "horizontal",
      "style": "IPY_MODEL_0d204d07e2544d88ab84fb898fc50d35",
      "value": 200
     }
    },
    "726f5af839774008950bcf0e5ceb527d": {
     "model_module": "@jupyter-widgets/base",
     "model_module_version": "1.2.0",
     "model_name": "LayoutModel",
     "state": {
      "_model_module": "@jupyter-widgets/base",
      "_model_module_version": "1.2.0",
      "_model_name": "LayoutModel",
      "_view_count": null,
      "_view_module": "@jupyter-widgets/base",
      "_view_module_version": "1.2.0",
      "_view_name": "LayoutView",
      "align_content": null,
      "align_items": null,
      "align_self": null,
      "border": null,
      "bottom": null,
      "display": null,
      "flex": null,
      "flex_flow": null,
      "grid_area": null,
      "grid_auto_columns": null,
      "grid_auto_flow": null,
      "grid_auto_rows": null,
      "grid_column": null,
      "grid_gap": null,
      "grid_row": null,
      "grid_template_areas": null,
      "grid_template_columns": null,
      "grid_template_rows": null,
      "height": null,
      "justify_content": null,
      "justify_items": null,
      "left": null,
      "margin": null,
      "max_height": null,
      "max_width": null,
      "min_height": null,
      "min_width": null,
      "object_fit": null,
      "object_position": null,
      "order": null,
      "overflow": null,
      "overflow_x": null,
      "overflow_y": null,
      "padding": null,
      "right": null,
      "top": null,
      "visibility": null,
      "width": null
     }
    },
    "736f18d75d814dd3a0c3ab03d7748920": {
     "model_module": "@jupyter-widgets/controls",
     "model_module_version": "1.5.0",
     "model_name": "ProgressStyleModel",
     "state": {
      "_model_module": "@jupyter-widgets/controls",
      "_model_module_version": "1.5.0",
      "_model_name": "ProgressStyleModel",
      "_view_count": null,
      "_view_module": "@jupyter-widgets/base",
      "_view_module_version": "1.2.0",
      "_view_name": "StyleView",
      "bar_color": null,
      "description_width": ""
     }
    },
    "738f078f46d74b8f9b2a020cedb6b59f": {
     "model_module": "@jupyter-widgets/base",
     "model_module_version": "1.2.0",
     "model_name": "LayoutModel",
     "state": {
      "_model_module": "@jupyter-widgets/base",
      "_model_module_version": "1.2.0",
      "_model_name": "LayoutModel",
      "_view_count": null,
      "_view_module": "@jupyter-widgets/base",
      "_view_module_version": "1.2.0",
      "_view_name": "LayoutView",
      "align_content": null,
      "align_items": null,
      "align_self": null,
      "border": null,
      "bottom": null,
      "display": null,
      "flex": null,
      "flex_flow": null,
      "grid_area": null,
      "grid_auto_columns": null,
      "grid_auto_flow": null,
      "grid_auto_rows": null,
      "grid_column": null,
      "grid_gap": null,
      "grid_row": null,
      "grid_template_areas": null,
      "grid_template_columns": null,
      "grid_template_rows": null,
      "height": null,
      "justify_content": null,
      "justify_items": null,
      "left": null,
      "margin": null,
      "max_height": null,
      "max_width": null,
      "min_height": null,
      "min_width": null,
      "object_fit": null,
      "object_position": null,
      "order": null,
      "overflow": null,
      "overflow_x": null,
      "overflow_y": null,
      "padding": null,
      "right": null,
      "top": null,
      "visibility": null,
      "width": null
     }
    },
    "7696bc4b54d94b58a233b18691eff6ce": {
     "model_module": "@jupyter-widgets/controls",
     "model_module_version": "1.5.0",
     "model_name": "HBoxModel",
     "state": {
      "_dom_classes": [],
      "_model_module": "@jupyter-widgets/controls",
      "_model_module_version": "1.5.0",
      "_model_name": "HBoxModel",
      "_view_count": null,
      "_view_module": "@jupyter-widgets/controls",
      "_view_module_version": "1.5.0",
      "_view_name": "HBoxView",
      "box_style": "",
      "children": [
       "IPY_MODEL_c060180c9d4e4b56a93404896bd083ac",
       "IPY_MODEL_7c71aa7f48e041419704b55c0183005c",
       "IPY_MODEL_fd26bb63791e45458e37e213eeb59674"
      ],
      "layout": "IPY_MODEL_e03baada3f4842d89f11ba6dca53b92c"
     }
    },
    "76a53f9c92b74243a00e46a120f3b44c": {
     "model_module": "@jupyter-widgets/controls",
     "model_module_version": "1.5.0",
     "model_name": "HTMLModel",
     "state": {
      "_dom_classes": [],
      "_model_module": "@jupyter-widgets/controls",
      "_model_module_version": "1.5.0",
      "_model_name": "HTMLModel",
      "_view_count": null,
      "_view_module": "@jupyter-widgets/controls",
      "_view_module_version": "1.5.0",
      "_view_name": "HTMLView",
      "description": "",
      "description_tooltip": null,
      "layout": "IPY_MODEL_d0518640a79e4b35ad69d5d9b36dff51",
      "placeholder": "​",
      "style": "IPY_MODEL_02da85fcf468475982c238d655e66b0b",
      "value": "Flattening the indices: 100%"
     }
    },
    "76c8701d7da542aeac6c583307898e58": {
     "model_module": "@jupyter-widgets/base",
     "model_module_version": "1.2.0",
     "model_name": "LayoutModel",
     "state": {
      "_model_module": "@jupyter-widgets/base",
      "_model_module_version": "1.2.0",
      "_model_name": "LayoutModel",
      "_view_count": null,
      "_view_module": "@jupyter-widgets/base",
      "_view_module_version": "1.2.0",
      "_view_name": "LayoutView",
      "align_content": null,
      "align_items": null,
      "align_self": null,
      "border": null,
      "bottom": null,
      "display": null,
      "flex": null,
      "flex_flow": null,
      "grid_area": null,
      "grid_auto_columns": null,
      "grid_auto_flow": null,
      "grid_auto_rows": null,
      "grid_column": null,
      "grid_gap": null,
      "grid_row": null,
      "grid_template_areas": null,
      "grid_template_columns": null,
      "grid_template_rows": null,
      "height": null,
      "justify_content": null,
      "justify_items": null,
      "left": null,
      "margin": null,
      "max_height": null,
      "max_width": null,
      "min_height": null,
      "min_width": null,
      "object_fit": null,
      "object_position": null,
      "order": null,
      "overflow": null,
      "overflow_x": null,
      "overflow_y": null,
      "padding": null,
      "right": null,
      "top": null,
      "visibility": null,
      "width": null
     }
    },
    "7a9dae17176f48c88166e165cba8c0e9": {
     "model_module": "@jupyter-widgets/controls",
     "model_module_version": "1.5.0",
     "model_name": "HTMLModel",
     "state": {
      "_dom_classes": [],
      "_model_module": "@jupyter-widgets/controls",
      "_model_module_version": "1.5.0",
      "_model_name": "HTMLModel",
      "_view_count": null,
      "_view_module": "@jupyter-widgets/controls",
      "_view_module_version": "1.5.0",
      "_view_name": "HTMLView",
      "description": "",
      "description_tooltip": null,
      "layout": "IPY_MODEL_0e23398dd571458193c0967c09b5ccae",
      "placeholder": "​",
      "style": "IPY_MODEL_1ec3e4d272344463b57d89140c61f76e",
      "value": " 800/800 [00:00&lt;00:00, 13644.78 examples/s]"
     }
    },
    "7c3cee8fc9264addaa5ba6492ceeef9b": {
     "model_module": "@jupyter-widgets/controls",
     "model_module_version": "1.5.0",
     "model_name": "HTMLModel",
     "state": {
      "_dom_classes": [],
      "_model_module": "@jupyter-widgets/controls",
      "_model_module_version": "1.5.0",
      "_model_name": "HTMLModel",
      "_view_count": null,
      "_view_module": "@jupyter-widgets/controls",
      "_view_module_version": "1.5.0",
      "_view_name": "HTMLView",
      "description": "",
      "description_tooltip": null,
      "layout": "IPY_MODEL_85d7b589ebba44d69c59021897e88bcc",
      "placeholder": "​",
      "style": "IPY_MODEL_61f3145bcf3c4f729633aee236634db9",
      "value": "Map: 100%"
     }
    },
    "7c71aa7f48e041419704b55c0183005c": {
     "model_module": "@jupyter-widgets/controls",
     "model_module_version": "1.5.0",
     "model_name": "FloatProgressModel",
     "state": {
      "_dom_classes": [],
      "_model_module": "@jupyter-widgets/controls",
      "_model_module_version": "1.5.0",
      "_model_name": "FloatProgressModel",
      "_view_count": null,
      "_view_module": "@jupyter-widgets/controls",
      "_view_module_version": "1.5.0",
      "_view_name": "ProgressView",
      "bar_style": "success",
      "description": "",
      "description_tooltip": null,
      "layout": "IPY_MODEL_bb57e34063cb49788edf3b2871e53f85",
      "max": 800,
      "min": 0,
      "orientation": "horizontal",
      "style": "IPY_MODEL_736f18d75d814dd3a0c3ab03d7748920",
      "value": 800
     }
    },
    "7dbf60df0acb4292836dd9a11d961f8c": {
     "model_module": "@jupyter-widgets/controls",
     "model_module_version": "1.5.0",
     "model_name": "DescriptionStyleModel",
     "state": {
      "_model_module": "@jupyter-widgets/controls",
      "_model_module_version": "1.5.0",
      "_model_name": "DescriptionStyleModel",
      "_view_count": null,
      "_view_module": "@jupyter-widgets/base",
      "_view_module_version": "1.2.0",
      "_view_name": "StyleView",
      "description_width": ""
     }
    },
    "7fb49d6292bb4f2d937cc1f24170cb4e": {
     "model_module": "@jupyter-widgets/controls",
     "model_module_version": "1.5.0",
     "model_name": "ProgressStyleModel",
     "state": {
      "_model_module": "@jupyter-widgets/controls",
      "_model_module_version": "1.5.0",
      "_model_name": "ProgressStyleModel",
      "_view_count": null,
      "_view_module": "@jupyter-widgets/base",
      "_view_module_version": "1.2.0",
      "_view_name": "StyleView",
      "bar_color": null,
      "description_width": ""
     }
    },
    "8349d2f2a65f40ac9132bf05b0125d49": {
     "model_module": "@jupyter-widgets/controls",
     "model_module_version": "1.5.0",
     "model_name": "DescriptionStyleModel",
     "state": {
      "_model_module": "@jupyter-widgets/controls",
      "_model_module_version": "1.5.0",
      "_model_name": "DescriptionStyleModel",
      "_view_count": null,
      "_view_module": "@jupyter-widgets/base",
      "_view_module_version": "1.2.0",
      "_view_name": "StyleView",
      "description_width": ""
     }
    },
    "8499e6d51d924309ae24dd1e0dd8b4f4": {
     "model_module": "@jupyter-widgets/controls",
     "model_module_version": "1.5.0",
     "model_name": "ProgressStyleModel",
     "state": {
      "_model_module": "@jupyter-widgets/controls",
      "_model_module_version": "1.5.0",
      "_model_name": "ProgressStyleModel",
      "_view_count": null,
      "_view_module": "@jupyter-widgets/base",
      "_view_module_version": "1.2.0",
      "_view_name": "StyleView",
      "bar_color": null,
      "description_width": ""
     }
    },
    "85d7b589ebba44d69c59021897e88bcc": {
     "model_module": "@jupyter-widgets/base",
     "model_module_version": "1.2.0",
     "model_name": "LayoutModel",
     "state": {
      "_model_module": "@jupyter-widgets/base",
      "_model_module_version": "1.2.0",
      "_model_name": "LayoutModel",
      "_view_count": null,
      "_view_module": "@jupyter-widgets/base",
      "_view_module_version": "1.2.0",
      "_view_name": "LayoutView",
      "align_content": null,
      "align_items": null,
      "align_self": null,
      "border": null,
      "bottom": null,
      "display": null,
      "flex": null,
      "flex_flow": null,
      "grid_area": null,
      "grid_auto_columns": null,
      "grid_auto_flow": null,
      "grid_auto_rows": null,
      "grid_column": null,
      "grid_gap": null,
      "grid_row": null,
      "grid_template_areas": null,
      "grid_template_columns": null,
      "grid_template_rows": null,
      "height": null,
      "justify_content": null,
      "justify_items": null,
      "left": null,
      "margin": null,
      "max_height": null,
      "max_width": null,
      "min_height": null,
      "min_width": null,
      "object_fit": null,
      "object_position": null,
      "order": null,
      "overflow": null,
      "overflow_x": null,
      "overflow_y": null,
      "padding": null,
      "right": null,
      "top": null,
      "visibility": null,
      "width": null
     }
    },
    "894c7a44b16c42afb26237b5ebedfa78": {
     "model_module": "@jupyter-widgets/base",
     "model_module_version": "1.2.0",
     "model_name": "LayoutModel",
     "state": {
      "_model_module": "@jupyter-widgets/base",
      "_model_module_version": "1.2.0",
      "_model_name": "LayoutModel",
      "_view_count": null,
      "_view_module": "@jupyter-widgets/base",
      "_view_module_version": "1.2.0",
      "_view_name": "LayoutView",
      "align_content": null,
      "align_items": null,
      "align_self": null,
      "border": null,
      "bottom": null,
      "display": null,
      "flex": null,
      "flex_flow": null,
      "grid_area": null,
      "grid_auto_columns": null,
      "grid_auto_flow": null,
      "grid_auto_rows": null,
      "grid_column": null,
      "grid_gap": null,
      "grid_row": null,
      "grid_template_areas": null,
      "grid_template_columns": null,
      "grid_template_rows": null,
      "height": null,
      "justify_content": null,
      "justify_items": null,
      "left": null,
      "margin": null,
      "max_height": null,
      "max_width": null,
      "min_height": null,
      "min_width": null,
      "object_fit": null,
      "object_position": null,
      "order": null,
      "overflow": null,
      "overflow_x": null,
      "overflow_y": null,
      "padding": null,
      "right": null,
      "top": null,
      "visibility": null,
      "width": null
     }
    },
    "8c9fdab4eee74ddb946b64af56a5aafb": {
     "model_module": "@jupyter-widgets/controls",
     "model_module_version": "1.5.0",
     "model_name": "HTMLModel",
     "state": {
      "_dom_classes": [],
      "_model_module": "@jupyter-widgets/controls",
      "_model_module_version": "1.5.0",
      "_model_name": "HTMLModel",
      "_view_count": null,
      "_view_module": "@jupyter-widgets/controls",
      "_view_module_version": "1.5.0",
      "_view_name": "HTMLView",
      "description": "",
      "description_tooltip": null,
      "layout": "IPY_MODEL_38391aadfa974bd2b6d7e0cce288e88c",
      "placeholder": "​",
      "style": "IPY_MODEL_64f42233cdde442193908bb5fdd39a06",
      "value": " 1.46G/1.46G [00:08&lt;00:00, 193MB/s]"
     }
    },
    "8e6fdb9befdd48e28cc11d1016e00bc4": {
     "model_module": "@jupyter-widgets/base",
     "model_module_version": "1.2.0",
     "model_name": "LayoutModel",
     "state": {
      "_model_module": "@jupyter-widgets/base",
      "_model_module_version": "1.2.0",
      "_model_name": "LayoutModel",
      "_view_count": null,
      "_view_module": "@jupyter-widgets/base",
      "_view_module_version": "1.2.0",
      "_view_name": "LayoutView",
      "align_content": null,
      "align_items": null,
      "align_self": null,
      "border": null,
      "bottom": null,
      "display": null,
      "flex": null,
      "flex_flow": null,
      "grid_area": null,
      "grid_auto_columns": null,
      "grid_auto_flow": null,
      "grid_auto_rows": null,
      "grid_column": null,
      "grid_gap": null,
      "grid_row": null,
      "grid_template_areas": null,
      "grid_template_columns": null,
      "grid_template_rows": null,
      "height": null,
      "justify_content": null,
      "justify_items": null,
      "left": null,
      "margin": null,
      "max_height": null,
      "max_width": null,
      "min_height": null,
      "min_width": null,
      "object_fit": null,
      "object_position": null,
      "order": null,
      "overflow": null,
      "overflow_x": null,
      "overflow_y": null,
      "padding": null,
      "right": null,
      "top": null,
      "visibility": null,
      "width": null
     }
    },
    "90d45c10dbd94c7c9d3e57e652084813": {
     "model_module": "@jupyter-widgets/controls",
     "model_module_version": "1.5.0",
     "model_name": "HTMLModel",
     "state": {
      "_dom_classes": [],
      "_model_module": "@jupyter-widgets/controls",
      "_model_module_version": "1.5.0",
      "_model_name": "HTMLModel",
      "_view_count": null,
      "_view_module": "@jupyter-widgets/controls",
      "_view_module_version": "1.5.0",
      "_view_name": "HTMLView",
      "description": "",
      "description_tooltip": null,
      "layout": "IPY_MODEL_08de0ac1dae84f249d7a8bce5bd1d185",
      "placeholder": "​",
      "style": "IPY_MODEL_ec9251b90a74409e935267b52ec2b055",
      "value": "model-00001-of-00002.safetensors: 100%"
     }
    },
    "92c9254f007749149d32cb40528b1a7f": {
     "model_module": "@jupyter-widgets/controls",
     "model_module_version": "1.5.0",
     "model_name": "DescriptionStyleModel",
     "state": {
      "_model_module": "@jupyter-widgets/controls",
      "_model_module_version": "1.5.0",
      "_model_name": "DescriptionStyleModel",
      "_view_count": null,
      "_view_module": "@jupyter-widgets/base",
      "_view_module_version": "1.2.0",
      "_view_name": "StyleView",
      "description_width": ""
     }
    },
    "92d19c1e9c754a199eb3d41a1c684d88": {
     "model_module": "@jupyter-widgets/controls",
     "model_module_version": "1.5.0",
     "model_name": "HBoxModel",
     "state": {
      "_dom_classes": [],
      "_model_module": "@jupyter-widgets/controls",
      "_model_module_version": "1.5.0",
      "_model_name": "HBoxModel",
      "_view_count": null,
      "_view_module": "@jupyter-widgets/controls",
      "_view_module_version": "1.5.0",
      "_view_name": "HBoxView",
      "box_style": "",
      "children": [
       "IPY_MODEL_c147687b210c437c80c671a84c004dcb",
       "IPY_MODEL_0540fd75aa5b443aa52c61808b6cf2a0",
       "IPY_MODEL_8c9fdab4eee74ddb946b64af56a5aafb"
      ],
      "layout": "IPY_MODEL_6836420355614d6681464f09f59804d1"
     }
    },
    "994eee6be94a47f9b882324a263980ef": {
     "model_module": "@jupyter-widgets/controls",
     "model_module_version": "1.5.0",
     "model_name": "HTMLModel",
     "state": {
      "_dom_classes": [],
      "_model_module": "@jupyter-widgets/controls",
      "_model_module_version": "1.5.0",
      "_model_name": "HTMLModel",
      "_view_count": null,
      "_view_module": "@jupyter-widgets/controls",
      "_view_module_version": "1.5.0",
      "_view_name": "HTMLView",
      "description": "",
      "description_tooltip": null,
      "layout": "IPY_MODEL_25cec9c446614fefb8f756f1d1c19384",
      "placeholder": "​",
      "style": "IPY_MODEL_99a1ae9cc5614cf188b38be4aa3c843b",
      "value": " 2/2 [00:28&lt;00:00, 13.32s/it]"
     }
    },
    "996377b48cd94cfd90f3411156c8b7fe": {
     "model_module": "@jupyter-widgets/controls",
     "model_module_version": "1.5.0",
     "model_name": "DescriptionStyleModel",
     "state": {
      "_model_module": "@jupyter-widgets/controls",
      "_model_module_version": "1.5.0",
      "_model_name": "DescriptionStyleModel",
      "_view_count": null,
      "_view_module": "@jupyter-widgets/base",
      "_view_module_version": "1.2.0",
      "_view_name": "StyleView",
      "description_width": ""
     }
    },
    "99a1ae9cc5614cf188b38be4aa3c843b": {
     "model_module": "@jupyter-widgets/controls",
     "model_module_version": "1.5.0",
     "model_name": "DescriptionStyleModel",
     "state": {
      "_model_module": "@jupyter-widgets/controls",
      "_model_module_version": "1.5.0",
      "_model_name": "DescriptionStyleModel",
      "_view_count": null,
      "_view_module": "@jupyter-widgets/base",
      "_view_module_version": "1.2.0",
      "_view_name": "StyleView",
      "description_width": ""
     }
    },
    "9b26df4e6d174087867bbf3b377b02ca": {
     "model_module": "@jupyter-widgets/base",
     "model_module_version": "1.2.0",
     "model_name": "LayoutModel",
     "state": {
      "_model_module": "@jupyter-widgets/base",
      "_model_module_version": "1.2.0",
      "_model_name": "LayoutModel",
      "_view_count": null,
      "_view_module": "@jupyter-widgets/base",
      "_view_module_version": "1.2.0",
      "_view_name": "LayoutView",
      "align_content": null,
      "align_items": null,
      "align_self": null,
      "border": null,
      "bottom": null,
      "display": null,
      "flex": null,
      "flex_flow": null,
      "grid_area": null,
      "grid_auto_columns": null,
      "grid_auto_flow": null,
      "grid_auto_rows": null,
      "grid_column": null,
      "grid_gap": null,
      "grid_row": null,
      "grid_template_areas": null,
      "grid_template_columns": null,
      "grid_template_rows": null,
      "height": null,
      "justify_content": null,
      "justify_items": null,
      "left": null,
      "margin": null,
      "max_height": null,
      "max_width": null,
      "min_height": null,
      "min_width": null,
      "object_fit": null,
      "object_position": null,
      "order": null,
      "overflow": null,
      "overflow_x": null,
      "overflow_y": null,
      "padding": null,
      "right": null,
      "top": null,
      "visibility": null,
      "width": null
     }
    },
    "9b7c7ed4a56846fdb12d64071ea10220": {
     "model_module": "@jupyter-widgets/base",
     "model_module_version": "1.2.0",
     "model_name": "LayoutModel",
     "state": {
      "_model_module": "@jupyter-widgets/base",
      "_model_module_version": "1.2.0",
      "_model_name": "LayoutModel",
      "_view_count": null,
      "_view_module": "@jupyter-widgets/base",
      "_view_module_version": "1.2.0",
      "_view_name": "LayoutView",
      "align_content": null,
      "align_items": null,
      "align_self": null,
      "border": null,
      "bottom": null,
      "display": null,
      "flex": null,
      "flex_flow": null,
      "grid_area": null,
      "grid_auto_columns": null,
      "grid_auto_flow": null,
      "grid_auto_rows": null,
      "grid_column": null,
      "grid_gap": null,
      "grid_row": null,
      "grid_template_areas": null,
      "grid_template_columns": null,
      "grid_template_rows": null,
      "height": null,
      "justify_content": null,
      "justify_items": null,
      "left": null,
      "margin": null,
      "max_height": null,
      "max_width": null,
      "min_height": null,
      "min_width": null,
      "object_fit": null,
      "object_position": null,
      "order": null,
      "overflow": null,
      "overflow_x": null,
      "overflow_y": null,
      "padding": null,
      "right": null,
      "top": null,
      "visibility": null,
      "width": null
     }
    },
    "9cf9c7f8216c476682bb889d05804d3c": {
     "model_module": "@jupyter-widgets/base",
     "model_module_version": "1.2.0",
     "model_name": "LayoutModel",
     "state": {
      "_model_module": "@jupyter-widgets/base",
      "_model_module_version": "1.2.0",
      "_model_name": "LayoutModel",
      "_view_count": null,
      "_view_module": "@jupyter-widgets/base",
      "_view_module_version": "1.2.0",
      "_view_name": "LayoutView",
      "align_content": null,
      "align_items": null,
      "align_self": null,
      "border": null,
      "bottom": null,
      "display": null,
      "flex": null,
      "flex_flow": null,
      "grid_area": null,
      "grid_auto_columns": null,
      "grid_auto_flow": null,
      "grid_auto_rows": null,
      "grid_column": null,
      "grid_gap": null,
      "grid_row": null,
      "grid_template_areas": null,
      "grid_template_columns": null,
      "grid_template_rows": null,
      "height": null,
      "justify_content": null,
      "justify_items": null,
      "left": null,
      "margin": null,
      "max_height": null,
      "max_width": null,
      "min_height": null,
      "min_width": null,
      "object_fit": null,
      "object_position": null,
      "order": null,
      "overflow": null,
      "overflow_x": null,
      "overflow_y": null,
      "padding": null,
      "right": null,
      "top": null,
      "visibility": null,
      "width": null
     }
    },
    "9dbe62671fd04d0bac213798e76dfa3c": {
     "model_module": "@jupyter-widgets/base",
     "model_module_version": "1.2.0",
     "model_name": "LayoutModel",
     "state": {
      "_model_module": "@jupyter-widgets/base",
      "_model_module_version": "1.2.0",
      "_model_name": "LayoutModel",
      "_view_count": null,
      "_view_module": "@jupyter-widgets/base",
      "_view_module_version": "1.2.0",
      "_view_name": "LayoutView",
      "align_content": null,
      "align_items": null,
      "align_self": null,
      "border": null,
      "bottom": null,
      "display": null,
      "flex": null,
      "flex_flow": null,
      "grid_area": null,
      "grid_auto_columns": null,
      "grid_auto_flow": null,
      "grid_auto_rows": null,
      "grid_column": null,
      "grid_gap": null,
      "grid_row": null,
      "grid_template_areas": null,
      "grid_template_columns": null,
      "grid_template_rows": null,
      "height": null,
      "justify_content": null,
      "justify_items": null,
      "left": null,
      "margin": null,
      "max_height": null,
      "max_width": null,
      "min_height": null,
      "min_width": null,
      "object_fit": null,
      "object_position": null,
      "order": null,
      "overflow": null,
      "overflow_x": null,
      "overflow_y": null,
      "padding": null,
      "right": null,
      "top": null,
      "visibility": null,
      "width": null
     }
    },
    "9e020b968b414837aced846baa82777a": {
     "model_module": "@jupyter-widgets/base",
     "model_module_version": "1.2.0",
     "model_name": "LayoutModel",
     "state": {
      "_model_module": "@jupyter-widgets/base",
      "_model_module_version": "1.2.0",
      "_model_name": "LayoutModel",
      "_view_count": null,
      "_view_module": "@jupyter-widgets/base",
      "_view_module_version": "1.2.0",
      "_view_name": "LayoutView",
      "align_content": null,
      "align_items": null,
      "align_self": null,
      "border": null,
      "bottom": null,
      "display": null,
      "flex": null,
      "flex_flow": null,
      "grid_area": null,
      "grid_auto_columns": null,
      "grid_auto_flow": null,
      "grid_auto_rows": null,
      "grid_column": null,
      "grid_gap": null,
      "grid_row": null,
      "grid_template_areas": null,
      "grid_template_columns": null,
      "grid_template_rows": null,
      "height": null,
      "justify_content": null,
      "justify_items": null,
      "left": null,
      "margin": null,
      "max_height": null,
      "max_width": null,
      "min_height": null,
      "min_width": null,
      "object_fit": null,
      "object_position": null,
      "order": null,
      "overflow": null,
      "overflow_x": null,
      "overflow_y": null,
      "padding": null,
      "right": null,
      "top": null,
      "visibility": null,
      "width": null
     }
    },
    "9e88333f9f3249a9bfdac7a2e941b763": {
     "model_module": "@jupyter-widgets/controls",
     "model_module_version": "1.5.0",
     "model_name": "HTMLModel",
     "state": {
      "_dom_classes": [],
      "_model_module": "@jupyter-widgets/controls",
      "_model_module_version": "1.5.0",
      "_model_name": "HTMLModel",
      "_view_count": null,
      "_view_module": "@jupyter-widgets/controls",
      "_view_module_version": "1.5.0",
      "_view_name": "HTMLView",
      "description": "",
      "description_tooltip": null,
      "layout": "IPY_MODEL_53df3d894c684f019fd37fc935813dcd",
      "placeholder": "​",
      "style": "IPY_MODEL_8349d2f2a65f40ac9132bf05b0125d49",
      "value": "Map: 100%"
     }
    },
    "a1d7d4bc41664ed09464345bd7b694f7": {
     "model_module": "@jupyter-widgets/base",
     "model_module_version": "1.2.0",
     "model_name": "LayoutModel",
     "state": {
      "_model_module": "@jupyter-widgets/base",
      "_model_module_version": "1.2.0",
      "_model_name": "LayoutModel",
      "_view_count": null,
      "_view_module": "@jupyter-widgets/base",
      "_view_module_version": "1.2.0",
      "_view_name": "LayoutView",
      "align_content": null,
      "align_items": null,
      "align_self": null,
      "border": null,
      "bottom": null,
      "display": null,
      "flex": null,
      "flex_flow": null,
      "grid_area": null,
      "grid_auto_columns": null,
      "grid_auto_flow": null,
      "grid_auto_rows": null,
      "grid_column": null,
      "grid_gap": null,
      "grid_row": null,
      "grid_template_areas": null,
      "grid_template_columns": null,
      "grid_template_rows": null,
      "height": null,
      "justify_content": null,
      "justify_items": null,
      "left": null,
      "margin": null,
      "max_height": null,
      "max_width": null,
      "min_height": null,
      "min_width": null,
      "object_fit": null,
      "object_position": null,
      "order": null,
      "overflow": null,
      "overflow_x": null,
      "overflow_y": null,
      "padding": null,
      "right": null,
      "top": null,
      "visibility": null,
      "width": null
     }
    },
    "a5338bce1efb43a8ae3bcd2b970433d0": {
     "model_module": "@jupyter-widgets/controls",
     "model_module_version": "1.5.0",
     "model_name": "HTMLModel",
     "state": {
      "_dom_classes": [],
      "_model_module": "@jupyter-widgets/controls",
      "_model_module_version": "1.5.0",
      "_model_name": "HTMLModel",
      "_view_count": null,
      "_view_module": "@jupyter-widgets/controls",
      "_view_module_version": "1.5.0",
      "_view_name": "HTMLView",
      "description": "",
      "description_tooltip": null,
      "layout": "IPY_MODEL_c2bda1b97af5427cb087a2fdc3f3f2b9",
      "placeholder": "​",
      "style": "IPY_MODEL_92c9254f007749149d32cb40528b1a7f",
      "value": " 200/200 [1:21:56&lt;00:00, 27.28s/ examples]"
     }
    },
    "ab1e50fee24e4ea6bb00d7897f9fcc26": {
     "model_module": "@jupyter-widgets/controls",
     "model_module_version": "1.5.0",
     "model_name": "HBoxModel",
     "state": {
      "_dom_classes": [],
      "_model_module": "@jupyter-widgets/controls",
      "_model_module_version": "1.5.0",
      "_model_name": "HBoxModel",
      "_view_count": null,
      "_view_module": "@jupyter-widgets/controls",
      "_view_module_version": "1.5.0",
      "_view_name": "HBoxView",
      "box_style": "",
      "children": [
       "IPY_MODEL_7c3cee8fc9264addaa5ba6492ceeef9b",
       "IPY_MODEL_6b84e7a63eca4f8ab0f93efebc15be25",
       "IPY_MODEL_bdf0875d7394430d8c91e78bccd369f2"
      ],
      "layout": "IPY_MODEL_76c8701d7da542aeac6c583307898e58"
     }
    },
    "ab32d343a3bf479d8bedb49d2a3530ea": {
     "model_module": "@jupyter-widgets/controls",
     "model_module_version": "1.5.0",
     "model_name": "DescriptionStyleModel",
     "state": {
      "_model_module": "@jupyter-widgets/controls",
      "_model_module_version": "1.5.0",
      "_model_name": "DescriptionStyleModel",
      "_view_count": null,
      "_view_module": "@jupyter-widgets/base",
      "_view_module_version": "1.2.0",
      "_view_name": "StyleView",
      "description_width": ""
     }
    },
    "acef9894f54a46c0b384ca65d5095cea": {
     "model_module": "@jupyter-widgets/controls",
     "model_module_version": "1.5.0",
     "model_name": "DescriptionStyleModel",
     "state": {
      "_model_module": "@jupyter-widgets/controls",
      "_model_module_version": "1.5.0",
      "_model_name": "DescriptionStyleModel",
      "_view_count": null,
      "_view_module": "@jupyter-widgets/base",
      "_view_module_version": "1.2.0",
      "_view_name": "StyleView",
      "description_width": ""
     }
    },
    "ae4bb0523aaf44f4923e160efa925855": {
     "model_module": "@jupyter-widgets/base",
     "model_module_version": "1.2.0",
     "model_name": "LayoutModel",
     "state": {
      "_model_module": "@jupyter-widgets/base",
      "_model_module_version": "1.2.0",
      "_model_name": "LayoutModel",
      "_view_count": null,
      "_view_module": "@jupyter-widgets/base",
      "_view_module_version": "1.2.0",
      "_view_name": "LayoutView",
      "align_content": null,
      "align_items": null,
      "align_self": null,
      "border": null,
      "bottom": null,
      "display": null,
      "flex": null,
      "flex_flow": null,
      "grid_area": null,
      "grid_auto_columns": null,
      "grid_auto_flow": null,
      "grid_auto_rows": null,
      "grid_column": null,
      "grid_gap": null,
      "grid_row": null,
      "grid_template_areas": null,
      "grid_template_columns": null,
      "grid_template_rows": null,
      "height": null,
      "justify_content": null,
      "justify_items": null,
      "left": null,
      "margin": null,
      "max_height": null,
      "max_width": null,
      "min_height": null,
      "min_width": null,
      "object_fit": null,
      "object_position": null,
      "order": null,
      "overflow": null,
      "overflow_x": null,
      "overflow_y": null,
      "padding": null,
      "right": null,
      "top": null,
      "visibility": null,
      "width": null
     }
    },
    "af4be4846cff4eff9aa5efc1857bc79c": {
     "model_module": "@jupyter-widgets/base",
     "model_module_version": "1.2.0",
     "model_name": "LayoutModel",
     "state": {
      "_model_module": "@jupyter-widgets/base",
      "_model_module_version": "1.2.0",
      "_model_name": "LayoutModel",
      "_view_count": null,
      "_view_module": "@jupyter-widgets/base",
      "_view_module_version": "1.2.0",
      "_view_name": "LayoutView",
      "align_content": null,
      "align_items": null,
      "align_self": null,
      "border": null,
      "bottom": null,
      "display": null,
      "flex": null,
      "flex_flow": null,
      "grid_area": null,
      "grid_auto_columns": null,
      "grid_auto_flow": null,
      "grid_auto_rows": null,
      "grid_column": null,
      "grid_gap": null,
      "grid_row": null,
      "grid_template_areas": null,
      "grid_template_columns": null,
      "grid_template_rows": null,
      "height": null,
      "justify_content": null,
      "justify_items": null,
      "left": null,
      "margin": null,
      "max_height": null,
      "max_width": null,
      "min_height": null,
      "min_width": null,
      "object_fit": null,
      "object_position": null,
      "order": null,
      "overflow": null,
      "overflow_x": null,
      "overflow_y": null,
      "padding": null,
      "right": null,
      "top": null,
      "visibility": null,
      "width": null
     }
    },
    "b04f01797dff4689a39920b02235200e": {
     "model_module": "@jupyter-widgets/base",
     "model_module_version": "1.2.0",
     "model_name": "LayoutModel",
     "state": {
      "_model_module": "@jupyter-widgets/base",
      "_model_module_version": "1.2.0",
      "_model_name": "LayoutModel",
      "_view_count": null,
      "_view_module": "@jupyter-widgets/base",
      "_view_module_version": "1.2.0",
      "_view_name": "LayoutView",
      "align_content": null,
      "align_items": null,
      "align_self": null,
      "border": null,
      "bottom": null,
      "display": null,
      "flex": null,
      "flex_flow": null,
      "grid_area": null,
      "grid_auto_columns": null,
      "grid_auto_flow": null,
      "grid_auto_rows": null,
      "grid_column": null,
      "grid_gap": null,
      "grid_row": null,
      "grid_template_areas": null,
      "grid_template_columns": null,
      "grid_template_rows": null,
      "height": null,
      "justify_content": null,
      "justify_items": null,
      "left": null,
      "margin": null,
      "max_height": null,
      "max_width": null,
      "min_height": null,
      "min_width": null,
      "object_fit": null,
      "object_position": null,
      "order": null,
      "overflow": null,
      "overflow_x": null,
      "overflow_y": null,
      "padding": null,
      "right": null,
      "top": null,
      "visibility": null,
      "width": null
     }
    },
    "b08d5c3058284ba4a2b1d38519a3c55b": {
     "model_module": "@jupyter-widgets/controls",
     "model_module_version": "1.5.0",
     "model_name": "ProgressStyleModel",
     "state": {
      "_model_module": "@jupyter-widgets/controls",
      "_model_module_version": "1.5.0",
      "_model_name": "ProgressStyleModel",
      "_view_count": null,
      "_view_module": "@jupyter-widgets/base",
      "_view_module_version": "1.2.0",
      "_view_name": "StyleView",
      "bar_color": null,
      "description_width": ""
     }
    },
    "b30d02c54a464e5b82ebe2d3a1b01918": {
     "model_module": "@jupyter-widgets/controls",
     "model_module_version": "1.5.0",
     "model_name": "ProgressStyleModel",
     "state": {
      "_model_module": "@jupyter-widgets/controls",
      "_model_module_version": "1.5.0",
      "_model_name": "ProgressStyleModel",
      "_view_count": null,
      "_view_module": "@jupyter-widgets/base",
      "_view_module_version": "1.2.0",
      "_view_name": "StyleView",
      "bar_color": null,
      "description_width": ""
     }
    },
    "b8bd5ff6da91478a8141560b9c9eb558": {
     "model_module": "@jupyter-widgets/base",
     "model_module_version": "1.2.0",
     "model_name": "LayoutModel",
     "state": {
      "_model_module": "@jupyter-widgets/base",
      "_model_module_version": "1.2.0",
      "_model_name": "LayoutModel",
      "_view_count": null,
      "_view_module": "@jupyter-widgets/base",
      "_view_module_version": "1.2.0",
      "_view_name": "LayoutView",
      "align_content": null,
      "align_items": null,
      "align_self": null,
      "border": null,
      "bottom": null,
      "display": null,
      "flex": null,
      "flex_flow": null,
      "grid_area": null,
      "grid_auto_columns": null,
      "grid_auto_flow": null,
      "grid_auto_rows": null,
      "grid_column": null,
      "grid_gap": null,
      "grid_row": null,
      "grid_template_areas": null,
      "grid_template_columns": null,
      "grid_template_rows": null,
      "height": null,
      "justify_content": null,
      "justify_items": null,
      "left": null,
      "margin": null,
      "max_height": null,
      "max_width": null,
      "min_height": null,
      "min_width": null,
      "object_fit": null,
      "object_position": null,
      "order": null,
      "overflow": null,
      "overflow_x": null,
      "overflow_y": null,
      "padding": null,
      "right": null,
      "top": null,
      "visibility": null,
      "width": null
     }
    },
    "b9079e716385462e90a5c1dcf86fbb68": {
     "model_module": "@jupyter-widgets/controls",
     "model_module_version": "1.5.0",
     "model_name": "ProgressStyleModel",
     "state": {
      "_model_module": "@jupyter-widgets/controls",
      "_model_module_version": "1.5.0",
      "_model_name": "ProgressStyleModel",
      "_view_count": null,
      "_view_module": "@jupyter-widgets/base",
      "_view_module_version": "1.2.0",
      "_view_name": "StyleView",
      "bar_color": null,
      "description_width": ""
     }
    },
    "b91ab4dc2c10485bb2e6415e73181563": {
     "model_module": "@jupyter-widgets/base",
     "model_module_version": "1.2.0",
     "model_name": "LayoutModel",
     "state": {
      "_model_module": "@jupyter-widgets/base",
      "_model_module_version": "1.2.0",
      "_model_name": "LayoutModel",
      "_view_count": null,
      "_view_module": "@jupyter-widgets/base",
      "_view_module_version": "1.2.0",
      "_view_name": "LayoutView",
      "align_content": null,
      "align_items": null,
      "align_self": null,
      "border": null,
      "bottom": null,
      "display": null,
      "flex": null,
      "flex_flow": null,
      "grid_area": null,
      "grid_auto_columns": null,
      "grid_auto_flow": null,
      "grid_auto_rows": null,
      "grid_column": null,
      "grid_gap": null,
      "grid_row": null,
      "grid_template_areas": null,
      "grid_template_columns": null,
      "grid_template_rows": null,
      "height": null,
      "justify_content": null,
      "justify_items": null,
      "left": null,
      "margin": null,
      "max_height": null,
      "max_width": null,
      "min_height": null,
      "min_width": null,
      "object_fit": null,
      "object_position": null,
      "order": null,
      "overflow": null,
      "overflow_x": null,
      "overflow_y": null,
      "padding": null,
      "right": null,
      "top": null,
      "visibility": null,
      "width": null
     }
    },
    "bb57e34063cb49788edf3b2871e53f85": {
     "model_module": "@jupyter-widgets/base",
     "model_module_version": "1.2.0",
     "model_name": "LayoutModel",
     "state": {
      "_model_module": "@jupyter-widgets/base",
      "_model_module_version": "1.2.0",
      "_model_name": "LayoutModel",
      "_view_count": null,
      "_view_module": "@jupyter-widgets/base",
      "_view_module_version": "1.2.0",
      "_view_name": "LayoutView",
      "align_content": null,
      "align_items": null,
      "align_self": null,
      "border": null,
      "bottom": null,
      "display": null,
      "flex": null,
      "flex_flow": null,
      "grid_area": null,
      "grid_auto_columns": null,
      "grid_auto_flow": null,
      "grid_auto_rows": null,
      "grid_column": null,
      "grid_gap": null,
      "grid_row": null,
      "grid_template_areas": null,
      "grid_template_columns": null,
      "grid_template_rows": null,
      "height": null,
      "justify_content": null,
      "justify_items": null,
      "left": null,
      "margin": null,
      "max_height": null,
      "max_width": null,
      "min_height": null,
      "min_width": null,
      "object_fit": null,
      "object_position": null,
      "order": null,
      "overflow": null,
      "overflow_x": null,
      "overflow_y": null,
      "padding": null,
      "right": null,
      "top": null,
      "visibility": null,
      "width": null
     }
    },
    "bbffda4d22fb42f0985e75a9a7f6f854": {
     "model_module": "@jupyter-widgets/controls",
     "model_module_version": "1.5.0",
     "model_name": "DescriptionStyleModel",
     "state": {
      "_model_module": "@jupyter-widgets/controls",
      "_model_module_version": "1.5.0",
      "_model_name": "DescriptionStyleModel",
      "_view_count": null,
      "_view_module": "@jupyter-widgets/base",
      "_view_module_version": "1.2.0",
      "_view_name": "StyleView",
      "description_width": ""
     }
    },
    "bd93881409c54fd2a74f7ba06ab50b0e": {
     "model_module": "@jupyter-widgets/controls",
     "model_module_version": "1.5.0",
     "model_name": "ProgressStyleModel",
     "state": {
      "_model_module": "@jupyter-widgets/controls",
      "_model_module_version": "1.5.0",
      "_model_name": "ProgressStyleModel",
      "_view_count": null,
      "_view_module": "@jupyter-widgets/base",
      "_view_module_version": "1.2.0",
      "_view_name": "StyleView",
      "bar_color": null,
      "description_width": ""
     }
    },
    "bdf0875d7394430d8c91e78bccd369f2": {
     "model_module": "@jupyter-widgets/controls",
     "model_module_version": "1.5.0",
     "model_name": "HTMLModel",
     "state": {
      "_dom_classes": [],
      "_model_module": "@jupyter-widgets/controls",
      "_model_module_version": "1.5.0",
      "_model_name": "HTMLModel",
      "_view_count": null,
      "_view_module": "@jupyter-widgets/controls",
      "_view_module_version": "1.5.0",
      "_view_name": "HTMLView",
      "description": "",
      "description_tooltip": null,
      "layout": "IPY_MODEL_e058556c0f36431687e44be87b93e1d3",
      "placeholder": "​",
      "style": "IPY_MODEL_0075a675bc204580b20f6a3a63f1d4a3",
      "value": " 800/800 [00:02&lt;00:00, 303.83 examples/s]"
     }
    },
    "beb3067cfcb24f939b543c93f0b6c883": {
     "model_module": "@jupyter-widgets/base",
     "model_module_version": "1.2.0",
     "model_name": "LayoutModel",
     "state": {
      "_model_module": "@jupyter-widgets/base",
      "_model_module_version": "1.2.0",
      "_model_name": "LayoutModel",
      "_view_count": null,
      "_view_module": "@jupyter-widgets/base",
      "_view_module_version": "1.2.0",
      "_view_name": "LayoutView",
      "align_content": null,
      "align_items": null,
      "align_self": null,
      "border": null,
      "bottom": null,
      "display": null,
      "flex": null,
      "flex_flow": null,
      "grid_area": null,
      "grid_auto_columns": null,
      "grid_auto_flow": null,
      "grid_auto_rows": null,
      "grid_column": null,
      "grid_gap": null,
      "grid_row": null,
      "grid_template_areas": null,
      "grid_template_columns": null,
      "grid_template_rows": null,
      "height": null,
      "justify_content": null,
      "justify_items": null,
      "left": null,
      "margin": null,
      "max_height": null,
      "max_width": null,
      "min_height": null,
      "min_width": null,
      "object_fit": null,
      "object_position": null,
      "order": null,
      "overflow": null,
      "overflow_x": null,
      "overflow_y": null,
      "padding": null,
      "right": null,
      "top": null,
      "visibility": null,
      "width": null
     }
    },
    "c060180c9d4e4b56a93404896bd083ac": {
     "model_module": "@jupyter-widgets/controls",
     "model_module_version": "1.5.0",
     "model_name": "HTMLModel",
     "state": {
      "_dom_classes": [],
      "_model_module": "@jupyter-widgets/controls",
      "_model_module_version": "1.5.0",
      "_model_name": "HTMLModel",
      "_view_count": null,
      "_view_module": "@jupyter-widgets/controls",
      "_view_module_version": "1.5.0",
      "_view_name": "HTMLView",
      "description": "",
      "description_tooltip": null,
      "layout": "IPY_MODEL_0dfd212ed0154cc3be05d2ee310e1ed0",
      "placeholder": "​",
      "style": "IPY_MODEL_ab32d343a3bf479d8bedb49d2a3530ea",
      "value": "Map: 100%"
     }
    },
    "c147687b210c437c80c671a84c004dcb": {
     "model_module": "@jupyter-widgets/controls",
     "model_module_version": "1.5.0",
     "model_name": "HTMLModel",
     "state": {
      "_dom_classes": [],
      "_model_module": "@jupyter-widgets/controls",
      "_model_module_version": "1.5.0",
      "_model_name": "HTMLModel",
      "_view_count": null,
      "_view_module": "@jupyter-widgets/controls",
      "_view_module_version": "1.5.0",
      "_view_name": "HTMLView",
      "description": "",
      "description_tooltip": null,
      "layout": "IPY_MODEL_b04f01797dff4689a39920b02235200e",
      "placeholder": "​",
      "style": "IPY_MODEL_336408aec75446f281a73e6c52e5d182",
      "value": "model-00002-of-00002.safetensors: 100%"
     }
    },
    "c1a87ad7f30642f286bff047f528cfd5": {
     "model_module": "@jupyter-widgets/controls",
     "model_module_version": "1.5.0",
     "model_name": "DescriptionStyleModel",
     "state": {
      "_model_module": "@jupyter-widgets/controls",
      "_model_module_version": "1.5.0",
      "_model_name": "DescriptionStyleModel",
      "_view_count": null,
      "_view_module": "@jupyter-widgets/base",
      "_view_module_version": "1.2.0",
      "_view_name": "StyleView",
      "description_width": ""
     }
    },
    "c2bda1b97af5427cb087a2fdc3f3f2b9": {
     "model_module": "@jupyter-widgets/base",
     "model_module_version": "1.2.0",
     "model_name": "LayoutModel",
     "state": {
      "_model_module": "@jupyter-widgets/base",
      "_model_module_version": "1.2.0",
      "_model_name": "LayoutModel",
      "_view_count": null,
      "_view_module": "@jupyter-widgets/base",
      "_view_module_version": "1.2.0",
      "_view_name": "LayoutView",
      "align_content": null,
      "align_items": null,
      "align_self": null,
      "border": null,
      "bottom": null,
      "display": null,
      "flex": null,
      "flex_flow": null,
      "grid_area": null,
      "grid_auto_columns": null,
      "grid_auto_flow": null,
      "grid_auto_rows": null,
      "grid_column": null,
      "grid_gap": null,
      "grid_row": null,
      "grid_template_areas": null,
      "grid_template_columns": null,
      "grid_template_rows": null,
      "height": null,
      "justify_content": null,
      "justify_items": null,
      "left": null,
      "margin": null,
      "max_height": null,
      "max_width": null,
      "min_height": null,
      "min_width": null,
      "object_fit": null,
      "object_position": null,
      "order": null,
      "overflow": null,
      "overflow_x": null,
      "overflow_y": null,
      "padding": null,
      "right": null,
      "top": null,
      "visibility": null,
      "width": null
     }
    },
    "c454028b5cf14bd0bc4872a219207e94": {
     "model_module": "@jupyter-widgets/controls",
     "model_module_version": "1.5.0",
     "model_name": "HTMLModel",
     "state": {
      "_dom_classes": [],
      "_model_module": "@jupyter-widgets/controls",
      "_model_module_version": "1.5.0",
      "_model_name": "HTMLModel",
      "_view_count": null,
      "_view_module": "@jupyter-widgets/controls",
      "_view_module_version": "1.5.0",
      "_view_name": "HTMLView",
      "description": "",
      "description_tooltip": null,
      "layout": "IPY_MODEL_b91ab4dc2c10485bb2e6415e73181563",
      "placeholder": "​",
      "style": "IPY_MODEL_bbffda4d22fb42f0985e75a9a7f6f854",
      "value": "Saving the dataset (1/1 shards): 100%"
     }
    },
    "c4d1d9ccb41d40d9a7725c9b57d286ff": {
     "model_module": "@jupyter-widgets/base",
     "model_module_version": "1.2.0",
     "model_name": "LayoutModel",
     "state": {
      "_model_module": "@jupyter-widgets/base",
      "_model_module_version": "1.2.0",
      "_model_name": "LayoutModel",
      "_view_count": null,
      "_view_module": "@jupyter-widgets/base",
      "_view_module_version": "1.2.0",
      "_view_name": "LayoutView",
      "align_content": null,
      "align_items": null,
      "align_self": null,
      "border": null,
      "bottom": null,
      "display": null,
      "flex": null,
      "flex_flow": null,
      "grid_area": null,
      "grid_auto_columns": null,
      "grid_auto_flow": null,
      "grid_auto_rows": null,
      "grid_column": null,
      "grid_gap": null,
      "grid_row": null,
      "grid_template_areas": null,
      "grid_template_columns": null,
      "grid_template_rows": null,
      "height": null,
      "justify_content": null,
      "justify_items": null,
      "left": null,
      "margin": null,
      "max_height": null,
      "max_width": null,
      "min_height": null,
      "min_width": null,
      "object_fit": null,
      "object_position": null,
      "order": null,
      "overflow": null,
      "overflow_x": null,
      "overflow_y": null,
      "padding": null,
      "right": null,
      "top": null,
      "visibility": null,
      "width": null
     }
    },
    "c6118e87cbd441a2801f97fae90dbb47": {
     "model_module": "@jupyter-widgets/base",
     "model_module_version": "1.2.0",
     "model_name": "LayoutModel",
     "state": {
      "_model_module": "@jupyter-widgets/base",
      "_model_module_version": "1.2.0",
      "_model_name": "LayoutModel",
      "_view_count": null,
      "_view_module": "@jupyter-widgets/base",
      "_view_module_version": "1.2.0",
      "_view_name": "LayoutView",
      "align_content": null,
      "align_items": null,
      "align_self": null,
      "border": null,
      "bottom": null,
      "display": null,
      "flex": null,
      "flex_flow": null,
      "grid_area": null,
      "grid_auto_columns": null,
      "grid_auto_flow": null,
      "grid_auto_rows": null,
      "grid_column": null,
      "grid_gap": null,
      "grid_row": null,
      "grid_template_areas": null,
      "grid_template_columns": null,
      "grid_template_rows": null,
      "height": null,
      "justify_content": null,
      "justify_items": null,
      "left": null,
      "margin": null,
      "max_height": null,
      "max_width": null,
      "min_height": null,
      "min_width": null,
      "object_fit": null,
      "object_position": null,
      "order": null,
      "overflow": null,
      "overflow_x": null,
      "overflow_y": null,
      "padding": null,
      "right": null,
      "top": null,
      "visibility": null,
      "width": null
     }
    },
    "c7021e96a6fa4392b6c88f76253acf03": {
     "model_module": "@jupyter-widgets/controls",
     "model_module_version": "1.5.0",
     "model_name": "DescriptionStyleModel",
     "state": {
      "_model_module": "@jupyter-widgets/controls",
      "_model_module_version": "1.5.0",
      "_model_name": "DescriptionStyleModel",
      "_view_count": null,
      "_view_module": "@jupyter-widgets/base",
      "_view_module_version": "1.2.0",
      "_view_name": "StyleView",
      "description_width": ""
     }
    },
    "c7506dda6dba45229c5439a93308e69a": {
     "model_module": "@jupyter-widgets/controls",
     "model_module_version": "1.5.0",
     "model_name": "HBoxModel",
     "state": {
      "_dom_classes": [],
      "_model_module": "@jupyter-widgets/controls",
      "_model_module_version": "1.5.0",
      "_model_name": "HBoxModel",
      "_view_count": null,
      "_view_module": "@jupyter-widgets/controls",
      "_view_module_version": "1.5.0",
      "_view_name": "HBoxView",
      "box_style": "",
      "children": [
       "IPY_MODEL_c454028b5cf14bd0bc4872a219207e94",
       "IPY_MODEL_7128909b439d45abac969cab297b501f",
       "IPY_MODEL_1100bda6484d4e0bb8360eb45a92b4ee"
      ],
      "layout": "IPY_MODEL_554c563741b643d3acda936e8c9b24c7"
     }
    },
    "c80ce6a414884df0b13f66942469d85a": {
     "model_module": "@jupyter-widgets/base",
     "model_module_version": "1.2.0",
     "model_name": "LayoutModel",
     "state": {
      "_model_module": "@jupyter-widgets/base",
      "_model_module_version": "1.2.0",
      "_model_name": "LayoutModel",
      "_view_count": null,
      "_view_module": "@jupyter-widgets/base",
      "_view_module_version": "1.2.0",
      "_view_name": "LayoutView",
      "align_content": null,
      "align_items": null,
      "align_self": null,
      "border": null,
      "bottom": null,
      "display": null,
      "flex": null,
      "flex_flow": null,
      "grid_area": null,
      "grid_auto_columns": null,
      "grid_auto_flow": null,
      "grid_auto_rows": null,
      "grid_column": null,
      "grid_gap": null,
      "grid_row": null,
      "grid_template_areas": null,
      "grid_template_columns": null,
      "grid_template_rows": null,
      "height": null,
      "justify_content": null,
      "justify_items": null,
      "left": null,
      "margin": null,
      "max_height": null,
      "max_width": null,
      "min_height": null,
      "min_width": null,
      "object_fit": null,
      "object_position": null,
      "order": null,
      "overflow": null,
      "overflow_x": null,
      "overflow_y": null,
      "padding": null,
      "right": null,
      "top": null,
      "visibility": null,
      "width": null
     }
    },
    "c8f918c4e1534f6c8a4d234248e4f254": {
     "model_module": "@jupyter-widgets/base",
     "model_module_version": "1.2.0",
     "model_name": "LayoutModel",
     "state": {
      "_model_module": "@jupyter-widgets/base",
      "_model_module_version": "1.2.0",
      "_model_name": "LayoutModel",
      "_view_count": null,
      "_view_module": "@jupyter-widgets/base",
      "_view_module_version": "1.2.0",
      "_view_name": "LayoutView",
      "align_content": null,
      "align_items": null,
      "align_self": null,
      "border": null,
      "bottom": null,
      "display": null,
      "flex": null,
      "flex_flow": null,
      "grid_area": null,
      "grid_auto_columns": null,
      "grid_auto_flow": null,
      "grid_auto_rows": null,
      "grid_column": null,
      "grid_gap": null,
      "grid_row": null,
      "grid_template_areas": null,
      "grid_template_columns": null,
      "grid_template_rows": null,
      "height": null,
      "justify_content": null,
      "justify_items": null,
      "left": null,
      "margin": null,
      "max_height": null,
      "max_width": null,
      "min_height": null,
      "min_width": null,
      "object_fit": null,
      "object_position": null,
      "order": null,
      "overflow": null,
      "overflow_x": null,
      "overflow_y": null,
      "padding": null,
      "right": null,
      "top": null,
      "visibility": null,
      "width": null
     }
    },
    "caace855f80b463ba34925beca8eb438": {
     "model_module": "@jupyter-widgets/controls",
     "model_module_version": "1.5.0",
     "model_name": "DescriptionStyleModel",
     "state": {
      "_model_module": "@jupyter-widgets/controls",
      "_model_module_version": "1.5.0",
      "_model_name": "DescriptionStyleModel",
      "_view_count": null,
      "_view_module": "@jupyter-widgets/base",
      "_view_module_version": "1.2.0",
      "_view_name": "StyleView",
      "description_width": ""
     }
    },
    "cb2eae2d85e24cb3851361b503341ba2": {
     "model_module": "@jupyter-widgets/controls",
     "model_module_version": "1.5.0",
     "model_name": "HBoxModel",
     "state": {
      "_dom_classes": [],
      "_model_module": "@jupyter-widgets/controls",
      "_model_module_version": "1.5.0",
      "_model_name": "HBoxModel",
      "_view_count": null,
      "_view_module": "@jupyter-widgets/controls",
      "_view_module_version": "1.5.0",
      "_view_name": "HBoxView",
      "box_style": "",
      "children": [
       "IPY_MODEL_4aa8d02b8a084518a89f4101f2681b2f",
       "IPY_MODEL_d756c7ff408d4c53b09006c1d679ad54",
       "IPY_MODEL_7084b95bd64d4ece93c641d155de06b5"
      ],
      "layout": "IPY_MODEL_9b26df4e6d174087867bbf3b377b02ca"
     }
    },
    "cb6caaacf136470dbd9648a5fbf40410": {
     "model_module": "@jupyter-widgets/controls",
     "model_module_version": "1.5.0",
     "model_name": "HTMLModel",
     "state": {
      "_dom_classes": [],
      "_model_module": "@jupyter-widgets/controls",
      "_model_module_version": "1.5.0",
      "_model_name": "HTMLModel",
      "_view_count": null,
      "_view_module": "@jupyter-widgets/controls",
      "_view_module_version": "1.5.0",
      "_view_name": "HTMLView",
      "description": "",
      "description_tooltip": null,
      "layout": "IPY_MODEL_a1d7d4bc41664ed09464345bd7b694f7",
      "placeholder": "​",
      "style": "IPY_MODEL_5e85a4dc51a6459f822be96b0c2c1eb7",
      "value": "Map: 100%"
     }
    },
    "cff57e804d8e4a3bbe7d598d7550d885": {
     "model_module": "@jupyter-widgets/controls",
     "model_module_version": "1.5.0",
     "model_name": "DescriptionStyleModel",
     "state": {
      "_model_module": "@jupyter-widgets/controls",
      "_model_module_version": "1.5.0",
      "_model_name": "DescriptionStyleModel",
      "_view_count": null,
      "_view_module": "@jupyter-widgets/base",
      "_view_module_version": "1.2.0",
      "_view_name": "StyleView",
      "description_width": ""
     }
    },
    "d0518640a79e4b35ad69d5d9b36dff51": {
     "model_module": "@jupyter-widgets/base",
     "model_module_version": "1.2.0",
     "model_name": "LayoutModel",
     "state": {
      "_model_module": "@jupyter-widgets/base",
      "_model_module_version": "1.2.0",
      "_model_name": "LayoutModel",
      "_view_count": null,
      "_view_module": "@jupyter-widgets/base",
      "_view_module_version": "1.2.0",
      "_view_name": "LayoutView",
      "align_content": null,
      "align_items": null,
      "align_self": null,
      "border": null,
      "bottom": null,
      "display": null,
      "flex": null,
      "flex_flow": null,
      "grid_area": null,
      "grid_auto_columns": null,
      "grid_auto_flow": null,
      "grid_auto_rows": null,
      "grid_column": null,
      "grid_gap": null,
      "grid_row": null,
      "grid_template_areas": null,
      "grid_template_columns": null,
      "grid_template_rows": null,
      "height": null,
      "justify_content": null,
      "justify_items": null,
      "left": null,
      "margin": null,
      "max_height": null,
      "max_width": null,
      "min_height": null,
      "min_width": null,
      "object_fit": null,
      "object_position": null,
      "order": null,
      "overflow": null,
      "overflow_x": null,
      "overflow_y": null,
      "padding": null,
      "right": null,
      "top": null,
      "visibility": null,
      "width": null
     }
    },
    "d07d571b52154894b8134c89830d8c8c": {
     "model_module": "@jupyter-widgets/base",
     "model_module_version": "1.2.0",
     "model_name": "LayoutModel",
     "state": {
      "_model_module": "@jupyter-widgets/base",
      "_model_module_version": "1.2.0",
      "_model_name": "LayoutModel",
      "_view_count": null,
      "_view_module": "@jupyter-widgets/base",
      "_view_module_version": "1.2.0",
      "_view_name": "LayoutView",
      "align_content": null,
      "align_items": null,
      "align_self": null,
      "border": null,
      "bottom": null,
      "display": null,
      "flex": null,
      "flex_flow": null,
      "grid_area": null,
      "grid_auto_columns": null,
      "grid_auto_flow": null,
      "grid_auto_rows": null,
      "grid_column": null,
      "grid_gap": null,
      "grid_row": null,
      "grid_template_areas": null,
      "grid_template_columns": null,
      "grid_template_rows": null,
      "height": null,
      "justify_content": null,
      "justify_items": null,
      "left": null,
      "margin": null,
      "max_height": null,
      "max_width": null,
      "min_height": null,
      "min_width": null,
      "object_fit": null,
      "object_position": null,
      "order": null,
      "overflow": null,
      "overflow_x": null,
      "overflow_y": null,
      "padding": null,
      "right": null,
      "top": null,
      "visibility": null,
      "width": null
     }
    },
    "d466a5aef79f4c50af199d8a56a69d9c": {
     "model_module": "@jupyter-widgets/base",
     "model_module_version": "1.2.0",
     "model_name": "LayoutModel",
     "state": {
      "_model_module": "@jupyter-widgets/base",
      "_model_module_version": "1.2.0",
      "_model_name": "LayoutModel",
      "_view_count": null,
      "_view_module": "@jupyter-widgets/base",
      "_view_module_version": "1.2.0",
      "_view_name": "LayoutView",
      "align_content": null,
      "align_items": null,
      "align_self": null,
      "border": null,
      "bottom": null,
      "display": null,
      "flex": null,
      "flex_flow": null,
      "grid_area": null,
      "grid_auto_columns": null,
      "grid_auto_flow": null,
      "grid_auto_rows": null,
      "grid_column": null,
      "grid_gap": null,
      "grid_row": null,
      "grid_template_areas": null,
      "grid_template_columns": null,
      "grid_template_rows": null,
      "height": null,
      "justify_content": null,
      "justify_items": null,
      "left": null,
      "margin": null,
      "max_height": null,
      "max_width": null,
      "min_height": null,
      "min_width": null,
      "object_fit": null,
      "object_position": null,
      "order": null,
      "overflow": null,
      "overflow_x": null,
      "overflow_y": null,
      "padding": null,
      "right": null,
      "top": null,
      "visibility": null,
      "width": null
     }
    },
    "d756c7ff408d4c53b09006c1d679ad54": {
     "model_module": "@jupyter-widgets/controls",
     "model_module_version": "1.5.0",
     "model_name": "FloatProgressModel",
     "state": {
      "_dom_classes": [],
      "_model_module": "@jupyter-widgets/controls",
      "_model_module_version": "1.5.0",
      "_model_name": "FloatProgressModel",
      "_view_count": null,
      "_view_module": "@jupyter-widgets/controls",
      "_view_module_version": "1.5.0",
      "_view_name": "ProgressView",
      "bar_style": "success",
      "description": "",
      "description_tooltip": null,
      "layout": "IPY_MODEL_738f078f46d74b8f9b2a020cedb6b59f",
      "max": 185,
      "min": 0,
      "orientation": "horizontal",
      "style": "IPY_MODEL_8499e6d51d924309ae24dd1e0dd8b4f4",
      "value": 185
     }
    },
    "d7a3ded73fec4db9b1675a3b75a640b1": {
     "model_module": "@jupyter-widgets/base",
     "model_module_version": "1.2.0",
     "model_name": "LayoutModel",
     "state": {
      "_model_module": "@jupyter-widgets/base",
      "_model_module_version": "1.2.0",
      "_model_name": "LayoutModel",
      "_view_count": null,
      "_view_module": "@jupyter-widgets/base",
      "_view_module_version": "1.2.0",
      "_view_name": "LayoutView",
      "align_content": null,
      "align_items": null,
      "align_self": null,
      "border": null,
      "bottom": null,
      "display": null,
      "flex": null,
      "flex_flow": null,
      "grid_area": null,
      "grid_auto_columns": null,
      "grid_auto_flow": null,
      "grid_auto_rows": null,
      "grid_column": null,
      "grid_gap": null,
      "grid_row": null,
      "grid_template_areas": null,
      "grid_template_columns": null,
      "grid_template_rows": null,
      "height": null,
      "justify_content": null,
      "justify_items": null,
      "left": null,
      "margin": null,
      "max_height": null,
      "max_width": null,
      "min_height": null,
      "min_width": null,
      "object_fit": null,
      "object_position": null,
      "order": null,
      "overflow": null,
      "overflow_x": null,
      "overflow_y": null,
      "padding": null,
      "right": null,
      "top": null,
      "visibility": null,
      "width": null
     }
    },
    "dbad5b911e6b453cb2741ba07e652282": {
     "model_module": "@jupyter-widgets/controls",
     "model_module_version": "1.5.0",
     "model_name": "HTMLModel",
     "state": {
      "_dom_classes": [],
      "_model_module": "@jupyter-widgets/controls",
      "_model_module_version": "1.5.0",
      "_model_name": "HTMLModel",
      "_view_count": null,
      "_view_module": "@jupyter-widgets/controls",
      "_view_module_version": "1.5.0",
      "_view_name": "HTMLView",
      "description": "",
      "description_tooltip": null,
      "layout": "IPY_MODEL_356aff1a7e854cb28ec52f26ea963c7d",
      "placeholder": "​",
      "style": "IPY_MODEL_4f290e38b5cb4719b67a86f2e5b0ea01",
      "value": "Loading checkpoint shards: 100%"
     }
    },
    "ddf8db292d5845849246931a7eb37542": {
     "model_module": "@jupyter-widgets/base",
     "model_module_version": "1.2.0",
     "model_name": "LayoutModel",
     "state": {
      "_model_module": "@jupyter-widgets/base",
      "_model_module_version": "1.2.0",
      "_model_name": "LayoutModel",
      "_view_count": null,
      "_view_module": "@jupyter-widgets/base",
      "_view_module_version": "1.2.0",
      "_view_name": "LayoutView",
      "align_content": null,
      "align_items": null,
      "align_self": null,
      "border": null,
      "bottom": null,
      "display": null,
      "flex": null,
      "flex_flow": null,
      "grid_area": null,
      "grid_auto_columns": null,
      "grid_auto_flow": null,
      "grid_auto_rows": null,
      "grid_column": null,
      "grid_gap": null,
      "grid_row": null,
      "grid_template_areas": null,
      "grid_template_columns": null,
      "grid_template_rows": null,
      "height": null,
      "justify_content": null,
      "justify_items": null,
      "left": null,
      "margin": null,
      "max_height": null,
      "max_width": null,
      "min_height": null,
      "min_width": null,
      "object_fit": null,
      "object_position": null,
      "order": null,
      "overflow": null,
      "overflow_x": null,
      "overflow_y": null,
      "padding": null,
      "right": null,
      "top": null,
      "visibility": null,
      "width": null
     }
    },
    "e03baada3f4842d89f11ba6dca53b92c": {
     "model_module": "@jupyter-widgets/base",
     "model_module_version": "1.2.0",
     "model_name": "LayoutModel",
     "state": {
      "_model_module": "@jupyter-widgets/base",
      "_model_module_version": "1.2.0",
      "_model_name": "LayoutModel",
      "_view_count": null,
      "_view_module": "@jupyter-widgets/base",
      "_view_module_version": "1.2.0",
      "_view_name": "LayoutView",
      "align_content": null,
      "align_items": null,
      "align_self": null,
      "border": null,
      "bottom": null,
      "display": null,
      "flex": null,
      "flex_flow": null,
      "grid_area": null,
      "grid_auto_columns": null,
      "grid_auto_flow": null,
      "grid_auto_rows": null,
      "grid_column": null,
      "grid_gap": null,
      "grid_row": null,
      "grid_template_areas": null,
      "grid_template_columns": null,
      "grid_template_rows": null,
      "height": null,
      "justify_content": null,
      "justify_items": null,
      "left": null,
      "margin": null,
      "max_height": null,
      "max_width": null,
      "min_height": null,
      "min_width": null,
      "object_fit": null,
      "object_position": null,
      "order": null,
      "overflow": null,
      "overflow_x": null,
      "overflow_y": null,
      "padding": null,
      "right": null,
      "top": null,
      "visibility": null,
      "width": null
     }
    },
    "e058556c0f36431687e44be87b93e1d3": {
     "model_module": "@jupyter-widgets/base",
     "model_module_version": "1.2.0",
     "model_name": "LayoutModel",
     "state": {
      "_model_module": "@jupyter-widgets/base",
      "_model_module_version": "1.2.0",
      "_model_name": "LayoutModel",
      "_view_count": null,
      "_view_module": "@jupyter-widgets/base",
      "_view_module_version": "1.2.0",
      "_view_name": "LayoutView",
      "align_content": null,
      "align_items": null,
      "align_self": null,
      "border": null,
      "bottom": null,
      "display": null,
      "flex": null,
      "flex_flow": null,
      "grid_area": null,
      "grid_auto_columns": null,
      "grid_auto_flow": null,
      "grid_auto_rows": null,
      "grid_column": null,
      "grid_gap": null,
      "grid_row": null,
      "grid_template_areas": null,
      "grid_template_columns": null,
      "grid_template_rows": null,
      "height": null,
      "justify_content": null,
      "justify_items": null,
      "left": null,
      "margin": null,
      "max_height": null,
      "max_width": null,
      "min_height": null,
      "min_width": null,
      "object_fit": null,
      "object_position": null,
      "order": null,
      "overflow": null,
      "overflow_x": null,
      "overflow_y": null,
      "padding": null,
      "right": null,
      "top": null,
      "visibility": null,
      "width": null
     }
    },
    "e07c576d7e1b494c91da25ace40a1d52": {
     "model_module": "@jupyter-widgets/controls",
     "model_module_version": "1.5.0",
     "model_name": "ProgressStyleModel",
     "state": {
      "_model_module": "@jupyter-widgets/controls",
      "_model_module_version": "1.5.0",
      "_model_name": "ProgressStyleModel",
      "_view_count": null,
      "_view_module": "@jupyter-widgets/base",
      "_view_module_version": "1.2.0",
      "_view_name": "StyleView",
      "bar_color": null,
      "description_width": ""
     }
    },
    "e3a413fef8d2402bbe99fe40c083945c": {
     "model_module": "@jupyter-widgets/controls",
     "model_module_version": "1.5.0",
     "model_name": "DescriptionStyleModel",
     "state": {
      "_model_module": "@jupyter-widgets/controls",
      "_model_module_version": "1.5.0",
      "_model_name": "DescriptionStyleModel",
      "_view_count": null,
      "_view_module": "@jupyter-widgets/base",
      "_view_module_version": "1.2.0",
      "_view_name": "StyleView",
      "description_width": ""
     }
    },
    "e56cd4bfa0d540bfbb968f79164f02ea": {
     "model_module": "@jupyter-widgets/controls",
     "model_module_version": "1.5.0",
     "model_name": "HBoxModel",
     "state": {
      "_dom_classes": [],
      "_model_module": "@jupyter-widgets/controls",
      "_model_module_version": "1.5.0",
      "_model_name": "HBoxModel",
      "_view_count": null,
      "_view_module": "@jupyter-widgets/controls",
      "_view_module_version": "1.5.0",
      "_view_name": "HBoxView",
      "box_style": "",
      "children": [
       "IPY_MODEL_9e88333f9f3249a9bfdac7a2e941b763",
       "IPY_MODEL_3c5e4ba6af0749a79e6b10b75dac5711",
       "IPY_MODEL_5e866663c73541ea93184e5486381dc4"
      ],
      "layout": "IPY_MODEL_beb3067cfcb24f939b543c93f0b6c883"
     }
    },
    "e71f04ac1ab4472da03543f662fb8491": {
     "model_module": "@jupyter-widgets/base",
     "model_module_version": "1.2.0",
     "model_name": "LayoutModel",
     "state": {
      "_model_module": "@jupyter-widgets/base",
      "_model_module_version": "1.2.0",
      "_model_name": "LayoutModel",
      "_view_count": null,
      "_view_module": "@jupyter-widgets/base",
      "_view_module_version": "1.2.0",
      "_view_name": "LayoutView",
      "align_content": null,
      "align_items": null,
      "align_self": null,
      "border": null,
      "bottom": null,
      "display": null,
      "flex": null,
      "flex_flow": null,
      "grid_area": null,
      "grid_auto_columns": null,
      "grid_auto_flow": null,
      "grid_auto_rows": null,
      "grid_column": null,
      "grid_gap": null,
      "grid_row": null,
      "grid_template_areas": null,
      "grid_template_columns": null,
      "grid_template_rows": null,
      "height": null,
      "justify_content": null,
      "justify_items": null,
      "left": null,
      "margin": null,
      "max_height": null,
      "max_width": null,
      "min_height": null,
      "min_width": null,
      "object_fit": null,
      "object_position": null,
      "order": null,
      "overflow": null,
      "overflow_x": null,
      "overflow_y": null,
      "padding": null,
      "right": null,
      "top": null,
      "visibility": null,
      "width": null
     }
    },
    "ebfa371f79a040be8634e4bdcb7501a6": {
     "model_module": "@jupyter-widgets/controls",
     "model_module_version": "1.5.0",
     "model_name": "FloatProgressModel",
     "state": {
      "_dom_classes": [],
      "_model_module": "@jupyter-widgets/controls",
      "_model_module_version": "1.5.0",
      "_model_name": "FloatProgressModel",
      "_view_count": null,
      "_view_module": "@jupyter-widgets/controls",
      "_view_module_version": "1.5.0",
      "_view_name": "ProgressView",
      "bar_style": "success",
      "description": "",
      "description_tooltip": null,
      "layout": "IPY_MODEL_1e5af488109646d1894e72a9606324d3",
      "max": 800,
      "min": 0,
      "orientation": "horizontal",
      "style": "IPY_MODEL_b9079e716385462e90a5c1dcf86fbb68",
      "value": 800
     }
    },
    "ec9251b90a74409e935267b52ec2b055": {
     "model_module": "@jupyter-widgets/controls",
     "model_module_version": "1.5.0",
     "model_name": "DescriptionStyleModel",
     "state": {
      "_model_module": "@jupyter-widgets/controls",
      "_model_module_version": "1.5.0",
      "_model_name": "DescriptionStyleModel",
      "_view_count": null,
      "_view_module": "@jupyter-widgets/base",
      "_view_module_version": "1.2.0",
      "_view_name": "StyleView",
      "description_width": ""
     }
    },
    "f39b71bc9c2f49638ea34075d619bf09": {
     "model_module": "@jupyter-widgets/controls",
     "model_module_version": "1.5.0",
     "model_name": "HBoxModel",
     "state": {
      "_dom_classes": [],
      "_model_module": "@jupyter-widgets/controls",
      "_model_module_version": "1.5.0",
      "_model_name": "HBoxModel",
      "_view_count": null,
      "_view_module": "@jupyter-widgets/controls",
      "_view_module_version": "1.5.0",
      "_view_name": "HBoxView",
      "box_style": "",
      "children": [
       "IPY_MODEL_4f8fedb585b1465c80dedab922a0ce5d",
       "IPY_MODEL_48727485ac41480e917d45c0245bd410",
       "IPY_MODEL_7a9dae17176f48c88166e165cba8c0e9"
      ],
      "layout": "IPY_MODEL_f5a6918122c748b49a5121db56ce4bc6"
     }
    },
    "f48b6bc14e664b0ab76a9f6468f00a2c": {
     "model_module": "@jupyter-widgets/controls",
     "model_module_version": "1.5.0",
     "model_name": "HBoxModel",
     "state": {
      "_dom_classes": [],
      "_model_module": "@jupyter-widgets/controls",
      "_model_module_version": "1.5.0",
      "_model_name": "HBoxModel",
      "_view_count": null,
      "_view_module": "@jupyter-widgets/controls",
      "_view_module_version": "1.5.0",
      "_view_name": "HBoxView",
      "box_style": "",
      "children": [
       "IPY_MODEL_51b4bc79263d429fa8c327498030c5cd",
       "IPY_MODEL_62511c090dbb4980a0ac57035e0ea6b4",
       "IPY_MODEL_6943cd5d3b11493398ad7d2d9b8b6b24"
      ],
      "layout": "IPY_MODEL_ae4bb0523aaf44f4923e160efa925855"
     }
    },
    "f5a6918122c748b49a5121db56ce4bc6": {
     "model_module": "@jupyter-widgets/base",
     "model_module_version": "1.2.0",
     "model_name": "LayoutModel",
     "state": {
      "_model_module": "@jupyter-widgets/base",
      "_model_module_version": "1.2.0",
      "_model_name": "LayoutModel",
      "_view_count": null,
      "_view_module": "@jupyter-widgets/base",
      "_view_module_version": "1.2.0",
      "_view_name": "LayoutView",
      "align_content": null,
      "align_items": null,
      "align_self": null,
      "border": null,
      "bottom": null,
      "display": null,
      "flex": null,
      "flex_flow": null,
      "grid_area": null,
      "grid_auto_columns": null,
      "grid_auto_flow": null,
      "grid_auto_rows": null,
      "grid_column": null,
      "grid_gap": null,
      "grid_row": null,
      "grid_template_areas": null,
      "grid_template_columns": null,
      "grid_template_rows": null,
      "height": null,
      "justify_content": null,
      "justify_items": null,
      "left": null,
      "margin": null,
      "max_height": null,
      "max_width": null,
      "min_height": null,
      "min_width": null,
      "object_fit": null,
      "object_position": null,
      "order": null,
      "overflow": null,
      "overflow_x": null,
      "overflow_y": null,
      "padding": null,
      "right": null,
      "top": null,
      "visibility": null,
      "width": null
     }
    },
    "f62fa036d76e4d4faa4d3ca51cb6f7ef": {
     "model_module": "@jupyter-widgets/base",
     "model_module_version": "1.2.0",
     "model_name": "LayoutModel",
     "state": {
      "_model_module": "@jupyter-widgets/base",
      "_model_module_version": "1.2.0",
      "_model_name": "LayoutModel",
      "_view_count": null,
      "_view_module": "@jupyter-widgets/base",
      "_view_module_version": "1.2.0",
      "_view_name": "LayoutView",
      "align_content": null,
      "align_items": null,
      "align_self": null,
      "border": null,
      "bottom": null,
      "display": null,
      "flex": null,
      "flex_flow": null,
      "grid_area": null,
      "grid_auto_columns": null,
      "grid_auto_flow": null,
      "grid_auto_rows": null,
      "grid_column": null,
      "grid_gap": null,
      "grid_row": null,
      "grid_template_areas": null,
      "grid_template_columns": null,
      "grid_template_rows": null,
      "height": null,
      "justify_content": null,
      "justify_items": null,
      "left": null,
      "margin": null,
      "max_height": null,
      "max_width": null,
      "min_height": null,
      "min_width": null,
      "object_fit": null,
      "object_position": null,
      "order": null,
      "overflow": null,
      "overflow_x": null,
      "overflow_y": null,
      "padding": null,
      "right": null,
      "top": null,
      "visibility": null,
      "width": null
     }
    },
    "f674f270e47340ecbc214aeec75aea8c": {
     "model_module": "@jupyter-widgets/base",
     "model_module_version": "1.2.0",
     "model_name": "LayoutModel",
     "state": {
      "_model_module": "@jupyter-widgets/base",
      "_model_module_version": "1.2.0",
      "_model_name": "LayoutModel",
      "_view_count": null,
      "_view_module": "@jupyter-widgets/base",
      "_view_module_version": "1.2.0",
      "_view_name": "LayoutView",
      "align_content": null,
      "align_items": null,
      "align_self": null,
      "border": null,
      "bottom": null,
      "display": null,
      "flex": null,
      "flex_flow": null,
      "grid_area": null,
      "grid_auto_columns": null,
      "grid_auto_flow": null,
      "grid_auto_rows": null,
      "grid_column": null,
      "grid_gap": null,
      "grid_row": null,
      "grid_template_areas": null,
      "grid_template_columns": null,
      "grid_template_rows": null,
      "height": null,
      "justify_content": null,
      "justify_items": null,
      "left": null,
      "margin": null,
      "max_height": null,
      "max_width": null,
      "min_height": null,
      "min_width": null,
      "object_fit": null,
      "object_position": null,
      "order": null,
      "overflow": null,
      "overflow_x": null,
      "overflow_y": null,
      "padding": null,
      "right": null,
      "top": null,
      "visibility": null,
      "width": null
     }
    },
    "f70583f151324821a2e1eb7da94d3f6f": {
     "model_module": "@jupyter-widgets/controls",
     "model_module_version": "1.5.0",
     "model_name": "ProgressStyleModel",
     "state": {
      "_model_module": "@jupyter-widgets/controls",
      "_model_module_version": "1.5.0",
      "_model_name": "ProgressStyleModel",
      "_view_count": null,
      "_view_module": "@jupyter-widgets/base",
      "_view_module_version": "1.2.0",
      "_view_name": "StyleView",
      "bar_color": null,
      "description_width": ""
     }
    },
    "f8fc6801a0084df68d72c7a4d8e1a86f": {
     "model_module": "@jupyter-widgets/controls",
     "model_module_version": "1.5.0",
     "model_name": "HBoxModel",
     "state": {
      "_dom_classes": [],
      "_model_module": "@jupyter-widgets/controls",
      "_model_module_version": "1.5.0",
      "_model_name": "HBoxModel",
      "_view_count": null,
      "_view_module": "@jupyter-widgets/controls",
      "_view_module_version": "1.5.0",
      "_view_name": "HBoxView",
      "box_style": "",
      "children": [
       "IPY_MODEL_76a53f9c92b74243a00e46a120f3b44c",
       "IPY_MODEL_37467446dfa247f2948f4a49f1e96d58",
       "IPY_MODEL_0ea87191bbc0419090adc81cb921d96b"
      ],
      "layout": "IPY_MODEL_5f87df0d6ad0429fba3fd041a59b6c59"
     }
    },
    "f9b70c43126247ddaa52eed5bc006e6e": {
     "model_module": "@jupyter-widgets/base",
     "model_module_version": "1.2.0",
     "model_name": "LayoutModel",
     "state": {
      "_model_module": "@jupyter-widgets/base",
      "_model_module_version": "1.2.0",
      "_model_name": "LayoutModel",
      "_view_count": null,
      "_view_module": "@jupyter-widgets/base",
      "_view_module_version": "1.2.0",
      "_view_name": "LayoutView",
      "align_content": null,
      "align_items": null,
      "align_self": null,
      "border": null,
      "bottom": null,
      "display": null,
      "flex": null,
      "flex_flow": null,
      "grid_area": null,
      "grid_auto_columns": null,
      "grid_auto_flow": null,
      "grid_auto_rows": null,
      "grid_column": null,
      "grid_gap": null,
      "grid_row": null,
      "grid_template_areas": null,
      "grid_template_columns": null,
      "grid_template_rows": null,
      "height": null,
      "justify_content": null,
      "justify_items": null,
      "left": null,
      "margin": null,
      "max_height": null,
      "max_width": null,
      "min_height": null,
      "min_width": null,
      "object_fit": null,
      "object_position": null,
      "order": null,
      "overflow": null,
      "overflow_x": null,
      "overflow_y": null,
      "padding": null,
      "right": null,
      "top": null,
      "visibility": null,
      "width": null
     }
    },
    "fd26bb63791e45458e37e213eeb59674": {
     "model_module": "@jupyter-widgets/controls",
     "model_module_version": "1.5.0",
     "model_name": "HTMLModel",
     "state": {
      "_dom_classes": [],
      "_model_module": "@jupyter-widgets/controls",
      "_model_module_version": "1.5.0",
      "_model_name": "HTMLModel",
      "_view_count": null,
      "_view_module": "@jupyter-widgets/controls",
      "_view_module_version": "1.5.0",
      "_view_name": "HTMLView",
      "description": "",
      "description_tooltip": null,
      "layout": "IPY_MODEL_f9b70c43126247ddaa52eed5bc006e6e",
      "placeholder": "​",
      "style": "IPY_MODEL_c7021e96a6fa4392b6c88f76253acf03",
      "value": " 800/800 [00:10&lt;00:00, 88.44 examples/s]"
     }
    }
   }
  }
 },
 "nbformat": 4,
 "nbformat_minor": 0
}
